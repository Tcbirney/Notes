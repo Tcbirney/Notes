{
 "metadata": {
  "language_info": {
   "codemirror_mode": {
    "name": "ipython",
    "version": 3
   },
   "file_extension": ".py",
   "mimetype": "text/x-python",
   "name": "python",
   "nbconvert_exporter": "python",
   "pygments_lexer": "ipython3",
   "version": 3
  },
  "orig_nbformat": 2
 },
 "nbformat": 4,
 "nbformat_minor": 2,
 "cells": [
  {
   "source": [
    "# Chcolate Key Cryptography"
   ],
   "cell_type": "markdown",
   "metadata": {}
  },
  {
   "source": [
    "## Confidentiality\n",
    "\n",
    "Information not be disclosed to unauthorized individuals. Encryption does this. AES provides confidentiality\n",
    "\n",
    "## Integrity\n",
    "\n",
    "Maintaining and assuring accuracy and completeness of data over its life cycle. Done at rest and in motion. Secure Hashing does this.\n",
    "\n",
    "## Availability\n",
    "\n",
    "Data is available when needed.\n",
    "\n",
    "## Non Repudiation\n",
    "Reciever cannot deny having recieved a transation. Sender cannot deny having send a transaction. We need a PKI for this\n",
    "\n",
    "## Authentication\n",
    "\n",
    "_Did this message come from the person I think its from. Is this the website I think it is._\n",
    "\n"
   ],
   "cell_type": "markdown",
   "metadata": {}
  },
  {
   "source": [
    "## Symmetric Encryption\n",
    "\n",
    "One end encrypts and one end decrypts. Used for online shopping. Both sides need the same key. But how does the other person get the key."
   ],
   "cell_type": "markdown",
   "metadata": {}
  },
  {
   "source": [
    "## Asymmetric Encryption\n",
    "\n",
    "Both sides have 2 keys, one public and one private. The public keys is available for both sides to see. Party 1 sends a message to party 2 that was encrypted with party 2's public key. And that message can only be decrypted with party 2's private key.\n",
    "\n",
    "Asymmetric encryption is used to send symmetric keys.\n"
   ],
   "cell_type": "markdown",
   "metadata": {}
  },
  {
   "source": [
    "## Requirements of a PKI\n",
    "\n",
    "- Must verify someones Identity\n",
    "- Must verify that the message has not been altered\n",
    "- Must verify that the message came form the person who signed it\n",
    "\n",
    "### 1 Suitcase 2 Keys\n",
    "\n",
    "Party One sends a message, encrypts it, and sends it to party two. Party two recieves it, locks it and then sends it back. Party one unlocks it and sends it to party two. Party two recieves it and unlocks it to read the message.\n",
    "\n",
    "This way by checking th locks on the message, we can check who the sender and recipient are, if the sender actually sent it, and if the recipient acutally recieved it.\n"
   ],
   "cell_type": "markdown",
   "metadata": {}
  },
  {
   "source": [
    "## Modification from Bad Actors\n",
    "\n",
    "We must be able to detect if someone has modified the message in between. Corruption and error detection comes into play.\n"
   ],
   "cell_type": "markdown",
   "metadata": {}
  },
  {
   "source": [
    "## Diffie Hellman Key Exchange\n",
    "\n",
    "The probelm is key management. There are too many keys being exchanged. One person could not open the message once it had been locked by two people.\n",
    "\n",
    "The goal here is to get both keys to one person. The two parties agree on a common key (symmetric). Neither can construct the key without the other.\n",
    "\n"
   ],
   "cell_type": "markdown",
   "metadata": {}
  },
  {
   "cell_type": "code",
   "execution_count": null,
   "metadata": {},
   "outputs": [],
   "source": []
  }
 ]
}