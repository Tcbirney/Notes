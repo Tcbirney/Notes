{
 "metadata": {
  "language_info": {
   "codemirror_mode": {
    "name": "ipython",
    "version": 3
   },
   "file_extension": ".py",
   "mimetype": "text/x-python",
   "name": "python",
   "nbconvert_exporter": "python",
   "pygments_lexer": "ipython3",
   "version": 3
  },
  "orig_nbformat": 2
 },
 "nbformat": 4,
 "nbformat_minor": 2,
 "cells": [
  {
   "source": [
    "# System Services\n",
    "\n",
    "System services __provide a convenient environment for program execution and development__\n",
    "\n",
    "- File Manipulation\n",
    "\n",
    "    This is where we can create, delete, copy, rename, print, dump, list, and generally manipulate files and directories\n",
    "\n",
    "- Status Information\n",
    "\n",
    "    Some system services here ask the sisyem for information like date, time, memory, disk space, or number of users. Others provide information such as performance, logging, and debugging information. These programs usually print output to the terminal or other output devices. Som systems implement a registry, which is used to store and retrieve configurtion information.\n",
    "\n",
    "- Programming Language Support\n",
    "    \n",
    "    This encompasses compilers, assembers, and debuggers. Interpreters are sometimes provided by the OS.\n",
    "\n",
    "- Program Loading and Execution\n",
    "- Communications\n",
    "- Background Services\n",
    "\n",
    "    We have services that launch at boot time. They provide facilities like disk checking, process scheduling, error logging or printing. These things are used in the user context and not the kernel context. They are knwon as services, subsystems, and daemons.\n",
    "\n",
    "- Application Programs\n",
    "\n",
    "    These are not pertaining to the system at all. They are run by the user and are not considered part of the OS. Any common application that I run."
   ],
   "cell_type": "markdown",
   "metadata": {}
  },
  {
   "source": [
    "## Linkers vs Loaders\n",
    "\n",
    "Source code is compiled into object files which are designed to be loaded into any physical memory location, which creates a relocatable object file. __Linkers__ combine these into a single binary executable file, and also brings in libraries. \n",
    "\n",
    "The code lies on secondary storage as a binary executable, where it is brought into memory by a loader to be executed.\n",
    "\n",
    "Most systems don't link libraries into executables. Dynamically linked libraries are libraries that are linked once and loaded as needed, as many subroutines may use the same libraries.\n",
    "\n",
    "### get the linker loader chart "
   ],
   "cell_type": "markdown",
   "metadata": {}
  },
  {
   "source": [
    "## Why are some applications operating system specific?\n",
    "\n",
    "Apps compiled on one system are not usually compatible with apps compiled on another operating system because each operating system provides its own unique sytem calls.\n",
    "\n",
    "Some apps however are compatible across OSs because\n",
    "\n",
    "- They are written in an interpreted language like python, which has an interpreter availabale on all of these systems.\n",
    "\n",
    "- They are written in a langiage that includes a virtual machine containing the running app, like Java and the Java VM\n",
    "\n",
    "- They use a standard language like C, which can compile on each operating system\n",
    "\n",
    "\n",
    "The Application Binary Interface (ABI) is the architecture equivalent of the API which defines how different components of binary code can interface for a given operating system on a given architecture, CPU, etc"
   ],
   "cell_type": "markdown",
   "metadata": {}
  },
  {
   "source": [
    "## OS Design and Implementation\n",
    "\n",
    "The design process is not solvable, but some approaches are effective\n",
    " \n",
    "The internal structure of different OSs can vary widely. The design process is started with goals and specifications. This is affected by the choice of hardware and type of system. There are user goals and system goals.\n",
    "\n",
    "Emulation - allows programs to run by emulating the architeture of another cpu\n"
   ],
   "cell_type": "markdown",
   "metadata": {}
  }
 ]
}