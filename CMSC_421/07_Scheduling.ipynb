{
 "metadata": {
  "language_info": {
   "codemirror_mode": {
    "name": "ipython",
    "version": 3
   },
   "file_extension": ".py",
   "mimetype": "text/x-python",
   "name": "python",
   "nbconvert_exporter": "python",
   "pygments_lexer": "ipython3",
   "version": 3
  },
  "orig_nbformat": 2
 },
 "nbformat": 4,
 "nbformat_minor": 2,
 "cells": [
  {
   "source": [
    "# Scheduling"
   ],
   "cell_type": "markdown",
   "metadata": {}
  },
  {
   "source": [
    "## Background\n",
    "\n",
    "Tasks can be executed concurrently, but may be interrupted at any time, partially completing execution. Concurrent access to shared data may end up in data inconsistency.\n",
    "\n",
    "Players\n",
    "- Producer\n",
    "- Consumer\n",
    "- Buffer \n",
    "- Counter\n",
    "\n",
    "Producers write dat to buffer as long as ther is space, and consumers read from buffer as long as there is data. BUT! we want to make sure producers and consumers don't try to read and write at the same time.\n"
   ],
   "cell_type": "markdown",
   "metadata": {}
  },
  {
   "source": [
    "## Critical Section Problem\n",
    "\n",
    "Consider a system of n processes. Each process has a critical section where the process amy be changing common variables. When one process is in its critical section, then no other process may be there as well. \n",
    "\n",
    "Each process must ask permission to enter a critical section in the entry section, and then leave the critical section though the exit section, and then will continue through the remainder section."
   ],
   "cell_type": "markdown",
   "metadata": {}
  },
  {
   "source": [
    "## Solution to Critical Section Problem\n",
    "\n",
    "__Mutual Exclusion__\n",
    "- If a process $p_i$ is executing in its critical section, then no other procss can execute in their critical sections.\n",
    "\n",
    "__Progress__\n",
    "- If no process is executing in their critical section and there is a process which wiches to enter their critical section, then the selection process that wishes to enter the critical section next cannot be postponed indefinitely.\n",
    "\n",
    "__Bounded Waiting__\n",
    "- A ound must exist on the number of times that other processes are allowed to enter their critical sections after a process has made a request to enter its critical section and before that request is granted.\n"
   ],
   "cell_type": "markdown",
   "metadata": {}
  },
  {
   "source": [
    "## Critical Section Handling in the os\n",
    "\n",
    "We have two solutions depending on of the OS is preemptive or non preemptive\n",
    "\n",
    "Preemptive - allows premption of a process when running in kernel mode.\n",
    "\n",
    "Nonpreemptive - runs until it exits kernel mode, blocks, or involuntarily yields CPU\n",
    "- essentially free of race conditions in kernel mode\n",
    "\n",
    "    Advantages of preemptive\n",
    "    - May be more responsive since there is less of a risk of a runaway process\n",
    "    - Better for real time computing"
   ],
   "cell_type": "markdown",
   "metadata": {}
  },
  {
   "source": [
    "## Sycnhronization Hardware\n",
    "\n",
    "Many CPUs provide hardware support for implementing the critical section code\n",
    "\n",
    "All solutions are based on the idea of locking.\n",
    "\n",
    "Uniprocessors can disable interrupts\n",
    "- this means that the currently executing code can run without preemption\n",
    "- too inefficient for multiprocessor systems, and does not scale\n",
    "\n",
    "Modern machines provide special atomic hardware instructions\n",
    "- atomic = non-interruptible\n",
    "    - either test memory word and set value\n",
    "    - or swap contents of two memory words\n",
    "\n"
   ],
   "cell_type": "markdown",
   "metadata": {}
  },
  {
   "source": [
    "## Mutex Locks\n",
    "\n",
    "Simplest of all Locks. Protect critical section with aquire() to set the lock, and then unlock it after critical section with release().\n",
    "    - these return boolean variables indicating if the lock is available or not\n",
    "\n",
    "These calls to aquire and release must be atomic.\n",
    "This solution is busy waiting and therefore makes it a spinlock\n",
    "\n",
    "Only one task at a time may aquire the mutex. Only the owner of the mutex can release the mutex.\n"
   ],
   "cell_type": "markdown",
   "metadata": {}
  },
  {
   "source": [
    "## Semaphore\n",
    "\n",
    "More sophisticated lock than mutexes. The Semaphore is an integer value.\n",
    "\n",
    "They are accessed with wait() and signal(). And keep track of how many threads are in line to use the lock. Semaphores are like a queue in that once the current user of the semphore is done, the next process in line can use it.\n",
    "\n",
    "We can set thte number of allowed processes to be 1, and then it will ahve the same functionality of a mutex.\n",
    "\n",
    "We can have semaphore implementation with no busy waiting.\n",
    "\n",
    "The sepahmore willhave an integer and a list pointer to the next process in line. The sephamore will use block to place the next process in the line, and then wakeup to move that process from the waiting wueue to the ready queue.\n",
    "\n",
    "```typedef struct{  \n",
    "int value;\n",
    "struct process *list;\n",
    "} semaphore;"
   ],
   "cell_type": "markdown",
   "metadata": {}
  },
  {
   "source": [
    "# Dealock and Starvation\n",
    "\n",
    "Deadlock - when two or more threads are waiting indefinitely for an event that can only occur from one of the waiting processes\n",
    "\n",
    "Starvation - when a thread may never be released from the sephamore queue in which it is suspended. From hung process which is using semaphore.\n",
    "\n",
    "Priority inversion - scheduling problem where lower priority thread halds a lock needed by a high priority thread"
   ],
   "cell_type": "markdown",
   "metadata": {}
  },
  {
   "source": [
    "## Readers Writer Problem\n",
    "\n",
    "If a dataset is shred among processes\n",
    "\n",
    "Readers - can only read the data\n",
    "Writers - can only write to it\n",
    "\n",
    "Problem - How do we allow multiple readers at the same time\n",
    "- We know we can only have one Writer\n",
    "\n",
    "We can either have a rw_mutex which has a read lock and a write lock\n",
    "\n",
    "Or we can have a mutex with a read_count, and only allows a lock when we are writing and read_count == 0\n",
    "\n",
    "The mutex version may lead to starvation and deadlock.\n",
    "\n",
    "Incorrect use of the semaphores can also cause deadlock and starvation."
   ],
   "cell_type": "markdown",
   "metadata": {}
  },
  {
   "source": [
    "## Monitors or Conductors\n",
    "\n",
    "High level abstraction that provides easy process synchronization. \n",
    "\n",
    "Abstract data type internal variables are only accessible by code within the procedure, but only one process form within the monitor may be active at a time.\n",
    "\n",
    "### Condition variables\n",
    "If we have the condition variables x, y then we can have a process invoke x.wait() which will suspend the process until it calls x.signal()\n",
    "\n",
    "Processes can resume other processes by signaling the condition variable that the other process is suspended in. However, the first process must then be suspended."
   ],
   "cell_type": "markdown",
   "metadata": {}
  }
 ]
}