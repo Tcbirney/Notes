{
 "metadata": {
  "language_info": {
   "codemirror_mode": {
    "name": "ipython",
    "version": 3
   },
   "file_extension": ".py",
   "mimetype": "text/x-python",
   "name": "python",
   "nbconvert_exporter": "python",
   "pygments_lexer": "ipython3",
   "version": 3
  },
  "orig_nbformat": 2
 },
 "nbformat": 4,
 "nbformat_minor": 2,
 "cells": [
  {
   "source": [
    "Create a new version of the linux kernel that adds various system calls that relate to interprocess communication. Implement message passing interface, which can be queued asynchronously by multiple processes.\n",
    "\n",
    "Follow the same steps to build the kernel, except starting from step 3. Remove /usr/src/vanilla-project0, and make /usr/src/vanilla-project2\n",
    "\n",
    "First non trivial commit should be made by March 10th.\n",
    "\n",
    "Encouraged to build a user space prototype before implementing it in the kernel, so we don't have to recompile the kernel everytime we want to make a change, as well as the ease in checking for memory errors with valgrind.\n",
    "\n",
    "Build prototype data structure in user space, not the entire one but just for some basic functions."
   ],
   "cell_type": "markdown",
   "metadata": {}
  },
  {
   "source": [
    "## Access Control\n",
    "\n",
    "Only the root user may "
   ],
   "cell_type": "markdown",
   "metadata": {}
  },
  {
   "source": [
    "## Review On Creating System Calls\n",
    "\n",
    "This info comes from the class website.\n",
    "\n",
    "You add the system call prototype in the syscalls.h file. We create a folder and files for each syscall. In each c file we need to do a syscall define calling the syscall prototype that does the proper functionality. \n",
    "\n",
    "Then we need to add the object file created for the new syscall into the makefile\n",
    "\n",
    "Thank we need to link the makefile with the kernels makefile. We need to add the folder of out syscall to the core section of the makefile\n",
    "\n",
    "Then the syscall needs to be added to the syscall table"
   ],
   "cell_type": "markdown",
   "metadata": {}
  },
  {
   "source": [
    "Then compile, install, and reboot the system as before to test the system."
   ],
   "cell_type": "markdown",
   "metadata": {}
  },
  {
   "source": [
    "Then we test system calls by calling them from within another c file from any where in the vm."
   ],
   "cell_type": "markdown",
   "metadata": {}
  }
 ]
}