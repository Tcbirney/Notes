{
 "metadata": {
  "language_info": {
   "codemirror_mode": {
    "name": "ipython",
    "version": 3
   },
   "file_extension": ".py",
   "mimetype": "text/x-python",
   "name": "python",
   "nbconvert_exporter": "python",
   "pygments_lexer": "ipython3",
   "version": 3
  },
  "orig_nbformat": 2
 },
 "nbformat": 4,
 "nbformat_minor": 2,
 "cells": [
  {
   "source": [
    "# Unix Permission Basics"
   ],
   "cell_type": "markdown",
   "metadata": {}
  },
  {
   "source": [
    "## CHMOD\n",
    "\n",
    "We can change permissions with the chmod command. Read = 4, Write = 2, Execute = 1. \n",
    "\n",
    "Chmod ABC specifies the user, group, and other permissions.\n",
    "\n",
    "There are three octets plus 1 byte to designate permissions. The first byte is the file type. D means directory, dash means its regular file.\n",
    "\n",
    "d  rwx w-x r--\n",
    "-  rw- rw- rw-\n",
    "\n",
    "The three octets describe the permissions for the owner, group, and other users."
   ],
   "cell_type": "markdown",
   "metadata": {}
  },
  {
   "source": [
    "### UMASK\n",
    "\n",
    "umask takes permissions away from the file. Umask 023 would take nothing away from the user, write permissions from the group users, and write and execute from the other users. This acts as an XOR for the file permissions.\n",
    "\n"
   ],
   "cell_type": "markdown",
   "metadata": {}
  },
  {
   "source": [
    "## Sticky Bit\n",
    "\n",
    "Prevents users from removing files for which they are not the owner.\n"
   ],
   "cell_type": "markdown",
   "metadata": {}
  },
  {
   "cell_type": "code",
   "execution_count": null,
   "metadata": {},
   "outputs": [],
   "source": []
  }
 ]
}