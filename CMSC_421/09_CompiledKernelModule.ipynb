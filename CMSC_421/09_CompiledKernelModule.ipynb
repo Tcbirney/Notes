{
 "metadata": {
  "language_info": {
   "codemirror_mode": {
    "name": "ipython",
    "version": 3
   },
   "file_extension": ".py",
   "mimetype": "text/x-python",
   "name": "python",
   "nbconvert_exporter": "python",
   "pygments_lexer": "ipython3",
   "version": 3
  },
  "orig_nbformat": 2
 },
 "nbformat": 4,
 "nbformat_minor": 2,
 "cells": [
  {
   "source": [
    "# Compiled Kernel Modules"
   ],
   "cell_type": "markdown",
   "metadata": {}
  },
  {
   "source": [
    "KErnel Modules allow us to modify the kinux kernel witjoud comilation and installation\n",
    "\n",
    "WE need one file to which will add/remove the code to the kernel, and then a makefile to compile that file.\n",
    "\n",
    "This is sample code which will add the kernel functions\n",
    "\n",
    "The functions prefaced with `__init` are executed upon insertion, and the functions prefaced with `__exit` are run when we remove the module\n",
    "\n",
    "```#include <linux/module.h>\n",
    "#include <linux/kernel.h>\n",
    "#include <linux/init.h>\n",
    "\n",
    "MODULE_LICENSE(“GPL”);\n",
    "MODULE_AUTHOR(“Instructor”);\n",
    "MODULE_DESCRIPTION(“Simple Hello World”);\n",
    "\n",
    "static int __init hello_init(void){\n",
    "    printk(KERN_INFO “Hello World, where’s my beer?”);\n",
    "    return 0;\n",
    "}\n",
    "static void __exit hello_cleanup(void){\n",
    "    printk(KERN_INFO “Clean up, aisle 3!\\n”);\n",
    "}\n",
    "\n",
    "module_init(hello_init);\n",
    "module_exit(hello_cleanup);\n",
    "\n"
   ],
   "cell_type": "markdown",
   "metadata": {}
  },
  {
   "source": [
    "And then we will have to compile this file and instert the code into the kernel with this makefile\n",
    "\n",
    "```\n",
    "obj-m += hello.o\n",
    "all:\n",
    "    make -C /lib/modules/$(shell uname -r)/build M=$(PWD)\n",
    "modules\n",
    "clean:\n",
    "    make -C /lib/modules/$(shell uname -r)/build M=$(PWD) clean\n"
   ],
   "cell_type": "markdown",
   "metadata": {}
  },
  {
   "source": [
    "When compiling we have to say `# make` since the  `#` is the root command prompt.\n",
    "\n",
    "Then we have to insert the kernel module we created after the compilation. WE will use the insmod (insert module) command.\n",
    "\n",
    "`# sudo insmod hello.ko` the ko stands for kernel object\n",
    "\n",
    "Then we can check dmesg to see if the proper massage for the init function has been run.\n",
    "\n",
    "We can remove the kernel module with `# sudo rmmod hello.ko` and check dmesg again for the propper message.\n",
    "\n"
   ],
   "cell_type": "markdown",
   "metadata": {}
  },
  {
   "cell_type": "code",
   "execution_count": null,
   "metadata": {},
   "outputs": [],
   "source": []
  }
 ]
}