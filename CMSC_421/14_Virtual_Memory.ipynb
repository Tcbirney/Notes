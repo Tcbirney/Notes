{
 "metadata": {
  "language_info": {
   "codemirror_mode": {
    "name": "ipython",
    "version": 3
   },
   "file_extension": ".py",
   "mimetype": "text/x-python",
   "name": "python",
   "nbconvert_exporter": "python",
   "pygments_lexer": "ipython3",
   "version": 3
  },
  "orig_nbformat": 2
 },
 "nbformat": 4,
 "nbformat_minor": 2,
 "cells": [
  {
   "source": [
    "# Virtual Memory"
   ],
   "cell_type": "markdown",
   "metadata": {}
  },
  {
   "source": [
    "## Background\n",
    "\n",
    "Programs don't need to be loaded in to memory in its entirety. We can run sections of a program at a time, and this increases CPU utilization with no increase in response. When there is less I\\O needed to load or swap programs into memory each user program runs faster.\n",
    "\n",
    "### Virtual memory\n",
    "\n",
    "Virtual Memory - Separation of user logical/virtual memory from physical memory\n",
    "\n",
    "Because only part of the program needs to be in memory for execution at any point in time\n",
    "- The logical address space can be larger than the physical address space\n",
    "- Allows address spaces to be shared by several processes\n",
    "- Allows for more efficient process creation\n",
    "- More programs running concurrently\n",
    "- Less I\\O needed to load or swap processes\n",
    "\n",
    "Virtual Address Space - the logical view of how process is stored in memory\n",
    "- usually starts at address 0, and is continuous until the end of memory needed\n",
    "- meanwhile, the physical memory is organized in page frames\n",
    "- MMU must map the logical space to the virtual space\n",
    "\n",
    "Virtual Memory can be implemented via __demand paging__ and __demand segmentation__\n"
   ],
   "cell_type": "markdown",
   "metadata": {}
  },
  {
   "source": [
    "<div style=\"text-align: center\"><img src=\"Pictures/virtual_memory.png\"></div>"
   ],
   "cell_type": "markdown",
   "metadata": {}
  },
  {
   "source": [
    "Virtual address space is the address space each program is allowed to reference, and the cpu will turn into physical address.\n",
    "\n",
    "Top to bottom we have a \n",
    "Stack - Stores stack pointers, used for function calls and recursion, grows downwards\n",
    "Heap - Stores dynamically allocated memory blocks, grows upwards\n",
    "Data - Stores the static Data\n",
    "Code - Stores the Code. Sometimes called the text section\n",
    "\n",
    "THis stack and heap allow for sparse address spaces with holes left for growth. __System Libraries are shared via mapping__. Pages can be shared during fork, speeding creation\n",
    "\n"
   ],
   "cell_type": "markdown",
   "metadata": {}
  },
  {
   "source": [
    "## Demand Paging\n",
    "\n",
    "Could bring entire process into at load time, or it can bring a page into real memory only when it is needed.\n",
    "\n",
    "When we ony bring the page into\n",
    "- less io is needed, no unnecessary io\n",
    "- less memory is needed\n",
    "- Faster response\n",
    "- More Users\n",
    "\n",
    "This is like a paging system, but with swapping, and more granular\n",
    "\n",
    "If a page is needed, then reference it\n",
    "- if it is a valid reference, abort\n",
    "- if it is valid but not in memory, then bring it to memory\n",
    "\n",
    "This is a lazy swapper, which means it never swaps a page into memory unless the page is needed\n",
    "- a swapper that deals with pages is called a pager\n",
    "\n",
    "\n",
    "<div style=\"text-align: center\"><img src=\"Pictures/demand_paging.png\"></div>"
   ],
   "cell_type": "markdown",
   "metadata": {}
  },
  {
   "source": [
    "## Swapping\n",
    "\n",
    "### Basic Concepts\n",
    "\n",
    "With swapping the pager guesses how many pages will be used before paging out again\n",
    "\n",
    "Instead, the pager only brings in needed pages\n",
    "- hardware needs to be fast\n",
    "- We need an MMU functionality to implement demand paging\n",
    "\n",
    "If pages needed are already memory resident\n",
    "- then there is no difference between non demand paging\n",
    "\n",
    "Accessing memory from ram is slow, this is why hyperthreading is good (more cpu registers). Accessing the disk is even slower, so we need to keep the cpu busy\n",
    "\n",
    "Each Process has its own page table. The page table indicates if the page is in RAM or disk\n",
    "\n",
    "With each page table entry, there is a valid and invalid bit associated with each page\n",
    "\n",
    "V means page is memory resident and i means not in memory\n",
    "\n",
    "Durring MMU Address translation, if the valid invalid bit is i, then we get a page fault\n"
   ],
   "cell_type": "markdown",
   "metadata": {}
  },
  {
   "source": [
    "# Page Replacement\n",
    "\n",
    "Paging Out = moving from main memory to secaondary memory\n",
    "\n",
    "Frame Table = keeps track of what blocks of physical memory are mapped to what page\n",
    "\n",
    "If the page is not in the page Table, then we find the desired page from secondary memory.\n",
    "\n",
    "Find a new free frame in the processes page table, hopefully one that is not in use.\n",
    "- If there is a free frame\n",
    "    - use that frame to store the page {id/data}\n",
    "- else use a lage replacement algo to select a victim frame\n",
    "    - write the victim frame to secondary storage if needed\n",
    "    - change the page and freme table   \n",
    "    - continue the process form where the page fault occured"
   ],
   "cell_type": "markdown",
   "metadata": {}
  },
  {
   "source": [
    "## Modify And Dirty Bit\n",
    "\n",
    "Used to increase performance Each Page or frame has a modify/dirty Bit\n",
    "\n",
    "This is set when a byte in the page is writteninto indicating that the page has been modified. Page Data != Physical Memory Data\n",
    "\n",
    "If the dirty bit is set, then we must write the changes of the page to the memory and then we can access the page\n",
    "\n",
    "If not then we can directly access the page\n",
    "\n"
   ],
   "cell_type": "markdown",
   "metadata": {}
  },
  {
   "source": [
    "## Page Fault\n",
    "\n",
    "If there is a reference to a page to read or write, the first reference to that page will trap the operating system (since it is not yeat in the page table and the valid bit is 'i')\n",
    "\n",
    "1. The operating system looks at another table to see If\n",
    "- invalid reference -> abort\n",
    "- Just not in main memory\n",
    "\n",
    "2. Find a Free Frame in the ram\n",
    "\n",
    "3. Move the Page from Disk Frame into the RAM frame via a scheduled Disk operation\n",
    "\n",
    "4. Reset The page table to indicate that the page is now in main memory, and set the valid bit = v\n",
    "\n",
    "5. Restart the instruction that caused a page Fault\n"
   ],
   "cell_type": "markdown",
   "metadata": {}
  },
  {
   "source": [
    "# Aspects of Demand Paging\n",
    "\n",
    "Extreme - Start With No pages in memory\n",
    "- OS sets an instruction pointer to first instruction of process, non memory resident which cause a page fault\n",
    "\n",
    "- __Pure Demand Paging__\n",
    "\n",
    "\n",
    "- An instruction could access mupltiple pages ona  single command, causing musplt page faults\n",
    "    -Consider an instruction which adds two numbers and stores the value back into memory. If the two numbers are on different pages we have a problem\n",
    "\n",
    "    __Locality of REFERENCE__?\n",
    "\n",
    "We need hardware support for demand Paging\n",
    "- page table with invalid / valid bit\n",
    "- secondary memory (swap device with swap space)\n",
    "- INstruction restart\n",
    "\n"
   ],
   "cell_type": "markdown",
   "metadata": {}
  },
  {
   "source": [
    "## Demand Paging Optimization\n",
    "\n",
    "Swap Space IO is faster than file system IO, even when on the same device.\n",
    "- Swap is allocated in larger chunks, less management needed than a file system\n",
    "\n",
    "We copy the entire process image to the swap space at process load time\n",
    "\n",
    "Page in from program binary on disk, but discard rather than paging out when freeing frame.\n",
    "- except for data not associated with a file, like stack, heap, and dirty pages\n",
    "\n"
   ],
   "cell_type": "markdown",
   "metadata": {}
  },
  {
   "source": [
    "## Copy On Write\n",
    "\n",
    "vfork and fork system call has a parent suspend and child using copy on write address space on parent.\n",
    "- designed to have child call exec()\n",
    "\n",
    "very efficient\n",
    "\n",
    "Copy On Write allows both parent and child processes to intially share the same pages in memory\n",
    "- if either process modifies a page then the page is copied\n",
    "\n",
    "Free pages are allocated from a pool of zero fill on demand pages\n",
    "\n",
    "The calling process uses the copy of the page in memory because the other process assumes its data has not been changed"
   ],
   "cell_type": "markdown",
   "metadata": {}
  },
  {
   "source": [
    "## What happens if theres no free frame(No free ram)\n",
    "\n",
    "Page Replacement- find a page that has not been used for a while and page it out\n",
    "\n",
    "Prevent over allocation of memory by modifying page fault service to include page Replacement\n",
    "\n",
    "Use the dirty bit to reduce overhead of page transfers. Only modified pages are written to disk."
   ],
   "cell_type": "markdown",
   "metadata": {}
  },
  {
   "source": [
    "# Page and Frame Replacement Algorithms\n",
    "\n",
    "Frame Allocation algotithm determines\n",
    "- How many Frames to give each process\n",
    "- Which frames to Replace\n",
    "\n",
    "Page Replacement Algorithm\n",
    "- We want the lowest page fault rate on both first access and reaccess\n",
    "\n",
    "OPtimize with a reference string\n",
    "\n",
    "First in first out\n",
    "- page tables stored in order of page fault. Increment where the next page fault will be stored and keep on moving, cycling through untill we get to the top of the page table. Now we have reaccess page faults where we will page in and page out data\n",
    "\n",
    "Lest Recently Used\n",
    "Each page has a counter, look in all pages to see least recently usde\n",
    "\n",
    "LRU needs special hardware and is still slow.\n",
    "needs a referenced bit\n",
    "second chance Algorithm\n",
    "\n",
    "\n"
   ],
   "cell_type": "markdown",
   "metadata": {}
  },
  {
   "source": [
    "## Trashing \n",
    "\n",
    "If a process doesn't have enough pages, then the fault rate is pretty high \n",
    "- low cpu utilization\n",
    "- os thinking it needs more parallel computing\n",
    "- another process added further slowing down cpu\n",
    "\n",
    "Thrashing = busy swapping pages in and out\n",
    "\n",
    "<div style=\"text-align: center\"><img src=\"Pictures/thrashing.png\"></div>\n"
   ],
   "cell_type": "markdown",
   "metadata": {}
  },
  {
   "source": [
    "## Key Topics\n",
    "\n",
    "Advantages of Paging\n",
    "\n",
    "How does paging allow virtual memory to work?\n",
    "\n",
    "Can a process start with no pages in memory, dee demand paging\n",
    "\n",
    "Note that shared libraries are shared among processes\n",
    "\n",
    "Why do page tables have a bit that indicates whether a page table is in memory or on disk?\n",
    "\n",
    "What is the locality of reference and why is it important in paging?\n",
    "\n",
    "How does copy on write increase performace?\n",
    "\n",
    "What is the dirty bit and how did it get to be dirty?\n",
    "\n",
    "How does thrashing work degrade the performance of he computer?\n",
    "\n",
    "How do you fix thrashing?\n",
    "\n",
    "What is the translation lookaside buffer?\n",
    "\n"
   ],
   "cell_type": "markdown",
   "metadata": {}
  }
 ]
}