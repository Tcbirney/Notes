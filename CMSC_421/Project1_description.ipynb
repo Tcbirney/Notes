{
 "metadata": {
  "language_info": {
   "codemirror_mode": {
    "name": "ipython",
    "version": 3
   },
   "file_extension": ".py",
   "mimetype": "text/x-python",
   "name": "python",
   "nbconvert_exporter": "python",
   "pygments_lexer": "ipython3",
   "version": 3
  },
  "orig_nbformat": 2
 },
 "nbformat": 4,
 "nbformat_minor": 2,
 "cells": [
  {
   "source": [
    "## Due Date: Sunday Feb 28th\n",
    "\n",
    "C programming assignment in user space. No Kernel compiling. Some starter code given. Designed to be coded on the vm.\n",
    "\n",
    "### 2 parts to the project\n",
    "1. Build basic shell which can run other programs\n",
    "2. Build something with proc\n",
    "\n",
    "\n",
    "What is a shell. Tool that user can interact with the system and run programs with. Pretty much a terminal. When we type ls, the shell actually finds a program called /bin/ls, and executes it. No GUIs.\n",
    "\n",
    "- [x] Accept assignment on Piazza\n",
    "- [ ] Download Vscode on VM\n",
    "- [ ] Clone Repo\n",
    "- [ ] Review Outline\n",
    "\n",
    "## Incremental Design\n",
    "\n",
    "4 non trivial commits required for the project, and one must be done by Sunday Feb 21st. A non trivial commit consists of 10 lines of real code changed (no comments or makefile changes)"
   ],
   "cell_type": "markdown",
   "metadata": {}
  },
  {
   "source": [
    "## Requirements\n",
    "\n",
    "### Part 1\n",
    "Program is run with no arguments, and will them prompt for command. If run with arguments, print to std_err. Shell will accept inputs of any length, and accept any number of arguments which are in the command.\n",
    "\n",
    "Command is first argument and paramters are next. Command could be name of program or relative path. Must be able to handle escape sequences and quoting. __example:__ `echo \"hello /n world\"\n",
    "\n",
    "Must support built in exit command. Exit(n) exits with status code n, where there is only one parameter in n and it is an integer. When we exit, it must free all memory.\n",
    "\n",
    "### Part 2\n",
    "Implement program to read command given from proc virtual filesystem. The program should be able to read information from files in proc. CPU info, load average, status, environ, and skid file.\n",
    "\n",
    "Need to write read me as well"
   ],
   "cell_type": "markdown",
   "metadata": {}
  },
  {
   "source": [
    "What is /proc\n",
    "\n",
    "A directory off of root. df -k shows mounted filesystems. Shows information about a process\n",
    "\n",
    "ps -ef | grep 1733 shows what process 1733 is"
   ],
   "cell_type": "markdown",
   "metadata": {}
  }
 ]
}