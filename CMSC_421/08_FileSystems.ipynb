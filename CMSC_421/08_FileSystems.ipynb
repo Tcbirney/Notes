{
 "metadata": {
  "language_info": {
   "codemirror_mode": {
    "name": "ipython",
    "version": 3
   },
   "file_extension": ".py",
   "mimetype": "text/x-python",
   "name": "python",
   "nbconvert_exporter": "python",
   "pygments_lexer": "ipython3",
   "version": 3
  },
  "orig_nbformat": 2
 },
 "nbformat": 4,
 "nbformat_minor": 2,
 "cells": [
  {
   "source": [
    "# File Systems"
   ],
   "cell_type": "markdown",
   "metadata": {}
  },
  {
   "source": [
    "## FS Structure\n",
    "\n",
    "Logical Storage Unit, aor a collection of related information\n",
    "\n",
    "They reside on secondary storage. The kernel driver is the user interface to storage, which maps logical to physical. It provides efficient and convenient access to the disk by allowing data to be stored, located and retrieved efficiently.\n",
    "\n",
    "Spinning disks provide in place read write and random access\n",
    "    - io transfers are performed in blocks, or sectors (usually 512 bytes)\n",
    "\n",
    "File Control Block (FCB) - storage structure consisting of information about a File\n",
    "\n",
    "Decive Driver - controls the physical device\n",
    "\n",
    "The device or kernel driver abstracts the drive.. Programmer does not need to know how data is arranged on disk.\n",
    "\n",
    "The file system is organized into layers."
   ],
   "cell_type": "markdown",
   "metadata": {}
  },
  {
   "source": [
    "## Layered File System\n",
    "\n",
    "1. Application Programs\n",
    "2. Logical file System\n",
    "3. File organization Module\n",
    "4. Basic FIle System\n",
    "5. I/O control\n",
    "6. Devices\n",
    "\n",
    "Device drivers manage Devices and I/O control Layer\n",
    "- would give command like \"read drive1, cylinder72, track2, sector10, into mem location 1060\"\n",
    "\n",
    "Basic File System would be given a command like \"retrieve block 123\" and translate it to a device driver. It also manages memory buffers and caches (allocating, freeing, and replacement)\n",
    "    - buffers hold data in transit\n",
    "    - caches hold frequently used data\n",
    "\n",
    "File Organization Module understands files, logical addresses, and physical blocks\n",
    "- it translates the logical plock number to the physical block number\n",
    "- it manages free space and disk allocation\n",
    "\n",
    "THe Logical FIle System manages the metadat information. Translates the filename into a file number, file handle, location, by maintaining the control blocks, inodes in UNIX\n",
    "- directory management, and data protection\n",
    "\n",
    "Layering is usefull for reducing complexity and redundancy, but adds overhead and can decrease performance. Logical Layers can be implemented by adding any coding methods according to the OS designer.\n",
    "\n",
    "Many OSs have their own file system. Unif has UFS and FFS, Windows has FAT, FAT32, NTFS as well as floppy. Linux has more than 130 types with extended filesystem"
   ],
   "cell_type": "markdown",
   "metadata": {}
  },
  {
   "source": [
    "## File System Operations\n",
    "\n",
    "We have system calls like open(), read(), write(), and close() at the api level but how do we implement them\n",
    "- on disk and in memory structures.\n",
    "\n",
    "Boot control block\n",
    "- contains info needed by the system in order to boot the OS from that volume\n",
    "- Needed if volume contains OS, usually the first block of volume\n",
    "- GPT or GUID\n",
    "\n",
    "Volume Control block (superblock, master file table)\n",
    "- contains volume details\n",
    "    - total number of blocks, # of free blocks, # block size, free block pointers or array\n",
    "\n",
    "Directory structure organizes the files"
   ],
   "cell_type": "markdown",
   "metadata": {}
  },
  {
   "source": [
    "## File System Implementation\n",
    "\n",
    "Per file File-Control-Block contains details about the file.\n",
    "- inode number, permissions, size, dates\n",
    "- NTFS stores it itnot mater file tables using relational db structures\n"
   ],
   "cell_type": "markdown",
   "metadata": {}
  },
  {
   "source": [
    "## In memory file system structures.\n",
    "\n",
    "Mount Table\n",
    "- storing system mounts, mount points, file system types\n",
    "\n",
    "System Wide open file table\n",
    "- contains a copy of the FCB of each file and other information\n",
    "\n",
    "Per Process Open File Table \n",
    "- contains pointers to appropriate entries in system wide open file table as well as other info\n"
   ],
   "cell_type": "markdown",
   "metadata": {}
  },
  {
   "source": [
    "## Open()\n",
    "\n",
    "Passes filename to the logical file system. The it searches the system wide open file table to determine of its in use.\n",
    "- If it is in use, then a per process open file table entry is created pointing to the existing system wide open file table\n",
    "- it it is not in use, then an entry is made in the per process open file table, with a pointer to the entry in the system wide open file table."
   ],
   "cell_type": "markdown",
   "metadata": {}
  },
  {
   "source": [
    "## Directory Implementation\n",
    "\n",
    "Linear list of file names with pointer to the data blocks\n",
    "- simple to program\n",
    "- time consuming to execute\n",
    "    - linear search time\n",
    "    - could keep ordered alphabetically with linked list or B+ tree\n",
    "\n",
    "Hash Table - linear list with hash data structure\n",
    "- Decreases directory search time\n",
    "- collisions - situations where two file names hash to the same location\n",
    "- only good entries are fixed size, or use chained overflow method.\n",
    "\n"
   ],
   "cell_type": "markdown",
   "metadata": {}
  },
  {
   "source": [
    "## Allcoation Methods\n",
    "\n",
    "### Contiguous\n",
    "\n",
    "An allocation method refers to how disk blocks are allocated for files.\n",
    "\n",
    "Contiguous allocation - each file occupies a set of contiguous blocks\n",
    "- best performances in most case for a spinngin drive.\n",
    "- only starting point and number of blocks are required\n",
    "- finding space for file, knowing file size, external fragmentations, and downtime/online are issues of this method however.\n",
    "\n",
    "### Event Based systems\n",
    "\n",
    "Many newer filesystems use a modified contiguous allocation methods \n",
    "\n",
    "Event based filesystems allocate disk blocks in extents\n",
    "- an extens is a continous block of disk space\n",
    "    - extents are allocated for file allocation\n",
    "    - a file consists of one or more extents\n",
    "\n",
    "### Linked\n",
    "Linked allocation is when each file is a linked list of blocks\n",
    "- file ends at the NIL pointer\n",
    "- no external fragmentations\n",
    "- ech block contains a pointer to the next\n",
    "- no compaction\n",
    "- free space management by clustering blocks into groups but increates internal fragmentations\n",
    "- reliability can be an issue\n",
    "- localting a block can be time consuming\n",
    "\n",
    "FAT (File allocation table) variation\n",
    "- biginning of volume has a table, indexed by block number\n",
    "- Much like a LL, but faster on disk and cacheable\n",
    "- new block allocation is simple\n",
    "\n",
    "### Indexed \n",
    "\n",
    "Indexed allocation is when eeach file has its own index block(s) of pointrs to its data blocks.\n"
   ],
   "cell_type": "markdown",
   "metadata": {}
  },
  {
   "source": [
    "## Performance\n",
    "\n",
    "Best method depends on the file access type\n",
    "- contigous is great for sequential and random access\n",
    "- Linked is good for sequential but not random\n",
    "- We declare access type at creation. We select eaither contiguous or Linked\n",
    "\n",
    "Index is more complex\n",
    "- single block access could require 2 index block reads before we read data\n",
    "- clustering can help improve thoughout\n",
    "\n",
    "For NVM there is no disk overhead, so different algorithms and optimization schemes are needed. Want to reduce cpu utiliation rather than dsik head searching.\n"
   ],
   "cell_type": "markdown",
   "metadata": {}
  },
  {
   "source": [
    "## Free Space Management\n",
    "\n",
    "The FS maintains a free-space list to track available blocks/clusters\n",
    "\n",
    "We have a bit vector or bit map to keep track of which blocks are available. 1 for free 0 for occupied.\n",
    "The block number calculation is (number of bits per word)*(number of 0-value words) + offset of first bit\n",
    "\n",
    "### Linked Free Space on Disk\n",
    "- Cannot get contiguous space easily\n",
    "- no waste of space however\n",
    "- no need to traverse the entire list if the number of free blocks are recorded.\n",
    "\n",
    "Grouping\n",
    "- modifying linked list to store the address of the next n-1 free blocks in the first free block, plus a pinter to the next block that contains three block pointers\n",
    "- Counting, Because space is always being contiguously used and freed, with contiguous allocation, extents, or clustering\n",
    "    - We keep addresses addresses of the first free block and count the following free blocks\n",
    "    - the free space list then has entries containing addresses and counts."
   ],
   "cell_type": "markdown",
   "metadata": {}
  },
  {
   "source": [
    "## SDD trim\n",
    "\n",
    "Tells the sdd that specific areas have blocks no longer in use.Data has been deleted form a document maybe. Active garbage collection will free that space in the memory during an idle time. If we didn't have that, then the SDD would have to erase the data right before writing back to it, which would take more time\n",
    "\n",
    "Trimming Unused Blocks\n",
    "\n",
    "Spinning Drived overwrite inplace, so only need to free list\n",
    "\n",
    "Blocks are not treated specially when freeing\n",
    "- it keeps its data but without any file pointers to it, until overwritten\n",
    "\n",
    "Storage devieces not allowing overwrite(like NVM) suffer with this algorithm\n",
    "- it must be erased efore writter, and erasing large chunks is slow\n",
    "- TRIM is newer and allows the file system to inform the NVM ssd that a page is free\n",
    "\n",
    "### Efficiency and Performance\n",
    "\n",
    "Efficiency Depends on\n",
    "- disk allocation and directory algorithm\n",
    "- Types of data kept in files directory entry\n",
    "- Pre allocation or as needed allocation of metadata structures\n",
    "- fixed size or varying size data structures\n",
    "\n",
    "Performance Depends on\n",
    "- keeping metaata and data close together\n",
    "- Buffer cache - separates ram for frequently used blocks\n",
    "- Synchronous writes sometimes requested by apps or are needed by os\n",
    "    - no buffereing or cacheing - writes must hit before acknowledgement\n",
    "    - asynchronous writes are more common, bufferable, and faster (write through no allocate)\n",
    "\n",
    "- Free Behind\n",
    "    - Removes a page from the buffer as soon as the next page is requested. Previous pages are not likely to be requested\n",
    "- Read ahead\n",
    "    - A requested page and several subsequent pages are read and cached, these pages are likely to be requested after the current page is processed\n",
    "\n"
   ],
   "cell_type": "markdown",
   "metadata": {}
  },
  {
   "source": [
    "## Page Cache\n",
    "\n",
    "Caches pages rather than disk blocks, using virtual memory techniques and addresses\n",
    "- memory mapped IO uses page Caches\n",
    "- routine IO though the file system uses the buffer(disk) Cache"
   ],
   "cell_type": "markdown",
   "metadata": {}
  },
  {
   "source": [
    "## Buffer Cache\n",
    "\n",
    "The buffer cache allows us to cache both the memory mapped pages and the ordinary file system IO to avoid double caching.\n",
    "\n",
    "_Which page gets priotiy and what replacement algorithms do we use_\n"
   ],
   "cell_type": "markdown",
   "metadata": {}
  },
  {
   "source": [
    "## Recovery\n",
    "\n",
    "Consistecy Checking compares data in the directory stucture with blocks on the disk, and tries to fix inconsistencies.\n",
    "- can be slow and sometimes fails\n",
    "\n",
    "User system programs to back up data from one disk to another, and then later used to recover the data"
   ],
   "cell_type": "markdown",
   "metadata": {}
  },
  {
   "source": [
    "## Log Structured File Systems\n",
    "\n",
    "Record each metadata update to the filesystem as a transaction\n",
    "\n",
    "All transactions are written to a log\n",
    "- considered commited once it is written to teh log (sequentially)\n",
    "- sometimes in seperate disk or seperate section of disk\n",
    "- FS may not be updated yet\n",
    "\n",
    "The transactionsa are sequentially written to the log  asycnronously to the fs structures when the computer has spare time.\n",
    "    - when the fs system structures are modified, the transaction is removed form the log.\n",
    "\n",
    "If the fs crashes, then the remaining transactions in the log must still be performed when the computer comes back up\n",
    "\n",
    "This means faster recovery from crash , and removes the chance of inconsistency of metadata\n",
    "\n"
   ],
   "cell_type": "markdown",
   "metadata": {}
  },
  {
   "cell_type": "code",
   "execution_count": null,
   "metadata": {},
   "outputs": [],
   "source": []
  }
 ]
}