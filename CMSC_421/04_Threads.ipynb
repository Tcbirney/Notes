{
 "metadata": {
  "language_info": {
   "codemirror_mode": {
    "name": "ipython",
    "version": 3
   },
   "file_extension": ".py",
   "mimetype": "text/x-python",
   "name": "python",
   "nbconvert_exporter": "python",
   "pygments_lexer": "ipython3",
   "version": 3
  },
  "orig_nbformat": 2
 },
 "nbformat": 4,
 "nbformat_minor": 2,
 "cells": [
  {
   "source": [
    "# Threads\n",
    "\n",
    "\n",
    "## Context Switch\n",
    "\n",
    "Happens when we have a state change for a process. \n",
    "\n",
    "\n",
    "## Process creation\n",
    "\n",
    "Parent process create child processes and so on. Creatning a tree of processes. Identified by a PID\n",
    "\n",
    "Resource sharing options\n",
    "\n",
    "parent and child share same resources or children share subset of parents resources, or resources are not shared between parent and child.\n",
    "\n",
    "\n",
    "Address space\n",
    "child is duplicate of parent, then program is loaded into child\n",
    "\n",
    "fork() exec()\n",
    "\n",
    "systemd or init are the first process started, with PID = 1\n",
    "\n",
    "## Process Termination\n",
    "Process executes last statement and then asks operating system to delete it by using the exit() system call. Child returns data to os via wait() sys call, processes resources are deallocated by OS. If children process are causing errors, we can use the abort syscall.\n",
    "- exceeded allocated resources, task is no longer required, parent exits, but child was still running\n",
    "\n",
    "- cascadeing termination, kindof like recursively freeing a list\n",
    "\n",
    "`pid = wait(&status)` returns status info nd pid of terminated process. Use by parent to wait for termination of child process.\n",
    "\n",
    "zombie process - when no parent is waiting, then process is zombie. Processes that are no longer doing productive work. When a child terminates, it will return an exit code, that the parent must read before the child is considered fully terminated. The time in between when the process stops making productive work, and the time that it is reaped, it is considered a zombie. oNly occupy space in the process table. They take no space in memory or cpu.\n",
    "\n",
    "orphan - when the parent was terminated without invoking wait. Orphanned children processes are immediately adopted by systemd. Init automatically reaps its children when appropriate. Parents parent will adopt orhan before init will. If no available kin, then init will take it. Orphans can be ready, running, or in waiting.\n",
    "\n",
    "either way parent terminated before child.\n"
   ],
   "cell_type": "markdown",
   "metadata": {}
  },
  {
   "source": [
    "## Multiprocess architecture\n",
    "\n",
    "Example as a browser\n",
    "\n",
    "Chrome has 3 main processes\n",
    "\n",
    "Browser - Handles UI, disk, network, and I/O\n",
    "Renderer - processes and renders web pages. HTML and javascript. This runs in a sandbox, which containerizes IO and hardware resources.\n",
    "Plug in - process for each type of plug in"
   ],
   "cell_type": "markdown",
   "metadata": {}
  },
  {
   "source": [
    "## Interprocess communication\n",
    "\n",
    "processes may be independent or cooperating. Cooperating resources can be affected by other processes including sharing data. COoperating resources need interprocess communication (IPC)\n",
    "\n",
    "- Shared Mmeory\n",
    "- Message Passing\n",
    "- Sockets\n",
    "- Remote Procedure Call\n",
    "- Pipes\n"
   ],
   "cell_type": "markdown",
   "metadata": {}
  }
 ]
}