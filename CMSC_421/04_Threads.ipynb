{
 "metadata": {
  "language_info": {
   "codemirror_mode": {
    "name": "ipython",
    "version": 3
   },
   "file_extension": ".py",
   "mimetype": "text/x-python",
   "name": "python",
   "nbconvert_exporter": "python",
   "pygments_lexer": "ipython3",
   "version": "3.8.5-final"
  },
  "orig_nbformat": 2,
  "kernelspec": {
   "name": "python3",
   "display_name": "Python 3",
   "language": "python"
  }
 },
 "nbformat": 4,
 "nbformat_minor": 2,
 "cells": [
  {
   "source": [
    "# Threads\n",
    "\n",
    "\n",
    "\n"
   ],
   "cell_type": "markdown",
   "metadata": {}
  },
  {
   "source": [
    "Fundamental unit of cpu utilization, and form the basis of mutithreaded computation. Most applications use multithreaded computation these days. Process creation is heavy weight, while thread creation is lightweight. Multithreading can simplify code and increase efficiency. Most Kernels as well are also multi threaded.\n",
    "<div style=\"text-align: center\"><img src=\"Pictures/single_vs_multi_thread.png\"></div>\n",
    "\n",
    "## Thread\n",
    "\n",
    "- Unit of CPU utilization\n",
    "\n",
    "They do not share these resources with other threads or processes\n",
    "\n",
    "- Thread ID\n",
    "- Program Counter\n",
    "- Register Set\n",
    "- Stack\n",
    "\n",
    "But they do share these with other resources\n",
    "\n",
    "- Open Files\n",
    "- Signals\n",
    "- Code\n",
    "- Data Section\n",
    "- Heap\n",
    "- Text"
   ],
   "cell_type": "markdown",
   "metadata": {}
  },
  {
   "source": [
    "### Thread vs Process\n",
    "\n",
    "1. Threads are easier to create than processes since they don't require a seperate address space. \n",
    "\n",
    "2. Requires careful prgoramming since threads ashare data structures which whould only be modified by one thread at a time \n",
    "\n",
    "3. They require far less resources than processes. They don't have to malloc and then copy over all of the required resources for a new resources\n",
    "\n",
    "4. Processes are independent of each other. Threads are not, and since they share the same address space, they need to be careful not to overlap eachothers operations.\n",
    "\n",
    "5. A process can consist of multiple threads."
   ],
   "cell_type": "markdown",
   "metadata": {}
  },
  {
   "source": [
    "Memory is relatively slow compare to cpu execution. What should a cpu do to speed things up while it is reading data from the memory.\n",
    "\n",
    "- Hyperthreading\n",
    "\n",
    "    Creating by Sun and Intel. Creates two logical processor per core, even though there is only still one physical core. Each logical processor can have twos sets of registers (but not its own computational resources), giving each physical processor 2 sets of registers. Each of these virtual processors can be directed to execute a specific thread.\n",
    "    \n",
    "    We can't technically execute two operations at the exact same amount of time, operations of one thread gets processed in the downtime of the other and vice versa. We just accomodate this by giving this virtual core more of the fastest type of memory we have. We swap between threads very quickly to get more done.\n",
    "\n",
    "- Speculative Execution\n",
    "\n",
    "    Optimization technique where computer performs tasks that may not be needed. Accessing ram takes a while, so while we access data, perform tasks ahead of when they are needed. This is out of order execution and branch prediction, for up to two branches. The code is executed before the cpu knows which branch will be executed. Do extra work when we don't care what were doing, so that when we need the data we'll have it ready. This can however cause security problems when topics like password hashing, because it is possible that these processes execute when we don't mean for them to, and then another process or thread could access this data from shared resources."
   ],
   "cell_type": "markdown",
   "metadata": {}
  },
  {
   "source": [
    "## Benefits of Threading\n",
    "- __Responsiveness__ - allow for continued execution if part of a process is blocked, which is especially important for UIs\n",
    "- __Resource Sharing__ - threads share resources, easire than shared memory or message passing\n",
    "- __Economy__ - cheaper process creation, thread switching has lower overhead than context switching\n",
    "- __Scalability__ - Processes can take advantage of multiprocessor architectures, more specifically multicore.\n"
   ],
   "cell_type": "markdown",
   "metadata": {}
  }
 ]
}