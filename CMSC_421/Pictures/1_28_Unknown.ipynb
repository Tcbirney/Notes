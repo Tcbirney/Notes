{
 "metadata": {
  "language_info": {
   "codemirror_mode": {
    "name": "ipython",
    "version": 3
   },
   "file_extension": ".py",
   "mimetype": "text/x-python",
   "name": "python",
   "nbconvert_exporter": "python",
   "pygments_lexer": "ipython3",
   "version": 3
  },
  "orig_nbformat": 2
 },
 "nbformat": 4,
 "nbformat_minor": 2,
 "cells": [
  {
   "source": [
    "# Operating Systems\n",
    "\n",
    "## OS services\n",
    "\n",
    "provide env for execution of progs\n",
    "services are \n",
    "- UI\n",
    "    - CLI\n",
    "    - GUI\n",
    "    - Touch Screen\n",
    "    - Batch \n",
    "- prog execution\n",
    "- I/O ops\n",
    "- Ile sys manipulation\n",
    "- communication\n",
    "- error detection\n",
    "\n",
    "\n",
    "\n",
    "\n",
    "\n"
   ],
   "cell_type": "markdown",
   "metadata": {}
  },
  {
   "source": [
    "- just say that we are not renewing scotts month to month lease\n",
    "- dont give reason\n",
    "- failure to pay if court\n",
    "- do it in person\n",
    "- can we evict in quarantine?\n",
    "- if late start court precedings\n",
    "- can we take him to court at all?\n",
    "- if there is 30 days, but courts are shutdown, he will be here but we can't accept any payment for months past those initial days\n",
    "- even if we do want to serve him a document, then we must send it throguh certified mail"
   ],
   "cell_type": "markdown",
   "metadata": {}
  },
  {
   "cell_type": "code",
   "execution_count": null,
   "metadata": {},
   "outputs": [],
   "source": []
  }
 ]
}