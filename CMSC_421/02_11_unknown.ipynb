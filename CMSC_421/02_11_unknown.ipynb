{
 "metadata": {
  "language_info": {
   "codemirror_mode": {
    "name": "ipython",
    "version": 3
   },
   "file_extension": ".py",
   "mimetype": "text/x-python",
   "name": "python",
   "nbconvert_exporter": "python",
   "pygments_lexer": "ipython3",
   "version": 3
  },
  "orig_nbformat": 2
 },
 "nbformat": 4,
 "nbformat_minor": 2,
 "cells": [
  {
   "source": [
    "pipes\n",
    "\n",
    "unnamed and names\n",
    "\n",
    "ordinary pipes\n",
    "\n",
    "producer and consumer ends of the pipes\n",
    "unidirectional\n",
    "\n",
    "mkfifo"
   ],
   "cell_type": "markdown",
   "metadata": {}
  }
 ]
}