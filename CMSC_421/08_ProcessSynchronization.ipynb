{
 "metadata": {
  "language_info": {
   "codemirror_mode": {
    "name": "ipython",
    "version": 3
   },
   "file_extension": ".py",
   "mimetype": "text/x-python",
   "name": "python",
   "nbconvert_exporter": "python",
   "pygments_lexer": "ipython3",
   "version": 3
  },
  "orig_nbformat": 2
 },
 "nbformat": 4,
 "nbformat_minor": 2,
 "cells": [
  {
   "source": [
    "# Process Sycnhronization"
   ],
   "cell_type": "markdown",
   "metadata": {}
  },
  {
   "source": [
    "## Race Condition\n",
    "\n",
    "When two or more threads try to access and alter the same data at the same time. For example if two threads try to increment or decrement a shared variable, then we don't know which code will take. Usually happens with producer consumer relation among threads."
   ],
   "cell_type": "markdown",
   "metadata": {}
  },
  {
   "source": [
    "## Critical Section Problem\n",
    "\n",
    "Each process must ask permission to enter the critical section.\n",
    "- This is where data accesses shared variables.\n",
    "- When one process is in the critical section, no other may be in the critical section\n",
    "- The processes may leave the critical section into the exit section and then the remainder section.\n",
    "\n",
    "    ```\n",
    "    do{\n",
    "        entrysection{\n",
    "            critical section\n",
    "        }\n",
    "        exitSection{\n",
    "            remainderSection\n",
    "        }\n",
    "    } while(true);\n",
    "    ```\n",
    "\n",
    "### Solution to Critical Section Problem\n",
    "\n",
    "- __Mutal Exclusion:__ if process p1 is executing in critical section, then no other processes may enter the critical section.\n",
    "\n",
    "- __Progress:__ If no other process is running in its critical section and there exists some processes which wich to enter their critical section, then the selection processes that will enter the critical section next cannot be postponed indefinitely.\n",
    "\n",
    "- __Bounding Waiting:__ a bound must exist on the number of times tht other processes are llowed to enter their critical sections after a process has made a request to enter its critical section and before that request is granted. __No critical section hogging.__\n",
    "\n",
    "    - Assume that each process executes at a nonzero speed\n",
    "    - No assumption concerning relative speed of the n processes\n",
    "\n",
    "### Critical Section Handling in the OS\n",
    "\n",
    "Two approaches, depending on if kernel is preemptive or non preemptive. \n",
    "\n",
    "- __Premptive:__ Allows premption of a process when running in kernel mode. __Allows for interruptions.__\n",
    "\n",
    "    - __Advantages:__ \n",
    "        - More responsive, because of less risk of runaway process.\n",
    "        - Better for real time computing. If something vital comes up then it can be serviced immediately.\n",
    "\n",
    "- __Non Preemptive:__ Runs untill is exists kernel mode, blocks or voluntarily yields cpu. __CPU runs code until it finishes.__\n",
    "\n",
    "    - __Advantages:__\n",
    "        - Essentially free of race conditions in ekernel mode\n",
    "\n",
    "\n",
    "        \n"
   ],
   "cell_type": "markdown",
   "metadata": {}
  },
  {
   "source": [
    "## Synchronization in Hardware\n",
    "\n",
    "Many CPUs provide hardware support for implementing the critical sections mode. All solutions are based on the idea of __locking__\n",
    "- protecting critical sections with locks\n",
    "\n",
    "Unprocessors: Can disable interrupts\n",
    "- Currently executing code would execute non preemptively.\n",
    "- too inefficient on multiprocessor systems\n",
    "    - not broadly scalable\n",
    "\n",
    "Modern machines use atomic hardware instructions.\n",
    "- Atomic = Non interruptible\n",
    "\n",
    "- Either test memory word and then set value, or swap contents of two memory words\n",
    "\n",
    "\n"
   ],
   "cell_type": "markdown",
   "metadata": {}
  },
  {
   "source": [
    "## Mutex Locks\n",
    "\n",
    "Previous solutions are complicated and inaccessible to application programmers. OS designers build tools to solve the critical section problem. Simplest is __mutex lock__\n",
    "\n",
    "We protect a critical section by using `aquire()` which obtains a lock, and then `release()` which gives up the lock. These return boolean values indicating whether the lock is available or not.\n",
    "\n",
    "Calls to `aquire()` and `release()` must be done through atomic hardware instructions.\n",
    "\n",
    "This solution requires busy waiting, which makes this locking style a __spin lock__"
   ],
   "cell_type": "markdown",
   "metadata": {}
  },
  {
   "source": [
    "## Semaphore\n",
    "\n",
    "More sophisticated than mutex locks. It returns an integer value s where 0 <= x <= n, where n is some positive, large, integer value. It can only be accessed through two atomic operations `wait()` and `signal()`.\n",
    "\n",
    "Allows for multiple processes to be running? Like checks for max processes in the critical section?\n",
    "\n",
    "### The reader writer problem\n",
    "\n",
    "\n",
    "Semephores and mutexes are often used together.\n",
    "\n",
    "Counting Sephamore: An integer value that can range over an unrestricted domain. Programmer knows how many reaources can be available.\n",
    "\n",
    "Binary Sephamore: Integer value can only be 0 or 1.\n",
    "\n",
    "A dataset is shared aamong a number of concurrent processes. \n",
    "\n",
    "__Readers__: Can only read the dataset. do not perform any updates.\n",
    "\n",
    "__Writers__: Can both read and write.\n",
    "\n",
    "_How do we allow multiple readers to read at the same time?_\n",
    "\n",
    "We use sephamores and mutexes to lock the dataset so that only one writer can access the data set at a time and only when there are no more readers accessing the data.\n",
    "\n",
    "### Review the sephamore and mutex video in the lecture\n",
    "\n",
    "### Sephamore Implementation\n",
    "\n",
    "We must guarantee that no two processes can execute the `wait()` or `signal()` on the same sephamore at the same time. Thus the implementation becomes the critical section problem where we use `wait()` and `signal()` instead.\n"
   ],
   "cell_type": "markdown",
   "metadata": {}
  },
  {
   "source": [
    "## Deadlock or Startvation\n",
    "\n",
    "Deadlock: When two or more threds may be waiting indefinitely for an event caused by only one of the waiting processes.\n",
    "\n",
    "Starvation: Indefinite blocking\n",
    "- This is where a thread may never be released from the sephamore queue in which it is suspended.\n",
    "\n",
    "Priority Inversion: Scheduling problem where lower priority thread holds a lock needed by higher priority threads,\n",
    "- Solved by a priotity inheritance protocol.\n",
    "\n",
    "Traffic jams are considered starvation"
   ],
   "cell_type": "markdown",
   "metadata": {}
  }
 ]
}