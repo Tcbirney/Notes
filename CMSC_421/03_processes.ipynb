{
 "cells": [
  {
   "cell_type": "markdown",
   "metadata": {},
   "source": [
    "# Processes\n",
    "\n",
    "Virtual memory is not real memory. Remember we have the stack vs heap.They grow together but in opposite directions. We take from the heap when we are dynamically creating memory, otherwise stack. Heaps are used for lists and pointers, and the stack is also used for recursion.\n",
    "\n"
   ]
  },
  {
   "cell_type": "markdown",
   "metadata": {},
   "source": [
    "## Process concepts\n",
    "\n",
    "\n",
    "Operating systems executes variety of programs\n",
    "- Batch system (__jobs__)\n",
    "- Time Shared Systems (__user programs or tasks__)\n",
    "\n",
    "Job and process are interchangable terms\n",
    "\n",
    "Processes are programs in execution, and must progress in a sequential fashion. __Programs are passive, Processes are active__.\n",
    "\n",
    "\n",
    "Virtual memory is divided into multiple parts called execution contetxs. There is\n",
    "\n",
    "- Text Section. Where the code resides\n",
    "- Program Counter and CPU registers\n",
    "- Stack. Contains temporary data like function params, return addresses, executes\n",
    "- Data Section. Contains global variables\n",
    "- Heap. Contains dynamically allocated memory\n",
    "\n",
    "__ Virtual Memory is not the same as physical memory. __\n",
    "\n",
    "\n",
    "A program is a __passive__ entity on the disk (usually as an executable file), and becomes an active process when we execute it."
   ]
  },
  {
   "cell_type": "markdown",
   "metadata": {},
   "source": [
    "### Process state\n",
    "\n",
    "As the process executes, it changes its internal state.\n",
    "\n",
    "- new: being created\n",
    "\n",
    "- ready: waiting to be assigned to processor\n",
    "\n",
    "- running: instr being executed\n",
    "\n",
    "- waiting: waiting for event to occur\n",
    "\n",
    "- terminated: process has finished executed\n",
    "\n",
    "\n",
    "Interrupts come from software, signals come from hardware\n",
    "\n",
    "<div style=\"text-align: center\"><img class=\"center\" src = ./Pictures\\process_state_flowchart.png></img></iv>\n"
   ]
  },
  {
   "cell_type": "markdown",
   "metadata": {},
   "source": [
    "### Process Control Block \n",
    "\n",
    "This is created when a process is created and contains metadata about the process. Things such as \n",
    "- process state\n",
    "- process ID\n",
    "- program counter\n",
    "- CPU registers\n",
    "- memory info\n",
    "- accounting info (system stats)\n",
    "- I/O status information\n",
    "\n",
    "\n",
    "Process n will run untill a system call. Save state into PCBn, then we idle process n for however long. the reload statve from PCBn+1 then do process n+1. Then reload state from PCBn and continue process n\n",
    "\n",
    "<div style=\"text-align: center\"><img class=\"center\" src = ./Pictures\\cpu_pcb_flowchart.png></img></iv>\n",
    "\n",
    "\n",
    "\n",
    "\n",
    "\n",
    "> Generally, what is the pcb for, when is it accessed?\n",
    "\n",
    "The PCBs purpose is to allow for a sort of book mark for the progress of a process when we need to switch processes. This lets us multitask on a thread."
   ]
  },
  {
   "cell_type": "markdown",
   "metadata": {},
   "source": [
    "### Fork and Exec\n",
    "\n",
    "\n",
    "Fork is used to create a child process, whereas exec is used to switch the process. Fork will create a child process that is a duplicate of the parent in virtual memory with its own heap and stack, and then we can use exec to swicth to the process that we want to run. If we didn't use fork, we could only have one process and couldn't be able to multitask.\n",
    "\n",
    "\n",
    "\n",
    "### Fork\n",
    "\n",
    "Creates a new process and __returns two return codes__. When the rc > 0, we know we are running in the parent process, and the returned rc is the PID of the child. However when the returned rc = 0, we know were in the child process. If rc = 0, then we have some error and we stop the process.\n",
    "\n"
   ]
  },
  {
   "cell_type": "markdown",
   "metadata": {},
   "source": [
    "### Process Scheduling\n",
    "\n",
    "The process scheduler selects among next available processes for scheduling queues. This is done to maximize CPU execution for time sharing. Thee available scheduling queues are the\n",
    "\n",
    "- Job Queue: List of all processes in the system\n",
    "- Ready Queue: Set of all processes residing in main memory, ready and waiting to be executed.\n",
    "- Device Queue: Set of processes waitign for an I/O device\n",
    "\n",
    "Processes can switch between different scheduling queues, as seen below.\n",
    "\n",
    "<div style=\"text-align: center\"><img class=\"center\" src = ./Pictures\\switching_sched_queues.png></img></iv>\n",
    "\n",
    "\n",
    "Below is a queueing diagram for scheduling, represents other queues, proceses, resources or flows. Rectangular boxes are queues.\n",
    "\n",
    "<div style=\"text-align: center\"><img class=\"center\" src = ./Pictures\\scheduling_diagram.png></img></iv>\n",
    "\n",
    "\n",
    "The short term scheduler selects which process to be executed next, and the long terms scheduler\n",
    "selects which process to be brought into ready queue. Controlls degreee of multiprogramming. The long term scheduler wants a good diversity of processes to be exectured o they aren't bottlenecking resources and can be done quicker.\n",
    "\n",
    "\n",
    "Process categories\n",
    "- io processes\n",
    "- cpu bound process\n",
    "- mobile devices\n"
   ]
  },
  {
   "cell_type": "markdown",
   "metadata": {},
   "source": [
    "### Mobile Processes\n",
    "\n",
    "Multitasking in mobile systems allow only one process to run, while the others are suspended. IOS provides for a single foreground process which is controlled via user interface, while we also have multiple background processes in memory but not on the display."
   ]
  }
 ],
 "metadata": {
  "kernelspec": {
   "display_name": "Python 3",
   "language": "python",
   "name": "python3"
  },
  "language_info": {
   "codemirror_mode": {
    "name": "ipython",
    "version": 3
   },
   "file_extension": ".py",
   "mimetype": "text/x-python",
   "name": "python",
   "nbconvert_exporter": "python",
   "pygments_lexer": "ipython3",
   "version": "3.8.5"
  }
 },
 "nbformat": 4,
 "nbformat_minor": 2
}