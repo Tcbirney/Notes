{
 "metadata": {
  "language_info": {
   "codemirror_mode": {
    "name": "ipython",
    "version": 3
   },
   "file_extension": ".py",
   "mimetype": "text/x-python",
   "name": "python",
   "nbconvert_exporter": "python",
   "pygments_lexer": "ipython3",
   "version": "3.8.10"
  },
  "orig_nbformat": 4,
  "kernelspec": {
   "name": "python3",
   "display_name": "Python 3.8.10 64-bit"
  },
  "interpreter": {
   "hash": "767d51c1340bd893661ea55ea3124f6de3c7a262a8b4abca0554b478b1e2ff90"
  }
 },
 "nbformat": 4,
 "nbformat_minor": 2,
 "cells": [
  {
   "source": [
    "# Intro"
   ],
   "cell_type": "markdown",
   "metadata": {}
  },
  {
   "source": [
    "Need to install solid works. Probably on vm because my old desktop is too slow\n",
    "\n"
   ],
   "cell_type": "markdown",
   "metadata": {}
  },
  {
   "source": [
    "Mathematical modeling depends on\n",
    "\n",
    "- Control\n",
    "- Localization\n",
    "- Kinematic and Dynamic modeling\n",
    "    - forward and backwards versions of both\n",
    "\n",
    "No dynamics for open loop systems\n",
    "\n",
    "\n",
    "Closed loop have model and nonmodel based systems"
   ],
   "cell_type": "markdown",
   "metadata": {}
  },
  {
   "source": [
    "# One degree of Freedom\n",
    "\n",
    "kinematics - movement without nay dynamic interference\n",
    "\n",
    "Kinematics also depends on shape\n",
    "\n",
    "controls depend on actuator\n",
    "\n",
    "## Forward vs inverse kinematics\n",
    "\n",
    "If the command is given and we want to find out the end location, then we have forward kinematics\n",
    "\n",
    "If we have an end destination in mind, and want to know what controls to send, then its inverse kinematics\n",
    "\n",
    "\n",
    "## Dynamics\n",
    "\n",
    "If we have no resistive force then we can assume that F=MA is true."
   ],
   "cell_type": "markdown",
   "metadata": {}
  },
  {
   "source": [
    "OPen Loop COntroller\n",
    "\n",
    "Sysytem is a black box\n",
    "\n",
    "Tune input and monitor output\n",
    "\n",
    "Closed loop controllers monitor environment and status continuously\n",
    "\n",
    "non model based bots no nothing anout the model, they just try to minimize the error is perceives"
   ],
   "cell_type": "markdown",
   "metadata": {}
  },
  {
   "source": [
    "Ask Him about canvas, and the course requirements like textbooks and software, also that survey"
   ],
   "cell_type": "markdown",
   "metadata": {}
  },
  {
   "cell_type": "code",
   "execution_count": null,
   "metadata": {},
   "outputs": [],
   "source": []
  }
 ]
}