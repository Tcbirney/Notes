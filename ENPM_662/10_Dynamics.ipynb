{
 "cells": [
  {
   "cell_type": "markdown",
   "metadata": {},
   "source": [
    "<div style=\"text-align: center\">\n",
    "\n",
    "# C3 Lec 10\n",
    "\n",
    "# Introduction to Euler-LaGrange Equations For Dynamics\n",
    "</div>\n"
   ]
  },
  {
   "cell_type": "markdown",
   "metadata": {},
   "source": [
    "We can use jacobians to map between joint torques as well as end affector forces.\n",
    "\n"
   ]
  },
  {
   "cell_type": "markdown",
   "metadata": {},
   "source": [
    "Inverse kinemtics maps between angular and linear velocities. Inverse and forward dynamics maps between angualr acceleration and torque"
   ]
  }
 ],
 "metadata": {
  "language_info": {
   "name": "python"
  },
  "orig_nbformat": 4
 },
 "nbformat": 4,
 "nbformat_minor": 2
}
