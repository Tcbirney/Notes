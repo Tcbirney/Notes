{
 "cells": [
  {
   "cell_type": "markdown",
   "metadata": {},
   "source": [
    "<div style=\"text-align: center\">\n",
    "\n",
    "# C3 Lec 10\n",
    "\n",
    "# Introduction to Euler-LaGrange Equations For Dynamics\n",
    "</div>\n"
   ]
  },
  {
   "cell_type": "markdown",
   "metadata": {},
   "source": [
    "We can use jacobians to map between joint torques as well as end affector forces.\n",
    "\n",
    "Euler LaGrange Equations describe the evolution of the mechanical system subject to holonomic constraints. Euler LaGrange equations are an extension of the concept of virtual work derived from a 1 DOF model which we apply newtons 2nd Law to."
   ]
  },
  {
   "cell_type": "markdown",
   "metadata": {},
   "source": [
    "1. Derive the LaGrangian - The difference betweent he kinetic energy and the potential energy of a system\n",
    "\n",
    "2. Derive dynamic Equations "
   ]
  },
  {
   "cell_type": "markdown",
   "metadata": {},
   "source": [
    "Take for example a system which consists only of a partivle which is constrained such that it may only move vertically.\n",
    "\n",
    "We have an upwards applied force $F$, and the downwards gravity force.\n",
    "\n",
    "Therefore, with newtons 2nd law we have  \n",
    "\n",
    "$$m \\ddot y = f - mg$$\n",
    "\n",
    "And the left hand of this equation can be reformatted into\n",
    "\n",
    "$$m \\ddot{y} = \\frac{d}{dt}(m \\dot{y}) = \\frac{d}{dt}\\frac{\\partial}{\\partial \\dot{y}}(\\frac{1}{2}m \\dot{y}^2) = \\frac{d}{dt}\\frac{\\partial K}{\\partial \\dot{y}}$$\n",
    "\n",
    "Here we can recognise K as having the form of the Kinetic energy equation. CHecking off one half of the terms needed for the lagrangian.\n",
    "\n",
    "Likewise we can deconstruct the gravitational force to achieve a differential representation of the potential energy\n",
    "\n",
    "$$f = mg = \\frac{\\partial}{\\partial y}(mgy) = \\frac{\\partial P}{\\partial y}$$\n",
    " where P is the potential energy due to gravity\n",
    "\n",
    " Note that we have bother terms required to compute the lagrangian, as it is the difference between the potential and kinetic energy\n",
    "\n",
    " Therefore we can write the Lagrangian as\n",
    "\n",
    " $$\n",
    " E = L = K - P = \\frac{1}{2}m\\dot{y}^2 - mgy \\\\\n",
    "\n",
    " \\textrm{As we can see we have a second order differential equation, which also gives us the special relationship of} \\\\\n",
    "\n",
    " \\frac{\\partial L}{\\partial \\dot{y}} = \\frac{\\partial K}{\\partial \\dot{y}} \n",
    "\n",
    " \\textrm{and}\n",
    "\n",
    "  \\frac{\\partial L}{\\partial y} = \\frac{\\partial P}{\\partial y\n",
    "  \n",
    "  \n",
    "  \n",
    "  \n",
    "  \n",
    "  \n",
    "  \n",
    "  \n",
    "  \n",
    "  \n",
    "  \n",
    "  \n",
    "  } \n",
    "\n",
    "\n",
    "$$"
   ]
  },
  {
   "cell_type": "markdown",
   "metadata": {},
   "source": []
  },
  {
   "cell_type": "markdown",
   "metadata": {},
   "source": []
  },
  {
   "cell_type": "markdown",
   "metadata": {},
   "source": []
  }
 ],
 "metadata": {
  "language_info": {
   "name": "python"
  },
  "orig_nbformat": 4
 },
 "nbformat": 4,
 "nbformat_minor": 2
}
