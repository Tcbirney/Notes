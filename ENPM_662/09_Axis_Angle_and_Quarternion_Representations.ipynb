{
 "cells": [
  {
   "cell_type": "markdown",
   "metadata": {},
   "source": [
    "# Axis Angle and Quarternion Represents\n",
    "\n",
    "Axis angle Representation is another form of representing the pose and orientation of the end effector, similar to fixed angle, or euler angle representations.\n",
    "\n",
    "Often times you need 3 rotations to be able to align any 2 random frames in 3d space. However, it is possible to reduce this to one rotation about a vector in 3d space. We rotate using this vector as an __axis__, by a certain __angle__. Hence the name axis angle representation.\n",
    "\n",
    "Let us call this rotation axis vector k. Imagine that vector K was expressed in frame 0 and can be decomposed into its x, y, and z components such that $k = [k_1, k_2, k_3]^T$. All this means is that K exists in 3d space and is being expressed in terms of frame 0. This also means that K and any of the other unit vectors of frame 0 form a plane.\n",
    "\n",
    "We can rotate about the z axis such that the x axis lies on the plane connecting k and the z axis. This also moves the y axis. Then we can perform a rotation about the y axis such that the z axis is inline with the k vector. \n",
    "\n",
    "\n",
    "This shows that in only two rotation K and Z are aligned. Or \n",
    "\n",
    "$$R = R_{z, \\alpha} R_{y, \\beta}$$ "
   ]
  },
  {
   "cell_type": "markdown",
   "metadata": {},
   "source": []
  }
 ],
 "metadata": {
  "language_info": {
   "name": "python"
  },
  "orig_nbformat": 4
 },
 "nbformat": 4,
 "nbformat_minor": 2
}
