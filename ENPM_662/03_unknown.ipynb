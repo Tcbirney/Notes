{
 "cells": [
  {
   "cell_type": "markdown",
   "source": [
    "# Class 3"
   ],
   "metadata": {}
  },
  {
   "cell_type": "markdown",
   "source": [
    "## Chapter 2 Dynamics\n",
    "\n",
    "## 2 and 3 degrees of freedom"
   ],
   "metadata": {}
  },
  {
   "cell_type": "markdown",
   "source": [
    "Mostly about definitions\n",
    "\n",
    "Derive Definition -. Derive dynamics equations using newton-euler method\n",
    "\n",
    "\n",
    "\n",
    "### Definitions\n",
    "\n",
    "We have forward and inverse dynamics equations, just like we do in kinematics\n",
    "\n",
    "\n",
    "Inverse and inverse dynamics map between join accelerations and joint torque\n",
    "\n",
    "In the black box model, if torque is the input and acceleration is the output, then its forward kinemetics, and reverse kinematics if those are reversed\n",
    "\n",
    "We have generalized coordinates as $q = (q_1, q_2, \\dots q_n)$ and generalized force as $\\tau = (\\tau_1, \\tau_2, \\dots \\tau_n)$"
   ],
   "metadata": {}
  },
  {
   "cell_type": "markdown",
   "source": [
    "### Dynamic Models\n",
    "\n",
    "We group dynamic properties in to 3 different groups\n",
    "- mass\n",
    "- springs\n",
    "- dampers\n",
    "\n",
    "\n",
    "$\\sum F_z = F(t) - b \\dot x -k x = m \\ddot x$\n",
    "\n",
    "Go back to my oscillitory motion notes to see if I have any problems. Same second order differential equation\n",
    "\n",
    "\n",
    "### Rotary Systems\n",
    "\n",
    "We can use a torsional spring placed parallel to the axis if we want to oscillate a rotary system\n",
    "\n",
    "\n",
    "__Center of Mass__ - geometric balance point. Weight is completely balanced in every direction in 3 dimensions.\n",
    "\n",
    "Intertial Frames vd Non inertial frame \n",
    "\n",
    "Inertial Frames are frames whose states are stable. Its state is inert.\n",
    "Non inertial frames are frames which undergo acceleration with respect to the inertial frame\n",
    "\n",
    "Inertial frame forces are the fictitious forces\n",
    "\n",
    "\n",
    "look up corriolis force\n",
    "\n",
    "\n",
    "euler force\n",
    "corriolis force\n",
    "centrifugal force\n",
    "\n",
    "\n"
   ],
   "metadata": {}
  },
  {
   "cell_type": "markdown",
   "source": [],
   "metadata": {}
  }
 ],
 "metadata": {
  "orig_nbformat": 4,
  "language_info": {
   "name": "python"
  }
 },
 "nbformat": 4,
 "nbformat_minor": 2
}