{
 "cells": [
  {
   "cell_type": "markdown",
   "source": [
    "# Advanced Kinematics"
   ],
   "metadata": {}
  },
  {
   "cell_type": "markdown",
   "source": [
    "## Definitions\n",
    "\n",
    "Forward and Inverse Kinematics: Mapping Joint space and vector values to follow complex trajectories\n",
    "\n",
    "We can limit our degrees of freedom for each joint into a 2 dof system. One for each end of the joint.\n",
    "\n",
    "\n",
    "Velocity Kinematics is what we are more interested in over position kinemtics becuas etracking velocity rather than position will give us a smoother motion."
   ],
   "metadata": {}
  },
  {
   "cell_type": "markdown",
   "source": [
    "## Forward Kinematics\n",
    "\n",
    "\n",
    "DH Method - Denavit Hartenberg Method\n",
    "\n",
    "Remember that homogenous translation matrix can change position of a vector \n",
    "\n",
    "\n",
    "4 params for eahc link in dh method\n",
    "\n",
    "a - link length\n",
    "alpha - link twist\n",
    "d - link offset\n",
    "theta - joint angle\n",
    "\n",
    "a and alpha are always constant, and for rigid bodies one of the others will be constant.\n",
    "\n",
    "We will have 2 frames, one for each link of the joint\n",
    "\n",
    "Assign z axis first, which shows direction of rotation.\n",
    "\n",
    "For ofset axes, we need to find the normal distnace, that is the length of the normal vector to each of the axes of rotation.\n",
    "\n",
    "Use right hand rule to sweep between frames\n",
    "\n",
    "## cALUCLATING homoGENEOUS TRANSFORMATION MATRIX USING dh PARAMTERS\n",
    "\n"
   ],
   "metadata": {}
  }
 ],
 "metadata": {
  "orig_nbformat": 4,
  "language_info": {
   "name": "python"
  }
 },
 "nbformat": 4,
 "nbformat_minor": 2
}