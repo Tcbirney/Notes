{
 "cells": [
  {
   "cell_type": "markdown",
   "source": [
    "# Chapter 2"
   ],
   "metadata": {}
  },
  {
   "cell_type": "markdown",
   "source": [
    "Geometric configuration of a robot: describes location of every point of robots geometry\n",
    "\n",
    "Dimension d of onfiguration q = # of DOFs of robot\n",
    "\n",
    "Review\n",
    "points vs vectors\n",
    "\n",
    "Coordinate frames and frame translation /rotation\n",
    "\n",
    "Rigitd body transformations is required for\n",
    "    collision detection\n",
    "    kinematics\n",
    "\n",
    "\n",
    "Collision Detection\n",
    "    nned to bound the movement of some robot to parameters that are bound between 2 frames\n",
    "\n",
    "Rigid body transofmration means we understand the geometry of the robot in the fram of the world as well as understanding the objects in the world frame in the terms of the frame of the robot.\n",
    "\n",
    "\n",
    "\n",
    "Robot components\n",
    "\n",
    "Joints (revolute or prismatic)\n",
    "Links\n",
    "Actuators\n",
    "Encoders\n",
    "Wrists\n",
    "End Affectors\n",
    "\n",
    "He reviewed the different types of serial link types\n",
    "\n",
    "Kinematics\n",
    "\n",
    "Inverse kinemetics\n",
    "There is an object in the world, and I want my robot to interact with it, what controls do I need to send\n",
    "\n",
    "Forward kinematics\n",
    "I gave a command, now where am I\n",
    "\n",
    "Look at the black box and see what your inputs and outputs are\n",
    "\n",
    "Right Handed Systems\n",
    "\n",
    "By convention, the right hand dfines the positive z direction of rotation\n",
    "- curl your index finger in the direction of the positive x axis to the positive y axis\n",
    "\n",
    "If frames are parallel, then it is simple and the difference between the two frames are just vector translations\n",
    "\n"
   ],
   "metadata": {}
  }
 ],
 "metadata": {
  "orig_nbformat": 4,
  "language_info": {
   "name": "python"
  }
 },
 "nbformat": 4,
 "nbformat_minor": 2
}