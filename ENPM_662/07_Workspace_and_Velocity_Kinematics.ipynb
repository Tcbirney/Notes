{
 "cells": [
  {
   "cell_type": "markdown",
   "metadata": {},
   "source": [
    "# 07 Workspace and Velocity Kinematics"
   ]
  },
  {
   "cell_type": "markdown",
   "metadata": {},
   "source": [
    "2 kinds of workspaces\n",
    "- Reachable and Dextrous\n",
    "\n",
    "Reachable means that the end affector can get to that point. Dextrous workspaces are the set of all points that the end affector can reach __in any arbitrary orientation__\n",
    "\n",
    "There are geometirc and algebraeic descriptions of workspaces\n",
    "- Geometric being something like a swept volume\n",
    "- algebraic being like a set of constraints\n",
    "\n",
    "\n"
   ]
  },
  {
   "cell_type": "markdown",
   "metadata": {},
   "source": [
    "Finding workspaces\n",
    "\n",
    "Build avirtual model of robot and sweep joints while plotting end affector location\n"
   ]
  },
  {
   "cell_type": "markdown",
   "metadata": {},
   "source": [
    "## Velocity Kinemtics\n",
    "\n",
    "Controlling velocities rather than position help us move the robot in a smoother manner\n",
    "\n",
    "We use the jacbian matrix to find a general form of the velocity kinematics\n",
    "\n",
    "Jacobians map between linear and angualr velocities\n",
    "\n"
   ]
  }
 ],
 "metadata": {
  "language_info": {
   "name": "python"
  },
  "orig_nbformat": 4
 },
 "nbformat": 4,
 "nbformat_minor": 2
}
