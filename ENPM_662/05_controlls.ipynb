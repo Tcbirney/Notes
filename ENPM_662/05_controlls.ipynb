{
 "cells": [
  {
   "cell_type": "markdown",
   "source": [
    "## Open vs Closed loop controllers\n",
    "\n",
    "Toque controllers are lower level than position\n",
    "\n",
    "\n",
    "Open Loop Position Controller - Stepper Motor\n",
    "    - or internal PID controller \n",
    "\n",
    "Open Loop Torque Controller - Motor Driver\n",
    "\n",
    "Things that have external forces and disturbances cannot have positional controllers. Torque controllers are more flexible. You can make adaptive PID controllers and such that interface with torque controllers.\n",
    "\n",
    "Toque controllers can act as position controllers but are more complicated.\n",
    "\n",
    "\n",
    "You don't need the dynamic model for open loop controllers.\n",
    "\n",
    "\n",
    "You need the dynamic model for systems like torque controllers because we can apply torque but we won't know how how the robot will respond\n",
    "\n",
    "It is difficult to create an accurte dynamic model because of external forces like friction, so using something like stepper motors or PIDs are better for open loop systems\n",
    "\n",
    "\n",
    "## non model based closed loop controller\n",
    "\n",
    "Will need PID controller for project 1, tuning gains and such.\n",
    "\n",
    "\n",
    "closed loop controller which contains a PID applies a torque to a motor driver, which then outputs and is fed back into the closed loop controller. \n",
    "\n",
    "PIDs have present, past and future components that all consider their respective errors\n",
    "\n",
    "PIDS have steady state error\n",
    "\n",
    "The integration of error offsets the total error\n",
    "\n",
    "Past - Integration of error\n",
    "Present - Proportional to error\n",
    "Future - Derivative of error\n",
    "\n",
    "Inputs to a closed loop controller are the instantaneous desirables, not the final bounded measurements, since the PID outputs an instananeous control torque\n",
    "\n",
    "\n",
    "\n"
   ],
   "metadata": {}
  },
  {
   "cell_type": "markdown",
   "source": [
    "## Holonomic and Non Holonomic Constraints\n",
    "\n"
   ],
   "metadata": {}
  }
 ],
 "metadata": {
  "orig_nbformat": 4,
  "language_info": {
   "name": "python"
  }
 },
 "nbformat": 4,
 "nbformat_minor": 2
}