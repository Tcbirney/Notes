{
 "cells": [
  {
   "cell_type": "code",
   "execution_count": 4,
   "metadata": {},
   "outputs": [],
   "source": [
    "def mutate(n, a):\n",
    "\n",
    "    solution = []\n",
    "\n",
    "    for i in range(n):\n",
    "\n",
    "        prev = 0 if i == 0 else a[i-1]\n",
    "        curr = a[i]\n",
    "        nxt = 0 if i == len(a)-1 else a[i+1]\n",
    "\n",
    "        solution.append(prev+nxt+curr)\n",
    "\n",
    "    \n",
    "\n",
    "    return solution\n"
   ]
  },
  {
   "cell_type": "code",
   "execution_count": 13,
   "metadata": {},
   "outputs": [],
   "source": [
    "def get_digits(nums):\n",
    "    digits = \"\"\n",
    "    for n in nums:\n",
    "        digits += str(n)\n",
    "\n",
    "    print(digits)\n",
    "\n",
    "    digit_count = {}\n",
    "\n",
    "    for d in digits:\n",
    "        if d in digit_count.keys():\n",
    "            digit_count[d] = digit_count[d] + 1\n",
    "        else:\n",
    "            digit_count[d] = 1\n",
    "\n",
    "    sorted_dict = sorted(digit_count.items(), key = lambda v: v[1], reverse=True)\n",
    "\n",
    "    print(sorted_dict)\n",
    "\n",
    "    highest_count_val = sorted_dict[0][1]\n",
    "    highest_keys = []\n",
    "    for pair in sorted_dict:\n",
    "        if pair[1] == highest_count_val:\n",
    "            highest_keys.append(int(pair[0]))\n",
    "        else:\n",
    "            break\n",
    "    \n",
    "    highest_keys.sort()\n",
    "\n",
    "    return highest_keys\n",
    "\n",
    "    "
   ]
  },
  {
   "cell_type": "code",
   "execution_count": 14,
   "metadata": {},
   "outputs": [
    {
     "name": "stdout",
     "output_type": "stream",
     "text": [
      "2523573841\n",
      "[('2', 2), ('5', 2), ('3', 2), ('7', 1), ('8', 1), ('4', 1), ('1', 1)]\n"
     ]
    },
    {
     "data": {
      "text/plain": [
       "[2, 3, 5]"
      ]
     },
     "execution_count": 14,
     "metadata": {},
     "output_type": "execute_result"
    }
   ],
   "source": [
    "from random import randint\n",
    "\n",
    "a = [25, 2, 3, 57, 38, 41]\n",
    "\n",
    "get_digits(a)"
   ]
  }
 ],
 "metadata": {
  "kernelspec": {
   "display_name": "Python 3.8.10 64-bit",
   "language": "python",
   "name": "python3"
  },
  "language_info": {
   "codemirror_mode": {
    "name": "ipython",
    "version": 3
   },
   "file_extension": ".py",
   "mimetype": "text/x-python",
   "name": "python",
   "nbconvert_exporter": "python",
   "pygments_lexer": "ipython3",
   "version": "3.8.10"
  },
  "orig_nbformat": 4,
  "vscode": {
   "interpreter": {
    "hash": "916dbcbb3f70747c44a77c7bcd40155683ae19c65e1c03b4aa3499c5328201f1"
   }
  }
 },
 "nbformat": 4,
 "nbformat_minor": 2
}
