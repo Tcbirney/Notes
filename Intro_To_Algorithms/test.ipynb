{
 "cells": [
  {
   "cell_type": "markdown",
   "metadata": {},
   "source": [
    "# minesweeper"
   ]
  },
  {
   "cell_type": "code",
   "execution_count": 1,
   "metadata": {},
   "outputs": [
    {
     "name": "stdout",
     "output_type": "stream",
     "text": [
      "X_lb: 0, X_ub: 3\n",
      "y_lb: 0, X_ub: 3\n",
      "Checking x=1 y=1. It has 0 surrounding bombs\n",
      "X_lb: 0, X_ub: 2\n",
      "y_lb: 0, X_ub: 2\n",
      "Checking x=0 y=0. It has 0 surrounding bombs\n",
      "X_lb: 0, X_ub: 3\n",
      "y_lb: 0, X_ub: 2\n",
      "Checking x=1 y=0. It has 0 surrounding bombs\n",
      "X_lb: 1, X_ub: 4\n",
      "y_lb: 0, X_ub: 2\n",
      "Checking x=2 y=0. It has 2 surrounding bombs\n",
      "X_lb: 0, X_ub: 2\n",
      "y_lb: 0, X_ub: 3\n",
      "Checking x=0 y=1. It has 0 surrounding bombs\n",
      "X_lb: 0, X_ub: 2\n",
      "y_lb: 1, X_ub: 4\n",
      "Checking x=0 y=2. It has 0 surrounding bombs\n",
      "X_lb: 0, X_ub: 3\n",
      "y_lb: 1, X_ub: 4\n",
      "Checking x=1 y=2. It has 0 surrounding bombs\n",
      "X_lb: 1, X_ub: 4\n",
      "y_lb: 0, X_ub: 3\n",
      "Checking x=2 y=1. It has 3 surrounding bombs\n",
      "X_lb: 1, X_ub: 4\n",
      "y_lb: 1, X_ub: 4\n",
      "Checking x=2 y=2. It has 3 surrounding bombs\n",
      "X_lb: 0, X_ub: 2\n",
      "y_lb: 2, X_ub: 4\n",
      "Checking x=0 y=3. It has 0 surrounding bombs\n",
      "X_lb: 0, X_ub: 3\n",
      "y_lb: 2, X_ub: 4\n",
      "Checking x=1 y=3. It has 0 surrounding bombs\n",
      "X_lb: 1, X_ub: 4\n",
      "y_lb: 2, X_ub: 4\n",
      "Checking x=2 y=3. It has 2 surrounding bombs\n",
      "[0, 0, 2, -1]\n",
      "[0, 0, 3, -1]\n",
      "[0, 0, 3, -1]\n",
      "[0, 0, 2, -1]\n"
     ]
    }
   ],
   "source": [
    "def solution(field, x, y):\n",
    "\n",
    "    height = len(field)\n",
    "    width = len(field[0])\n",
    "\n",
    "    def uncover(field, x, y, height, width):\n",
    "\n",
    "        # bound indeces\n",
    "        x_lb = max(0, x-1)\n",
    "        x_ub = min(width, x+2)\n",
    "        y_lb = max(0, y-1)\n",
    "        y_ub = min(height, y+2)\n",
    "\n",
    "        print(f\"X_lb: {x_lb}, X_ub: {x_ub}\")\n",
    "        print(f\"y_lb: {y_lb}, X_ub: {y_ub}\")\n",
    "\n",
    "        count = 0\n",
    "        for y_i in range(y_lb, y_ub):\n",
    "            for x_i in range(x_lb, x_ub):\n",
    "                if field[y_i][x_i] == True and type(field[y_i][x_i]) == bool:\n",
    "                    count +=1\n",
    "        \n",
    "        print(f'Checking x={x} y={y}. It has {count} surrounding bombs')\n",
    "        field[y][x] = count\n",
    "\n",
    "        if count == 0:\n",
    "            for y_i in range(y_lb, y_ub):\n",
    "                for x_i in range(x_lb, x_ub):\n",
    "                    if type(field[y_i][x_i]) == bool:\n",
    "                        uncover(field, x_i, y_i, height, width)\n",
    "\n",
    "    uncover(field, x, y, height, width)\n",
    "    \n",
    "    for r in range(height):\n",
    "        for c in range(width):\n",
    "            if type(field[r][c]) == bool:\n",
    "                field[r][c] = -1\n",
    "\n",
    "    return field\n",
    "\n",
    "\n",
    "\n",
    "field = [\n",
    "        [False,False,False, True], \n",
    "        [False,False,False, True], \n",
    "        [False,False,False, True],\n",
    "        [False,False,False, True]\n",
    "        ]\n",
    "\n",
    "board = solution(field, 1, 1)\n",
    "\n",
    "for row in board:\n",
    "    print(row)"
   ]
  },
  {
   "cell_type": "markdown",
   "metadata": {},
   "source": [
    "# Zigzag"
   ]
  },
  {
   "cell_type": "code",
   "execution_count": 11,
   "metadata": {},
   "outputs": [
    {
     "data": {
      "text/plain": [
       "[4, 4, 5, 8, 1, 5, 4, 5, 8, 9]"
      ]
     },
     "execution_count": 11,
     "metadata": {},
     "output_type": "execute_result"
    }
   ],
   "source": [
    "from random import randrange\n",
    "\n",
    "nums = []\n",
    "for i in range(10):\n",
    "    rand = randrange(10)\n",
    "    nums.append(rand)\n",
    "\n",
    "nums"
   ]
  },
  {
   "cell_type": "code",
   "execution_count": 12,
   "metadata": {},
   "outputs": [
    {
     "name": "stdout",
     "output_type": "stream",
     "text": [
      "[4, 4, 5]\n",
      "[4, 5, 8]\n",
      "[5, 8, 1]\n",
      "[8, 1, 5]\n",
      "[1, 5, 4]\n",
      "[5, 4, 5]\n",
      "[4, 5, 8]\n",
      "[5, 8, 9]\n"
     ]
    },
    {
     "data": {
      "text/plain": [
       "[0, 0, 1, 1, 1, 1, 0, 0]"
      ]
     },
     "execution_count": 12,
     "metadata": {},
     "output_type": "execute_result"
    }
   ],
   "source": [
    "zigzag = []\n",
    "for i in range(1, len(nums)-1):\n",
    "    print(nums[i-1:i+2])\n",
    "    if nums[i-1] < nums[i] and nums[i] > nums[i+1]:\n",
    "        zigzag.append(1)\n",
    "    elif nums[i-1] > nums[i] and nums[i] < nums[i+1]:\n",
    "        zigzag.append(1)\n",
    "    else:\n",
    "        zigzag.append(0)\n",
    "\n",
    "zigzag"
   ]
  },
  {
   "cell_type": "markdown",
   "metadata": {},
   "source": [
    "# num swap"
   ]
  },
  {
   "cell_type": "code",
   "execution_count": 17,
   "metadata": {},
   "outputs": [
    {
     "data": {
      "text/plain": [
       "[2, 72, 14, 66, 45, 3, 23, 62, 21, 3]"
      ]
     },
     "execution_count": 17,
     "metadata": {},
     "output_type": "execute_result"
    }
   ],
   "source": [
    "nums = []\n",
    "for i in range(10):\n",
    "    rand = randrange(100)\n",
    "    nums.append(rand)\n",
    "\n",
    "nums"
   ]
  },
  {
   "cell_type": "code",
   "execution_count": null,
   "metadata": {},
   "outputs": [],
   "source": [
    "nums = [3, 31, 29]\n",
    "\n",
    "consecutive\n",
    "\n",
    "for n in range(len(nums-1)):\n",
    "    if \n",
    "\n",
    "    "
   ]
  }
 ],
 "metadata": {
  "kernelspec": {
   "display_name": "Python 3.8.10 64-bit",
   "language": "python",
   "name": "python3"
  },
  "language_info": {
   "codemirror_mode": {
    "name": "ipython",
    "version": 3
   },
   "file_extension": ".py",
   "mimetype": "text/x-python",
   "name": "python",
   "nbconvert_exporter": "python",
   "pygments_lexer": "ipython3",
   "version": "3.8.10"
  },
  "orig_nbformat": 4,
  "vscode": {
   "interpreter": {
    "hash": "916dbcbb3f70747c44a77c7bcd40155683ae19c65e1c03b4aa3499c5328201f1"
   }
  }
 },
 "nbformat": 4,
 "nbformat_minor": 2
}
