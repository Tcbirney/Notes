{
 "cells": [
  {
   "cell_type": "code",
   "execution_count": 2,
   "metadata": {},
   "outputs": [],
   "source": [
    "import math\n",
    "import random"
   ]
  },
  {
   "cell_type": "code",
   "execution_count": 3,
   "metadata": {},
   "outputs": [],
   "source": [
    "class Node:\n",
    "    def __init__(self, parent = None, left = None, right = None, value = None):\n",
    "        self.parent = parent\n",
    "        self.left = left\n",
    "        self.right = right\n",
    "        self.value = value\n"
   ]
  },
  {
   "cell_type": "code",
   "execution_count": 4,
   "metadata": {},
   "outputs": [],
   "source": [
    "def list_to_tree(data):\n",
    "\n",
    "    print(f\"Data Here Is: {data}\")\n",
    "\n",
    "    if len(data) == 0:\n",
    "        return None\n",
    "\n",
    "\n",
    "    midpoint = int(math.floor(len(data)/2))\n",
    "    root = Node(parent = None, left = None, right = None, value = data[midpoint])\n",
    "    print(f'Setting data as {data[midpoint]}')\n",
    "\n",
    "    if len(data) == 1:\n",
    "        root.left = None\n",
    "        root.right = None\n",
    "    else:\n",
    "        if len(data) == 2:\n",
    "            root.left = list_to_tree(data[:midpoint])\n",
    "            root.right = None\n",
    "        else:\n",
    "            root.left = list_to_tree(data[:midpoint])\n",
    "            root.right = list_to_tree(data[midpoint+1:])\n",
    "\n",
    "            root.left.parent = root\n",
    "            root.right.parent = root\n",
    "\n",
    "    return root\n"
   ]
  },
  {
   "cell_type": "code",
   "execution_count": 5,
   "metadata": {},
   "outputs": [],
   "source": [
    "def bfs(root, target):\n",
    "\n",
    "    open_nodes = [root]\n",
    "    closed_nodes = []\n",
    "\n",
    "    while len(open_nodes) > 0:\n",
    "\n",
    "        # pull the first element from the queue to do bfs\n",
    "        curr_node = open_nodes.pop(0)\n",
    "        print(curr_node.value)\n",
    "\n",
    "        if curr_node.value == target:\n",
    "            return True\n",
    "\n",
    "        closed_nodes.append(curr_node)\n",
    "\n",
    "        left = curr_node.left\n",
    "        right = curr_node.right\n",
    "\n",
    "        if left and left not in open_nodes and left not in closed_nodes:\n",
    "            open_nodes.append(left)\n",
    "        if right and right not in open_nodes and right not in closed_nodes:\n",
    "            open_nodes.append(right)\n",
    "\n",
    "    return False\n",
    "\n",
    "        "
   ]
  },
  {
   "cell_type": "code",
   "execution_count": 6,
   "metadata": {},
   "outputs": [],
   "source": [
    "def dfs(root, target):\n",
    "\n",
    "    open_nodes = [root]\n",
    "    closed_nodes = []\n",
    "\n",
    "    while len(open_nodes) > 0:\n",
    "\n",
    "        # pull the first element from the queue to do bfs\n",
    "        curr_node = open_nodes.pop()\n",
    "        print(curr_node.value)\n",
    "\n",
    "        if curr_node.value == target:\n",
    "            return True\n",
    "\n",
    "        closed_nodes.append(curr_node)\n",
    "\n",
    "        left = curr_node.left\n",
    "        right = curr_node.right\n",
    "\n",
    "        if right and right not in open_nodes and right not in closed_nodes:\n",
    "            open_nodes.append(right)\n",
    "        if left and left not in open_nodes and left not in closed_nodes:\n",
    "            open_nodes.append(left)\n",
    "        \n",
    "\n",
    "    return False"
   ]
  },
  {
   "cell_type": "code",
   "execution_count": 7,
   "metadata": {},
   "outputs": [
    {
     "name": "stdout",
     "output_type": "stream",
     "text": [
      "Data Here Is: [1, 2, 3, 4, 5, 6, 7, 8, 9, 10]\n",
      "Setting data as 6\n",
      "Data Here Is: [1, 2, 3, 4, 5]\n",
      "Setting data as 3\n",
      "Data Here Is: [1, 2]\n",
      "Setting data as 2\n",
      "Data Here Is: [1]\n",
      "Setting data as 1\n",
      "Data Here Is: [4, 5]\n",
      "Setting data as 5\n",
      "Data Here Is: [4]\n",
      "Setting data as 4\n",
      "Data Here Is: [7, 8, 9, 10]\n",
      "Setting data as 9\n",
      "Data Here Is: [7, 8]\n",
      "Setting data as 8\n",
      "Data Here Is: [7]\n",
      "Setting data as 7\n",
      "Data Here Is: [10]\n",
      "Setting data as 10\n"
     ]
    }
   ],
   "source": [
    "numbers = [1, 2, 3, 4, 5, 6, 7, 8, 9, 10]\n",
    "\n",
    "tree = list_to_tree(numbers)"
   ]
  },
  {
   "cell_type": "code",
   "execution_count": 8,
   "metadata": {},
   "outputs": [
    {
     "name": "stdout",
     "output_type": "stream",
     "text": [
      "6\n",
      "3\n",
      "9\n",
      "2\n",
      "5\n",
      "8\n",
      "10\n"
     ]
    },
    {
     "data": {
      "text/plain": [
       "True"
      ]
     },
     "execution_count": 8,
     "metadata": {},
     "output_type": "execute_result"
    }
   ],
   "source": [
    "bfs(tree, 10)"
   ]
  },
  {
   "cell_type": "code",
   "execution_count": 9,
   "metadata": {},
   "outputs": [
    {
     "name": "stdout",
     "output_type": "stream",
     "text": [
      "6\n",
      "3\n"
     ]
    },
    {
     "data": {
      "text/plain": [
       "True"
      ]
     },
     "execution_count": 9,
     "metadata": {},
     "output_type": "execute_result"
    }
   ],
   "source": [
    "dfs(tree, 3)"
   ]
  },
  {
   "cell_type": "code",
   "execution_count": 10,
   "metadata": {},
   "outputs": [
    {
     "name": "stdout",
     "output_type": "stream",
     "text": [
      "[2, 4, 7, 9, 15, 17, 33, 72, 80, 90]\n"
     ]
    }
   ],
   "source": [
    "import random\n",
    "\n",
    "nums = [random.randrange(0, 100) for x in range(0, 10)]\n",
    "nums.sort()\n",
    "print(nums)"
   ]
  },
  {
   "cell_type": "markdown",
   "metadata": {},
   "source": []
  },
  {
   "cell_type": "code",
   "execution_count": 11,
   "metadata": {},
   "outputs": [],
   "source": [
    "def bin_search(nums, target):\n",
    "\n",
    "    low = 0\n",
    "    high = len(nums) - 1\n",
    "\n",
    "    while low <= high:\n",
    "        midpoint = (low+high)/2\n",
    "        midpoint = int(midpoint)\n",
    "\n",
    "        if nums[midpoint] == target:\n",
    "            return midpoint\n",
    "\n",
    "        if nums[midpoint] < target:\n",
    "            low = midpoint +1\n",
    "\n",
    "        else:\n",
    "            high = midpoint-1\n",
    "\n",
    "    return -1\n"
   ]
  },
  {
   "cell_type": "code",
   "execution_count": 13,
   "metadata": {},
   "outputs": [
    {
     "name": "stdout",
     "output_type": "stream",
     "text": [
      "2 found at 0\n",
      "4 found at 1\n",
      "7 found at 2\n",
      "9 found at 3\n",
      "15 found at 4\n",
      "17 found at 5\n",
      "33 found at 6\n",
      "72 found at 7\n",
      "80 found at 8\n",
      "90 found at 9\n"
     ]
    }
   ],
   "source": [
    "for n in nums:\n",
    "    print(f\"{n} found at {bin_search(nums, n)}\")"
   ]
  },
  {
   "cell_type": "code",
   "execution_count": 22,
   "metadata": {},
   "outputs": [],
   "source": [
    "class ListNode:\n",
    "    def __init__(self, data, next = None):\n",
    "        self.data = data\n",
    "        self.next = next\n"
   ]
  },
  {
   "cell_type": "code",
   "execution_count": 23,
   "metadata": {},
   "outputs": [],
   "source": [
    "def pushNode(new_head, data):\n",
    "    return ListNode(data, new_head)"
   ]
  },
  {
   "cell_type": "code",
   "execution_count": 26,
   "metadata": {},
   "outputs": [],
   "source": [
    "def printList(new_head):\n",
    "    while new_head:\n",
    "        print(new_head.data, end=' ')\n",
    "        new_head = new_head.next"
   ]
  },
  {
   "cell_type": "code",
   "execution_count": 68,
   "metadata": {},
   "outputs": [
    {
     "name": "stdout",
     "output_type": "stream",
     "text": [
      "86 62 75 49 75 32 65 77 58 92 "
     ]
    }
   ],
   "source": [
    "test = None\n",
    "\n",
    "for i in range(10):\n",
    "    test = pushNode(test, random.randrange(100))\n",
    "\n",
    "printList(test)"
   ]
  },
  {
   "cell_type": "code",
   "execution_count": 66,
   "metadata": {},
   "outputs": [],
   "source": [
    "# reverse a group of nodes, which are in themselves a linked list\n",
    "def reverseList(head):\n",
    "    \n",
    "    node_stack = []\n",
    "    curr_node = head\n",
    "\n",
    "    while curr_node:\n",
    "        node_stack.append(curr_node)\n",
    "        curr_node = curr_node.next\n",
    "\n",
    "    new_head = None\n",
    "    new_tail = None\n",
    "    while node_stack:\n",
    "    \n",
    "        if not new_head:\n",
    "            new_head = ListNode(node_stack.pop().data)\n",
    "            new_tail = new_head\n",
    "            print(new_tail.data)\n",
    "        else:\n",
    "            new_tail.next = ListNode(node_stack.pop().data)\n",
    "            print(new_tail.data)\n",
    "\n",
    "            new_tail = new_tail.next\n",
    "\n",
    "        \n",
    "    return new_head, new_tail\n",
    "\n"
   ]
  },
  {
   "cell_type": "code",
   "execution_count": 69,
   "metadata": {},
   "outputs": [
    {
     "name": "stdout",
     "output_type": "stream",
     "text": [
      "92\n",
      "92\n",
      "58\n",
      "77\n",
      "65\n",
      "32\n",
      "75\n",
      "49\n",
      "75\n",
      "62\n"
     ]
    },
    {
     "ename": "AttributeError",
     "evalue": "'tuple' object has no attribute 'data'",
     "output_type": "error",
     "traceback": [
      "\u001b[0;31m---------------------------------------------------------------------------\u001b[0m",
      "\u001b[0;31mAttributeError\u001b[0m                            Traceback (most recent call last)",
      "\u001b[0;32m<ipython-input-69-8f5ca0f63b17>\u001b[0m in \u001b[0;36m<module>\u001b[0;34m\u001b[0m\n\u001b[1;32m      1\u001b[0m \u001b[0mnew_head\u001b[0m \u001b[0;34m=\u001b[0m \u001b[0mreverseList\u001b[0m\u001b[0;34m(\u001b[0m\u001b[0mtest\u001b[0m\u001b[0;34m)\u001b[0m\u001b[0;34m\u001b[0m\u001b[0;34m\u001b[0m\u001b[0m\n\u001b[0;32m----> 2\u001b[0;31m \u001b[0mprintList\u001b[0m\u001b[0;34m(\u001b[0m\u001b[0mnew_head\u001b[0m\u001b[0;34m)\u001b[0m\u001b[0;34m\u001b[0m\u001b[0;34m\u001b[0m\u001b[0m\n\u001b[0m",
      "\u001b[0;32m<ipython-input-26-2e8b99924ca6>\u001b[0m in \u001b[0;36mprintList\u001b[0;34m(head)\u001b[0m\n\u001b[1;32m      1\u001b[0m \u001b[0;32mdef\u001b[0m \u001b[0mprintList\u001b[0m\u001b[0;34m(\u001b[0m\u001b[0mhead\u001b[0m\u001b[0;34m)\u001b[0m\u001b[0;34m:\u001b[0m\u001b[0;34m\u001b[0m\u001b[0;34m\u001b[0m\u001b[0m\n\u001b[1;32m      2\u001b[0m     \u001b[0;32mwhile\u001b[0m \u001b[0mhead\u001b[0m\u001b[0;34m:\u001b[0m\u001b[0;34m\u001b[0m\u001b[0;34m\u001b[0m\u001b[0m\n\u001b[0;32m----> 3\u001b[0;31m         \u001b[0mprint\u001b[0m\u001b[0;34m(\u001b[0m\u001b[0mhead\u001b[0m\u001b[0;34m.\u001b[0m\u001b[0mdata\u001b[0m\u001b[0;34m,\u001b[0m \u001b[0mend\u001b[0m\u001b[0;34m=\u001b[0m\u001b[0;34m' '\u001b[0m\u001b[0;34m)\u001b[0m\u001b[0;34m\u001b[0m\u001b[0;34m\u001b[0m\u001b[0m\n\u001b[0m\u001b[1;32m      4\u001b[0m         \u001b[0mhead\u001b[0m \u001b[0;34m=\u001b[0m \u001b[0mhead\u001b[0m\u001b[0;34m.\u001b[0m\u001b[0mnext\u001b[0m\u001b[0;34m\u001b[0m\u001b[0;34m\u001b[0m\u001b[0m\n",
      "\u001b[0;31mAttributeError\u001b[0m: 'tuple' object has no attribute 'data'"
     ]
    }
   ],
   "source": [
    "new_head = reverseList(test) \n",
    "printList(new_head)"
   ]
  },
  {
   "cell_type": "code",
   "execution_count": null,
   "metadata": {},
   "outputs": [],
   "source": []
  }
 ],
 "metadata": {
  "kernelspec": {
   "display_name": "Python 3.8.10 64-bit",
   "language": "python",
   "name": "python3"
  },
  "language_info": {
   "codemirror_mode": {
    "name": "ipython",
    "version": 3
   },
   "file_extension": ".py",
   "mimetype": "text/x-python",
   "name": "python",
   "nbconvert_exporter": "python",
   "pygments_lexer": "ipython3",
   "version": "3.8.10"
  },
  "orig_nbformat": 4,
  "vscode": {
   "interpreter": {
    "hash": "916dbcbb3f70747c44a77c7bcd40155683ae19c65e1c03b4aa3499c5328201f1"
   }
  }
 },
 "nbformat": 4,
 "nbformat_minor": 2
}
