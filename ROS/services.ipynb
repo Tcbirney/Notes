{
 "metadata": {
  "language_info": {
   "codemirror_mode": {
    "name": "ipython",
    "version": 3
   },
   "file_extension": ".py",
   "mimetype": "text/x-python",
   "name": "python",
   "nbconvert_exporter": "python",
   "pygments_lexer": "ipython3",
   "version": "3.8.10"
  },
  "orig_nbformat": 4,
  "kernelspec": {
   "name": "python3",
   "display_name": "Python 3.8.10 64-bit"
  },
  "interpreter": {
   "hash": "e7370f93d1d0cde622a1f8e1c04877d8463912d04d973331ad4851f04de6915a"
  }
 },
 "nbformat": 4,
 "nbformat_minor": 2,
 "cells": [
  {
   "source": [
    "# ROS Services"
   ],
   "cell_type": "markdown",
   "metadata": {}
  },
  {
   "source": [
    "Contains one node that acts as a server and another that act as a client\n",
    "\n",
    "1. Client Sends Request\n",
    "\n",
    "2. Server sends response\n",
    "\n",
    "Difference from a topic message in that a topic is a continuous stream of data, whereas services are one off event driven messages. Topics are asynchronous and servies are synchrnonous.\n",
    "\n",
    "We want to use services when we want to request the robot to perform a specific action."
   ],
   "cell_type": "markdown",
   "metadata": {}
  },
  {
   "source": [
    "Rosservicelist gives us the list of currently running ros services within our workspace. FOr example, the turtlebot has a spawn service that triggers the spawn event of type Turtlesim/Spawn given teh x, y, theta, and name arguments. These characteristics of the service can be found with rosservice info. We can see that is also returns the name of the spawned turtle.\n",
    "\n",
    "Services can be invoked with the rosservice call command with the appropriate arguments. An example would be\n",
    "\n",
    "```rosservice call /spawn 7 7 0 turtle2```\n"
   ],
   "cell_type": "markdown",
   "metadata": {}
  },
  {
   "source": [
    "## Creating services\n",
    "\n",
    "1. Create the Service Message File\n",
    "\n",
    "    - once we create the service file in the srv folder for our src workspace, we can call catkin_make to make the service which will then generate the header files in the delev/include folder\n",
    "\n",
    "2. Create the ROS server node\n",
    "    \n",
    "    - we must create a python file which imports each of the generated files as well as rospy. Then in the server file, we must write a function which defines the service functionality, and then call that server function in main.\n",
    "\n",
    "3. Create the ROS client node\n",
    "\n",
    "4. Execute the Service\n",
    "\n",
    "5. Consume the service by the client "
   ],
   "cell_type": "markdown",
   "metadata": {}
  },
  {
   "cell_type": "code",
   "execution_count": null,
   "metadata": {},
   "outputs": [],
   "source": []
  }
 ]
}