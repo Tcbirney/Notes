{
 "cells": [
  {
   "cell_type": "markdown",
   "metadata": {},
   "source": [
    "# Building Talker and Listener Nodes"
   ]
  },
  {
   "source": [
    "## Building a Talker\n",
    "\n",
    "\n",
    "### Syntax\n",
    "\n",
    "```\n",
    "from std_msgs.msg import String\n",
    "\n",
    "pub = rospy.Publisher('topic_name', topic_type, queue_size)\n",
    "``` \n",
    "\n",
    "The queue size represents how many messages we may store and present to the listener when it finally pulls messages. Lower queue size means messages may be missed by the lsitener is if doesn't pull often enough.\n",
    "\n"
   ],
   "cell_type": "markdown",
   "metadata": {}
  },
  {
   "source": [
    "## Create and initialize a ROS node\n",
    "\n",
    "```\n",
    "ropsy.init_node('talker', anonymous = True)\n",
    "```\n",
    "When anonymous is set to True, this means that each talker node initialized is unique with an ID."
   ],
   "cell_type": "markdown",
   "metadata": {}
  },
  {
   "source": [
    "## Publish the ROS message"
   ],
   "cell_type": "markdown",
   "metadata": {}
  },
  {
   "cell_type": "code",
   "execution_count": 3,
   "metadata": {},
   "outputs": [],
   "source": [
    "rate = rospy.Rate(1) # 1 hz, publish 1 msg per second\n",
    "\n",
    "i = 0\n",
    "\n",
    "while not rospy.is_shutdown():\n",
    "    hello_str = f\"hello world {i}\"\n",
    "    rospy.loginfo(hello_str)\n",
    "    pub.publish(hello_str) # this is the line thta actually publishes\n",
    "    rate.sleep() # make sure that we sleep for the rate defined earlier, 1 hz means we sleep 1 sec\n",
    "    i += 1"
   ]
  },
  {
   "source": [
    "## Running and monitoring the node\n",
    "\n",
    "We can run the talker node is the following command\n",
    "\n",
    "`rosrun ros_essentials_cpp talker.py`\n",
    "\n",
    "And then we can monitor the \"talker\" topic by using\n",
    "\n",
    "`rostopic echo /chatter`"
   ],
   "cell_type": "markdown",
   "metadata": {}
  },
  {
   "source": [
    "## Building the Subscriber Node\n",
    "\n",
    "\n",
    "Start with initializing the Node\n",
    "\n",
    "`rospy.init_node('listener', anonymous = True)`\n",
    "\n",
    "Then we will need to create the subscriber object.\n",
    "\n",
    "```\n",
    "from std_msgs.msg import String\n",
    "\n",
    "rospy.Subscriber('chatter', String, chatter_callback)\n",
    "```\n",
    "\n",
    "\n",
    "We can see that we will also need a callback function which will run each time the chatter message is recieved.\n",
    "\n",
    "Our callback function will be defined as\n"
   ],
   "cell_type": "markdown",
   "metadata": {}
  },
  {
   "cell_type": "code",
   "execution_count": null,
   "metadata": {},
   "outputs": [],
   "source": [
    "def chatter_callback(message):\n",
    "    print(f\"I heard {message.data}\")"
   ]
  },
  {
   "source": [
    "Then we must start listening with `rospy.spin` which is s aspinlock on the subscriber in terms of the message."
   ],
   "cell_type": "markdown",
   "metadata": {}
  },
  {
   "cell_type": "code",
   "execution_count": null,
   "metadata": {},
   "outputs": [],
   "source": []
  }
 ],
 "metadata": {
  "kernelspec": {
   "display_name": "Python 3.8.5 64-bit ('ml_gambler': venv)",
   "language": "python",
   "name": "python385jvsc74a57bd063c9542b94cd9063784b01c6a73f664cb34da78118cdd88826a028b502aba044"
  },
  "language_info": {
   "codemirror_mode": {
    "name": "ipython",
    "version": 3
   },
   "file_extension": ".py",
   "mimetype": "text/x-python",
   "name": "python",
   "nbconvert_exporter": "python",
   "pygments_lexer": "ipython3",
   "version": "3.8.10"
  }
 },
 "nbformat": 4,
 "nbformat_minor": 2
}