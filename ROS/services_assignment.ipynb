{
 "metadata": {
  "language_info": {
   "codemirror_mode": {
    "name": "ipython",
    "version": 3
   },
   "file_extension": ".py",
   "mimetype": "text/x-python",
   "name": "python",
   "nbconvert_exporter": "python",
   "pygments_lexer": "ipython3",
   "version": 3
  },
  "orig_nbformat": 4
 },
 "nbformat": 4,
 "nbformat_minor": 2,
 "cells": [
  {
   "source": [
    "Open the Turtlesim simulator - DONE\n",
    "\n",
    "Display the list of services - DONE\n",
    "\n",
    "What is the command the information of the service /reset - `rosservice info /reset`\n",
    "\n",
    "Write the result of the execution of the command for the service /reset - no result\n",
    "\n",
    "What is the command the information of the service /kill `rosservice info /kill`\n",
    "\n",
    "Write the result of the execution of the command for the service /kill - no result\n",
    "\n",
    "spaw one additional turtle called tsim1. Write the command. - `rosservice call /spawn 7 7 0 tsim1`\n",
    "\n",
    "spaw one additional turtle called tsim2. Write the command. - `rosservice call /spawn 7 7 0 tsim2`\n",
    "\n",
    "use the service kill to kill tsim1.Write the command - `rosservice call /kill tsim1`.  \n",
    "\n",
    "use the service reset to reset all the simulation. Write the command. - `rosservice info /reset`"
   ],
   "cell_type": "markdown",
   "metadata": {}
  }
 ]
}