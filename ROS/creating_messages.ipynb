{
 "metadata": {
  "language_info": {
   "codemirror_mode": {
    "name": "ipython",
    "version": 3
   },
   "file_extension": ".py",
   "mimetype": "text/x-python",
   "name": "python",
   "nbconvert_exporter": "python",
   "pygments_lexer": "ipython3",
   "version": 3
  },
  "orig_nbformat": 4
 },
 "nbformat": 4,
 "nbformat_minor": 2,
 "cells": [
  {
   "source": [
    "# Creating Messages"
   ],
   "cell_type": "markdown",
   "metadata": {}
  },
  {
   "source": [
    "## Message Structure\n",
    "\n",
    "Each message has the structure of `package_name/message_type`\n",
    "\n",
    "Example: `std_msgs/String`\n",
    "\n",
    "And each message can have multiple fields of multiple types. We can also have nested message types. For example, the twist message contains two vector3 elements for its linear and angualr data, but each of those vector3 messages have 3 float fields which then become part of the Twist message.\n",
    "\n",
    "When creating messages, we need to place all of our custom messages into an 'msg' folder within our working directory, and all of our message definitions will be in their own defining file with a \".msg\" filetype. \n",
    "\n"
   ],
   "cell_type": "markdown",
   "metadata": {}
  },
  {
   "source": [
    "## Configuration\n",
    "\n",
    "Before being able to use the custom messages, we need to \n",
    "\n",
    "1. Update the dependencies in cmake to include \"message_generation\" under the find_package section. \n",
    "2. Uncomment the add_message_files section and add the name of the message file we created\n",
    "3. Uncomment the generate_messages section\n",
    "4. Add the message_runtime dependency after CATKIN_DEPENDS in the catkin_package section\n",
    "5. Then in package.xml we need to add \n",
    "\n",
    "    `<build_depend>message_generation</build_depend>`\n",
    "    \n",
    "    and \n",
    "    \n",
    "    `<exec_depend>message_runtime</exec_depend>`"
   ],
   "cell_type": "markdown",
   "metadata": {}
  },
  {
   "cell_type": "code",
   "execution_count": null,
   "metadata": {},
   "outputs": [],
   "source": []
  }
 ]
}