{
 "metadata": {
  "language_info": {
   "codemirror_mode": {
    "name": "ipython",
    "version": 3
   },
   "file_extension": ".py",
   "mimetype": "text/x-python",
   "name": "python",
   "nbconvert_exporter": "python",
   "pygments_lexer": "ipython3",
   "version": "3.8.5-final"
  },
  "orig_nbformat": 2,
  "kernelspec": {
   "name": "python3",
   "display_name": "Python 3",
   "language": "python"
  }
 },
 "nbformat": 4,
 "nbformat_minor": 2,
 "cells": [
  {
   "source": [
    "# Harmonic Motion\n",
    "\n",
    "## Properties\n",
    "\n",
    "- harmonic motion has to be sonusoidal\n",
    "- there must be a force tied to the motion\n",
    "\n",
    "The spring and mass model is a good example.\n",
    "\n",
    "### Position\n",
    "\n",
    "> __Remeber Hookes Law: $f = -Kx$__\n",
    "\n",
    "The force of a spring is a restoring force, which means that it is always trying to restore it to equilibrium.\n",
    "The force always points towards the equilibrium point, and the displacement points opposite force\n",
    "\n",
    ">Position is given with $x(t) = Acos(wt)$ where $w$ is in rads/s\n",
    ">\n",
    ">But since the position repeats itself every period we can make position a function of time and period, such that\n",
    ">$$x(t) = x(t + T)$$\n",
    ">\n",
    "> Setting each equation equal to each other, we get\n",
    ">\n",
    "> $$A \\cos (wt) =A \\cos (w (t + T)) $$\n",
    "> $$\\cos (wt) = \\cos (w(t + T))$$\n",
    "\n",
    "### __Review Simple Harmonic motion and derivation of omega__\n",
    "\n",
    "### Velocity\n",
    "\n",
    "Velocity oscillates bewteen certain intervals.\n",
    "Max velocity at equilibrium and zero velocity at turning points. This is because of an exchange of energy between potential and kinetic energy.\n",
    "\n",
    ">We can derive velocity by taking the derivative of the position. So if position $x(t) = A \\cos (wt)$, then velocity $v(t) = \\frac{dx}{dt} = -Aw \\sin (wt)$"
   ],
   "cell_type": "markdown",
   "metadata": {}
  },
  {
   "cell_type": "code",
   "execution_count": null,
   "metadata": {},
   "outputs": [],
   "source": []
  }
 ]
}