{
 "metadata": {
  "language_info": {
   "codemirror_mode": {
    "name": "ipython",
    "version": 3
   },
   "file_extension": ".py",
   "mimetype": "text/x-python",
   "name": "python",
   "nbconvert_exporter": "python",
   "pygments_lexer": "ipython3",
   "version": 3
  },
  "orig_nbformat": 2
 },
 "nbformat": 4,
 "nbformat_minor": 2,
 "cells": [
  {
   "source": [
    "# Syllabus_Review\n",
    "\n",
    "\n",
    "\n",
    "There's a different schedule so pay attention to that\n",
    "\n",
    "Short term due dates\n",
    "\n",
    "__Get a planner. Most likely cloud based so I can sync. Get power user tips__\n",
    "\n",
    "__Same deal for surveys as last semester__\n",
    "\n",
    "2/3 of the class will be working on the project\n",
    "\n"
   ],
   "cell_type": "markdown",
   "metadata": {}
  },
  {
   "cell_type": "code",
   "execution_count": null,
   "metadata": {},
   "outputs": [],
   "source": []
  }
 ]
}