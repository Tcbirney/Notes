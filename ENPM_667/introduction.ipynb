{
 "cells": [
  {
   "cell_type": "markdown",
   "metadata": {},
   "source": [
    "# Control Of Robotics Systems: Introduction"
   ]
  },
  {
   "cell_type": "markdown",
   "metadata": {},
   "source": [
    "## Motivation\n",
    "\n",
    "Control Systems can control automated systems like cruise control. In this system we have a desired speed which we set manually. This speed gets compared the desired speed against the actuall speed which results in an error speed. The cruise control system's goal is to reduce the error speed to zero. This usually involves a feedback loop as well.\n",
    "\n",
    "Autopilot is also an example with this excpet the telemetry information was GPS rather than spedometer data\n",
    "\n",
    "\n",
    "### Components of a Robotic System\n",
    "\n",
    "In the example of a robotic gripper\n",
    "\n",
    "- Sensor perception\n",
    "- AI\n",
    "- Path PLanning\n",
    "- Control Module\n",
    "- Sensors\n",
    "- Actuators\n",
    "\n",
    "\n",
    "### Control Module Deisgn Cycle\n",
    "\n",
    "- Performance Specs\n",
    "\n",
    "    - Reference tracking\n",
    "\n",
    "    - stability properties\n",
    "\n",
    "    - disturbance rejection and robustness\n",
    "\n",
    "- Modelling\n",
    "\n",
    "    - System dynamics (manipulator, motion, etc)\n",
    "\n",
    "    - actuators\n",
    "\n",
    "    - sensors\n",
    "\n",
    "    - environment\n",
    "\n",
    "- Computer Aided Controller Design (MatLab, Modelica, etc)\n",
    "\n",
    "- Computer Aided Simulation and testing\n",
    "\n",
    "- Implementing and testing\n",
    "\n",
    "Then it feeds back into the beginning to iterate on itself"
   ]
  },
  {
   "cell_type": "markdown",
   "metadata": {},
   "source": [
    "## Principles Of Feedback\n",
    "\n",
    "## Basics of System Theory\n",
    "\n",
    "When we abstract a system, we have a black box of some kind of robotic system, which is given inputs, initial conditions, and generates outputs.\n",
    "\n",
    "Models are based on linear differential equations.\n",
    "\n",
    "## State space models\n",
    "\n",
    "Mass spring damper assemblage\n",
    "\n"
   ]
  },
  {
   "cell_type": "markdown",
   "metadata": {},
   "source": []
  }
 ],
 "metadata": {
  "language_info": {
   "name": "python"
  },
  "orig_nbformat": 4
 },
 "nbformat": 4,
 "nbformat_minor": 2
}
