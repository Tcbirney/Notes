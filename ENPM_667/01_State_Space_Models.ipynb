{
 "cells": [
  {
   "cell_type": "markdown",
   "metadata": {},
   "source": [
    "# State Space Models"
   ]
  },
  {
   "cell_type": "markdown",
   "metadata": {},
   "source": [
    "The basic example we use to apply concepts of a state space model to, is the mass-spring-damper assemblage shown below. This is because it represents a system of dynamic variables $\\vec{X}$, where $\\vec{X}$ can be used to define the output of the system, and given the initial conditions and all inputs, can determine the state\n",
    "\n",
    "![](images/2022-09-11-15-42-11.png)\n",
    "\n",
    "The state here is definied as\n",
    "\n",
    "$$\n",
    "\\vec{X}(t) = \n",
    "\\begin{bmatrix}\n",
    "x(t)\\\\\n",
    "\\dot{x}(t)\n",
    "\\end{bmatrix}\n",
    "$$"
   ]
  },
  {
   "cell_type": "markdown",
   "metadata": {},
   "source": [
    "The following is the general form for a finite dimensional state space representation for a system wih input $\\vec{U}$ and output $\\vec{Y}$\n",
    "\n",
    "$$\n",
    "\\dot{\\vec{X}}(t) = A\\vec{X}(t) + B\\vec{U}(t)\\\\\n",
    "\\dot{\\vec{Y}}(t) = C\\vec{X}(t) + D\\vec{U}(t)\n",
    "$$\n",
    "\n",
    "In english, the change in the state can be defined using the current state and the input. And the output can be defined using the the current state and the input. The first one is a differential equation.\n",
    "\n",
    "Methods for solving differential equations\n",
    "\n",
    "- laplace transform (only useful for when we have laplace transforms)\n",
    "- bernouli equations\n",
    "- inspection\n",
    "- method of undetermined coefficients\n",
    "- \n",
    "\n",
    "\n",
    "\n"
   ]
  },
  {
   "cell_type": "markdown",
   "metadata": {},
   "source": [
    "Here \n",
    "\n",
    "- x(t) is an nx1 state vector\n",
    "- u(t) is an mx1 input vector\n",
    "\n",
    "\n",
    "\n"
   ]
  },
  {
   "cell_type": "markdown",
   "metadata": {},
   "source": [
    "review\n",
    "\n",
    "\n",
    "the basis of a vector space is the set of all linearly independednt vectors in the vector space, and the dimension of the vector is the number of elements in the basis\n",
    "\n",
    "### look up and review leibnitz rule\n",
    "\n"
   ]
  },
  {
   "cell_type": "markdown",
   "metadata": {},
   "source": []
  }
 ],
 "metadata": {
  "kernelspec": {
   "display_name": "Python 3.8.10 64-bit",
   "language": "python",
   "name": "python3"
  },
  "language_info": {
   "name": "python",
   "version": "3.8.10"
  },
  "orig_nbformat": 4,
  "vscode": {
   "interpreter": {
    "hash": "916dbcbb3f70747c44a77c7bcd40155683ae19c65e1c03b4aa3499c5328201f1"
   }
  }
 },
 "nbformat": 4,
 "nbformat_minor": 2
}
