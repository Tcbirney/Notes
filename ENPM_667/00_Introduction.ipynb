{
 "cells": [
  {
   "cell_type": "markdown",
   "metadata": {},
   "source": [
    "# Control Of Robotics Systems: Introduction"
   ]
  },
  {
   "cell_type": "markdown",
   "metadata": {},
   "source": [
    "## Motivation\n",
    "\n",
    "Control Systems can control automated systems like cruise control. In this system we have a desired speed which we set manually. This speed gets compared the desired speed against the actuall speed which results in an error speed. The cruise control system's goal is to reduce the error speed to zero. This usually involves a feedback loop as well.\n",
    "\n",
    "Autopilot is also an example with this excpet the telemetry information was GPS rather than spedometer data\n",
    "\n",
    "\n",
    "### Components of a Robotic System\n",
    "\n",
    "In the example of a robotic gripper\n",
    "\n",
    "- Sensor perception\n",
    "- AI\n",
    "- Path PLanning\n",
    "- Control Module\n",
    "- Sensors\n",
    "- Actuators\n",
    "\n",
    "What we will focus on in this class is the control module. Which is the component that functionally sits in between the path planning navigation and the sensors and actuators.\n",
    "\n",
    "\n",
    "### Control Module Design Cycle\n",
    "\n",
    "- Performance Specs\n",
    "\n",
    "    - Reference tracking\n",
    "\n",
    "    - stability properties\n",
    "\n",
    "    - disturbance rejection and robustness\n",
    "\n",
    "- Modelling\n",
    "\n",
    "    - System dynamics (manipulator, motion, etc)\n",
    "\n",
    "    - actuators\n",
    "\n",
    "    - sensors\n",
    "\n",
    "    - environment\n",
    "\n",
    "- Computer Aided Controller Design (MatLab, Modelica, etc)\n",
    "\n",
    "- Computer Aided Simulation and testing\n",
    "\n",
    "- Implementing and testing\n",
    "\n",
    "Then it feeds back into the beginning to iterate on itself"
   ]
  },
  {
   "cell_type": "markdown",
   "metadata": {},
   "source": [
    "## Basics of System Theory\n",
    "\n",
    "When we abstract a system, we have a black box of some kind of robotic system, which is given inputs, initial conditions, and generates outputs.\n",
    "\n",
    "Inputs could be something as simple as voltages at motors, or camera data\n",
    "\n",
    "Outputs could be something like joint trajectories, or measured speed\n",
    "\n",
    "These systems could be representative of a robotic arm or a quadroter drone.\n",
    "\n",
    "Models are __based__ on real life linear differential equations, yet are often approximated. These involve basic derivatives on inputs, as well as outputs and internal state variables.\n",
    "\n",
    "## State space models\n",
    "\n",
    "A simple example of a second order differential equation is a mass-spring-damber assemblage, shown below\n",
    "\n",
    "![](images/2022-09-11-12-50-58.png)\n",
    "\n",
    "The state of a sytem can be defined as a collection of dynamic variables $\\vec{X}$ that satisfies the following.\n",
    "\n",
    "- It can be used to compute the output of the system\n",
    "- If I know $\\vec{X}(t_0)$ and the inputs from $t_0$ to $t_1$, then I must be able to compute $\\vec{X}(t_0)$\n",
    "\n",
    "Meaning that a possible state space representation for this system is\n",
    "\n",
    "$$\n",
    "\\vec{X}(t) = \n",
    "\\begin{bmatrix}\n",
    "x(t)\\\\\n",
    "\\dot{x}(t)\n",
    "\\end{bmatrix}\n",
    "$$"
   ]
  },
  {
   "cell_type": "markdown",
   "metadata": {},
   "source": []
  },
  {
   "cell_type": "markdown",
   "metadata": {},
   "source": []
  }
 ],
 "metadata": {
  "kernelspec": {
   "display_name": "Python 3.8.10 64-bit",
   "language": "python",
   "name": "python3"
  },
  "language_info": {
   "name": "python",
   "version": "3.8.10"
  },
  "orig_nbformat": 4,
  "vscode": {
   "interpreter": {
    "hash": "916dbcbb3f70747c44a77c7bcd40155683ae19c65e1c03b4aa3499c5328201f1"
   }
  }
 },
 "nbformat": 4,
 "nbformat_minor": 2
}
