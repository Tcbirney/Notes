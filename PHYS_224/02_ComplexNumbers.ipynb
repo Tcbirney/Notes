{
 "metadata": {
  "language_info": {
   "codemirror_mode": {
    "name": "ipython",
    "version": 3
   },
   "file_extension": ".py",
   "mimetype": "text/x-python",
   "name": "python",
   "nbconvert_exporter": "python",
   "pygments_lexer": "ipython3",
   "version": 3
  },
  "orig_nbformat": 2
 },
 "nbformat": 4,
 "nbformat_minor": 2,
 "cells": [
  {
   "source": [
    "# Complex Numbers"
   ],
   "cell_type": "markdown",
   "metadata": {}
  },
  {
   "source": [
    "Complex numbers are numbers which contain a real component as well as an imaginary component.In cartesian form they look like $$\\tilde{z} = ax + bi$$And in Euler's notation, they take the form \n",
    "$$\n",
    "\\tilde{z} = re^{i\\theta}\\\\\n",
    "\n",
    "\\textrm{where } r = \\sqrt{a^2 + b^2}\\\\ \n",
    "\\textrm{and } \\theta = \\tan^{-1}(\\frac{b}{a})\\\\\n",
    "$$\n",
    "\n",
    "We can plot these out on the imaginary plane like\n",
    "<div style=\"text-align: center\"><img src=\"Pictures/img_real_plot.png\"></div>\n",
    "\n",
    "And then we can derive that $x = r \\sin(\\theta) \\textrm{ and } y = r \\sin(\\theta)$"
   ],
   "cell_type": "markdown",
   "metadata": {}
  },
  {
   "source": [
    "## Complex Number Rules\n",
    "\n",
    "\n",
    "### Adding and Subtracting\n",
    "When adding and subtracting complex numbers $\\tilde{z_1}$ and $\\tilde{z_2}$ it is often easier to use cartesian form of the complext numbers. When we add or subtract, all we have to do is combine the real terms, and then combine the imaginary terms. So if\n",
    "$$\n",
    "\\tilde{z_1} = a_1 + b_1i \\textrm{ and } \\tilde{z_2} = a_2 + b_2i \\textrm{ then,}\\\\\n",
    "\\tilde{z_1} + \\tilde{z_2} = (a_1 + a_2) + (b_1 + b_2)i\\\\\n",
    "$$\n",
    "\n",
    "\n",
    "### Multiplying and Dividing\n",
    "When multiplying and dividing complex numbers $\\tilde{z_1}$ and $\\tilde{z_2}$ it is often easier to use the polar form of the complex number. All we would need to do is multiply the real component $r$, and then add the $\\theta$ terms in the exponent. So if\n",
    "$$\n",
    "\\tilde{z_1} = r_1e^{i \\theta_1} \\textrm{ and } \\tilde{z_2} = r_2e^{i \\theta_2}\\\\\n",
    "\\textrm{ then,}\\\\\n",
    "\\tilde{z_1} + \\tilde{z_2} = r_1r_2e^{\\theta_1 + \\theta_2}\\\\\n",
    "$$\n",
    "\n",
    "This also makes it much easier to compute powers of complex numbers. $(re^{i\\theta})^{80}$ seems much easier to compute than $(a + bi)^{80}$\n",
    "\n",
    "### Complex Conjugate\n",
    "\n",
    "Typically it is not allowed to have a complex number in the denominator of a number. TO get rid of an imaginary term. Multiply by the complex conjugate, which is just the same as the original term with the sign of the imaginary component flipped.\n",
    "\n"
   ],
   "cell_type": "markdown",
   "metadata": {}
  },
  {
   "source": [],
   "cell_type": "markdown",
   "metadata": {}
  }
 ]
}