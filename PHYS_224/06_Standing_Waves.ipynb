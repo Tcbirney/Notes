{
 "metadata": {
  "language_info": {
   "codemirror_mode": {
    "name": "ipython",
    "version": 3
   },
   "file_extension": ".py",
   "mimetype": "text/x-python",
   "name": "python",
   "nbconvert_exporter": "python",
   "pygments_lexer": "ipython3",
   "version": 3
  },
  "orig_nbformat": 2
 },
 "nbformat": 4,
 "nbformat_minor": 2,
 "cells": [
  {
   "source": [
    "# Standing Waves\n"
   ],
   "cell_type": "markdown",
   "metadata": {}
  },
  {
   "source": [
    "If we have a string where one end is fixed, and the other is stretched to a length $L$. We know that the y displacement at those x values is zero.\n",
    "\n",
    "Any points in the standing wave which are always 0 with respect to time are called __nodes__. The points midway between any two nodes are called __antinodes__, and these points will express the maximum amplitude of the standing wave.\n",
    "\n",
    "\n",
    "These maxima and minima do not move along the x axis and thus define the standing wave behavior.\n"
   ],
   "cell_type": "markdown",
   "metadata": {}
  },
  {
   "source": [
    "These waves have the equations of \n",
    "$$y(x, t) = 2Asin(kx)sin(wt)$$\n",
    "\n",
    "The maximum amplitude at a point would therefore be $2Asin(kx)$.\n",
    "\n",
    "We get more nodes as we increase which normal mode we are in. So in normal mode 1 we know that the only nodes we have are at x = 0 and x = L. This means that sin(kL) = 0 so kL = n$\\pi$"
   ],
   "cell_type": "markdown",
   "metadata": {}
  },
  {
   "source": [
    "## Energy In a Standing Wave\n",
    "\n",
    "\\begin{equation}\n",
    "E = \\frac{1}{2} \\mu \\int_a^b dx[\\frac{d^y}{dt^2} + v^2 \\frac{d^2y}{dx}]\\\\\n",
    "E = \\frac{1}{4} \\mu L A_n^2 w_n^2\\\\\n",
    "\\end{equation}\n",
    "\n",
    "Where $A_n$ and $w_n$ are the amplitudes and angular frequencies of the normal mode we are in.\n",
    "\n"
   ],
   "cell_type": "markdown",
   "metadata": {}
  },
  {
   "source": [
    "We can see how much each mode contributes to the shape and energy of any standing wave.\n",
    "\n",
    "If $y_n(x, t) = A_n \\sin(\\frac{n \\pi}{L}x)cos(w_n t)$ then the general motion of the string will be a superposition of normal modes as\n",
    "$$y(x, t) = \\sum_n y_n(x, t) = \\sum_n A_n \\sin(\\frac{n \\pi}{L}x) \\cos(w_n t)$$ "
   ],
   "cell_type": "markdown",
   "metadata": {}
  },
  {
   "cell_type": "code",
   "execution_count": null,
   "metadata": {},
   "outputs": [],
   "source": []
  }
 ]
}