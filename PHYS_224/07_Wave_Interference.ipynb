{
 "metadata": {
  "language_info": {
   "codemirror_mode": {
    "name": "ipython",
    "version": 3
   },
   "file_extension": ".py",
   "mimetype": "text/x-python",
   "name": "python",
   "nbconvert_exporter": "python",
   "pygments_lexer": "ipython3",
   "version": 3
  },
  "orig_nbformat": 2
 },
 "nbformat": 4,
 "nbformat_minor": 2,
 "cells": [
  {
   "source": [
    "# Waves Interference"
   ],
   "cell_type": "markdown",
   "metadata": {}
  },
  {
   "source": [
    "Suppose we have two waves, with wavelengths $\\lambda$, that were derived from identical sources. This means that there is no random phase difference. THese waves follow different paths and are recombined at some point in space. \n",
    "\n",
    "The difference in their path lengths from the common source is $s$, and if $s$ is an integer number of wavelengths, then the crests and troughs of one wave line up exactly to those of the other. This is called being __in phase__. When waves are in phase there is constructive interference, and the amplitude of the resulting wave is determined by superposition, resulting in an amplitude of 2A, where A is the amplitude of either wave.\n",
    "\n",
    "If $s$ is an odd number of half wavelengths, then the waves are said to be out of phase and the amplitude fo the resulting wave is zero. This is because th crests of one wave line up to the troughs of another, and vice versa.\n",
    "\n",
    "Valuse for $\\phi$ are shown below for constructive and destructive interference\n",
    "\\begin{equation}\n",
    "\\phi = 2n\\pi, n= 0, \\pm 1, \\pm 2, \\dots\\\\\n",
    "\\phi = 2(n+1)\\pi, n= 0, \\pm 1, \\pm 2, \\dots\\\\\n",
    "\n",
    "\\end{equation}\n",
    "\n",
    "For other values of $s$, the amplitude of the new wave will be bounded by the max and min amplitudes.\n",
    "\n"
   ],
   "cell_type": "markdown",
   "metadata": {}
  },
  {
   "source": [
    "## Huygen's Principle\n",
    "\n",
    "Each point on a primary wave front acts as a source of secondary waves such that the wavefront at some later time is the envelope of the wavelets.\n",
    "\n",
    "<div style=\"text-align: center\"><img src=\"Pictures/huygens_principle.png\"></div>\n",
    "\n",
    "To construct the wave front at time $t$, an arc is drawn from the source of each subwave. The radius of this arc is $v\\Delta t$, where $v$ is the wave velocity. And these wavelets combine to form "
   ],
   "cell_type": "markdown",
   "metadata": {}
  },
  {
   "cell_type": "code",
   "execution_count": null,
   "metadata": {},
   "outputs": [],
   "source": []
  }
 ]
}