{
 "metadata": {
  "language_info": {
   "codemirror_mode": {
    "name": "ipython",
    "version": 3
   },
   "file_extension": ".py",
   "mimetype": "text/x-python",
   "name": "python",
   "nbconvert_exporter": "python",
   "pygments_lexer": "ipython3",
   "version": 3
  },
  "orig_nbformat": 2
 },
 "nbformat": 4,
 "nbformat_minor": 2,
 "cells": [
  {
   "source": [
    "# Travelling Waves"
   ],
   "cell_type": "markdown",
   "metadata": {}
  },
  {
   "source": [
    "We can differentiate between standing and travelling waves. Travelling waves may be longitudinal or transverse waves. Both of these waves have solutions in the wave equation."
   ],
   "cell_type": "markdown",
   "metadata": {}
  },
  {
   "source": [
    "## Physical Characteristics of Waves\n",
    "\n",
    "A disturbance travels or propegates with a definite velocity and are controlled by the mechanical properties of the medium. For a taut string, these are the mass per unit length and the tension in the string. __The medium does not travel with the wave__. The particle move about the equilibrium positions which they are bound to. These can be viewed as a long line of coupled oscillators in a crystal structure.\n",
    "\n",
    "\n",
    "If we use the example of someone shakng a rope we can define the y displacement with the gaussian function\n",
    "$$y = Ae^{-\\frac{x^2}{a^2}}$$\n",
    "\n",
    "Where A is the max amplitude of the wave, x is the dispacement of the peak, and a is the half width at half height.\n",
    "\n",
    "If we have more than one peak being sent down the rope with a distance $b$ inbetween the two peaks, we can model the travelling wave with the equation\n",
    "$$y = Ae^{-\\frac{(x-b)^2}{a^2}}$$\n",
    "\n",
    "We can also use this second wave to get the height in terms of its position and velocity. Since b is the distance the wave has travelled, we can say $v = \\frac{b}{t}$, and thus express the wave as\n",
    "$$y = Ae^{-\\frac{(x-vt)^2}{a^2}}$$\n",
    "\n",
    "The general form of any wave motion of the rope can be written as \n",
    "$$y = f(x-vt) + g(x+vt)$$\n",
    "\n",
    "Where we have two waves, each moving with velocity v, traveling in opposite directions\n"
   ],
   "cell_type": "markdown",
   "metadata": {}
  },
  {
   "source": [
    "## Travelling Sinusoidal Waves\n",
    "\n",
    "Sinusoidal waves are repressened by electomagnetic waves, and more complicated waves can be broken down and expressed as sinusoidal waves. Sinusoidal waves are a repeating pattern. The wavelength $\\lambda$ is the distance between 2 crests of the wavelength. The wave propegates in the x direction and the displacement in the y direction happens perpendicular to the propegation direction.\n",
    "\n",
    "We represent the y displacement of a sinusoidal wave with the equation\n",
    "$$y(x, t) = A\\sin \\frac{2\\pi}{\\lambda}(x-vt)$$\n",
    "\n",
    "The number of times that a wave crest passes a fixed point $x_o$ is the wave frequency $\\bar{v}$ where\n",
    "\\begin{equation}\n",
    "\\bar{v}\\lambda = v\\\\\n",
    "\\textrm{and}\\\\\n",
    "\\bar{v} = \\frac{1}{T}\\\\\n",
    "\\end{equation}"
   ],
   "cell_type": "markdown",
   "metadata": {}
  },
  {
   "source": [
    "## The wave equation\n",
    "\n",
    "We strt with the general eaqaurion of any wave motion $y = f(x - vt) + g(x + vt)$. We will show that this is the general solution of the wave equation.\n",
    "\n",
    "If we take the first component $f(x - vt)$ and say that $u = x-vt$, then we have \n",
    "\\begin{equation}\n",
    "\\frac{df}{dx} = \\frac{df}{du} \\times \\frac{du}{dx}$$\\\\\n",
    "\\textrm{and}\\\\\n",
    "\\frac{d^2f}{dx^2} = \\frac{d}{dx} \\frac{df}{fx} = \\frac{d^2f}{du^2} \\frac{du}{dx} + \\frac{df}{du} \\frac{d^2u}{dx^2}\\\\\n",
    "\\textrm{And Since $\\frac{du}{dx} = 1$ and $\\frac{d^2u}{dx^2} = 0$, we can say that}\\\\\n",
    "\\frac{d^2f}{dx^2} = \\frac{d^2f}{du^2}\\\\\n",
    "\\textrm{and}\\\\\n",
    "\\frac{d^2f}{dt^2} = v^2\\frac{d^2f}{dx^2}\\\\\n",
    "\\textrm{this is the same if we were to consider the secon term instead as well, so we can sy that}\\\\\n",
    "\\frac{d^2(f+g)}{dt^2} = v^2 \\frac{d^2(f+g)}{dx^2}\\\\\n",
    "\\textrm{and hence}\\\\\n",
    "\\frac{d^2y}{dt^2} = v^2 \\frac{d^2y}{dx^2}\\\\\n",
    "\\end{equation}"
   ],
   "cell_type": "markdown",
   "metadata": {}
  },
  {
   "source": [
    "## The equation of a vibrating string\n",
    "\n",
    "Here we are deriving the eqautions for tranverse oscillations of ataught, vibrating string. We have a mass per unit length $\\mu$ and a string tension $T$. The wave propegates in the x direction and inccurs a displacement along the y direction. For small values of y, the tension in the string can thought to be constant.\n",
    "\n",
    "The string, if it occupies waves at $x$ and $x + \\delta t$, the the string has a atension force associated with it at angles $\\theta$ and $\\theta + \\delta t$ repsectively.\n",
    "\n",
    "The force of tension in the strings y direction is $F_y = T \\sin(\\theta)$, and since at small oscillations we have\n",
    "\n",
    "$$\\sin(\\theta) = \\theta = \\tan(\\theta) = \\frac{dy}{dx}$$\n",
    "We can say that $F_y = T \\frac{dy}{dx}$"
   ],
   "cell_type": "markdown",
   "metadata": {}
  },
  {
   "cell_type": "code",
   "execution_count": null,
   "metadata": {},
   "outputs": [],
   "source": []
  }
 ]
}