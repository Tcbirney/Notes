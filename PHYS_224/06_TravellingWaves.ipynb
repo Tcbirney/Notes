{
 "metadata": {
  "language_info": {
   "codemirror_mode": {
    "name": "ipython",
    "version": 3
   },
   "file_extension": ".py",
   "mimetype": "text/x-python",
   "name": "python",
   "nbconvert_exporter": "python",
   "pygments_lexer": "ipython3",
   "version": 3
  },
  "orig_nbformat": 2
 },
 "nbformat": 4,
 "nbformat_minor": 2,
 "cells": [
  {
   "source": [
    "# Travelling Waves"
   ],
   "cell_type": "markdown",
   "metadata": {}
  },
  {
   "source": [
    "We can differentiate between standing and travelling waves. Travelling waves may be longitudinal or transverse waves. Both of these waves have solutions in the wave equation."
   ],
   "cell_type": "markdown",
   "metadata": {}
  },
  {
   "source": [
    "## Physical Characteristics of Waves\n",
    "\n",
    "A disturbance travels or propegates with a definite velocity and are controlled by the mechanical properties of the medium. For a taut string, these are the mass per unit length and the tension in the string. __The medium does not travel with the wave__. The particle move about the equilibrium positions which they are bound to. These can be viewed as a long line of coupled oscillators in a crystal structure.\n",
    "\n",
    "\n",
    "If we use the example of someone shakng a rope we can define the y displacement with the gaussian function\n",
    "$$y = Ae^{-\\frac{x^2}{a^2}}$$\n",
    "\n",
    "Where A is the max amplitude of the wave, x is the dispacement of the peak, and a is the half width at half height.\n",
    "\n",
    "If we have more than one peak being sent down the rope with a distance $b$ inbetween the two peaks, we can model the travelling wave with the equation\n",
    "$$y = Ae^{-\\frac{(x-b)^2}{a^2}}$$\n",
    "\n",
    "We can also use this second wave to get the height in terms of its position and velocity. Since b is the distance the wave has travelled, we can say $v = \\frac{b}{t}$, and thus express the wave as\n",
    "$$y = Ae^{-\\frac{(x-vt)^2}{a^2}}$$\n",
    "\n",
    "The general form of any wave motion of the rope can be written as \n",
    "$$y = f(x-vt) + g(x+vt)$$\n",
    "\n",
    "Where we have two waves, each moving with velocity v, traveling in opposite directions\n"
   ],
   "cell_type": "markdown",
   "metadata": {}
  },
  {
   "source": [
    "## Travelling Sinusoidal Waves\n",
    "\n",
    "Sinusoidal waves are repressened by electomagnetic waves, and more complicated waves can be broken down and expressed as sinusoidal waves. Sinusoidal waves are a repeating pattern. The wavelength $\\lambda$ is the distance between 2 crests of the wavelength. The wave propegates in the x direction and the displacement in the y direction happens perpendicular to the propegation direction.\n",
    "\n",
    "We represent the y displacement of a sinusoidal wave with the equation\n",
    "$$y(x, t) = A\\sin \\frac{2\\pi}{\\lambda}(x-vt)$$\n",
    "\n",
    "The number of times that a wave crest passes a fixed point $x_o$ is the wave frequency $\\bar{v}$ where\n",
    "\\begin{equation}\n",
    "\\bar{v}\\lambda = v\\\\\n",
    "\\textrm{and}\\\\\n",
    "\\bar{v} = \\frac{1}{T}\\\\\n",
    "\\end{equation}"
   ],
   "cell_type": "markdown",
   "metadata": {}
  },
  {
   "cell_type": "code",
   "execution_count": null,
   "metadata": {},
   "outputs": [],
   "source": []
  }
 ]
}