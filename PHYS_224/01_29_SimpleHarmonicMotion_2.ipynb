{
 "metadata": {
  "language_info": {
   "codemirror_mode": {
    "name": "ipython",
    "version": 3
   },
   "file_extension": ".py",
   "mimetype": "text/x-python",
   "name": "python",
   "nbconvert_exporter": "python",
   "pygments_lexer": "ipython3",
   "version": 3
  },
  "orig_nbformat": 2
 },
 "nbformat": 4,
 "nbformat_minor": 2,
 "cells": [
  {
   "source": [
    "## Phase Shifting\n",
    "\n",
    "In/out of Phase\n",
    "\n",
    "## Energy \n",
    "Remember: $$KE = \\frac{1}{2} mv^2$$\n",
    "$$PE = \\frac{1}{2} kx^2$$\n",
    "\n",
    "\n",
    "Is energy conserved in spring and mass system?\n",
    "\n",
    "Why: It is an ideal system. There is no friction. Total energy never changes, there are no forces to take energy out of the system.\n",
    "\n",
    "\n",
    "If $KE = \\frac{1}{2} mv^2$ and $v(t) = -Aw \\sin (wt)$ then \n",
    "$$KE = \\frac{1}{2} m(-Aw \\sin (wt))^2$$\n",
    "$$KE = \\frac{1}{2} m(-Aw \\sin (wt))^2$$ do the derivation\n",
    "$$KE = \\frac{1}{2} mA^2w^2 \\sin ^2 (wt))$$\n",
    "\n",
    "do the same thing for potential energy. $k=mw^2$ somehow,\n",
    "\n",
    "then were going to get a sin^2 + cos^2 in out total energy eq, so the enery is conservered indepented on w or take\n"
   ],
   "cell_type": "markdown",
   "metadata": {}
  },
  {
   "source": [
    "## Convince me math is real\n",
    "\n",
    "remember we genreally start with __Newtons Second Law__ $F = ma$\n",
    "\n",
    "$mx + kx = 0$ Which is a homogeneous 2nd order, linerally differentiable equation"
   ],
   "cell_type": "markdown",
   "metadata": {}
  },
  {
   "cell_type": "code",
   "execution_count": null,
   "metadata": {},
   "outputs": [],
   "source": []
  }
 ]
}