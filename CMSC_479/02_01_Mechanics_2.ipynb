{
 "metadata": {
  "language_info": {
   "codemirror_mode": {
    "name": "ipython",
    "version": 3
   },
   "file_extension": ".py",
   "mimetype": "text/x-python",
   "name": "python",
   "nbconvert_exporter": "python",
   "pygments_lexer": "ipython3",
   "version": 3
  },
  "orig_nbformat": 2
 },
 "nbformat": 4,
 "nbformat_minor": 2,
 "cells": [
  {
   "source": [
    "# Mobility 2: Legs and DOFs"
   ],
   "cell_type": "markdown",
   "metadata": {}
  },
  {
   "source": [
    "## Review: Dof\n",
    "\n",
    "Dofs are the number of independent parameters that define the state (__not the location__) of the physical system.\n",
    "\n",
    "Fo eaxample, an arm with a hinge only needs one DOF to describe the state. It only needs the $\\Theta$ of the hinge"
   ],
   "cell_type": "markdown",
   "metadata": {}
  },
  {
   "source": [
    "## Legged Motion\n",
    "\n",
    "The less legs you have, the more complicated the walking process is.\n",
    "\n",
    "Static walking \n",
    "- When we are walking an can always maintain 3 points of contact. This is beneficial because we can keep the projection of the center of gravity within the area contained by the points of contact, which keeps the robot stable. This means that for static walking we need at least 4 legs, since we need one of them to be off the ground to move.\n",
    "\n",
    "\n",
    "Dynamic Walking\n",
    "- In dynamic walking we have less than three points of contact touching the ground, and we need to exert energy to balance. Dynamic walking is more efficient but also more dangerous than static walking. Bipedal robots generally are generally harder to make because they implement dynamic walking.\n",
    "\n",
    "\n",
    "We need at least 2 DOFs to walk\n",
    "- one to lift leg up\n",
    "- one to swing\n",
    "\n",
    "We usually have 3 DOFs in each leg because we need to include a hip. We can also have a fourth if we want to include some kind of ankle, but it isn't always needed.\n",
    "\n",
    "Balancing is much easier to do when we are moving than when we are standing still, so we will often see bipedal robots that are always moving and shifting their weight because it is easier for them to stand up.\n"
   ],
   "cell_type": "markdown",
   "metadata": {}
  },
  {
   "source": [
    "### Gait\n",
    "\n",
    "Gait is the number of events that have to happen during walking. It is a distinct sequence of lift and release events of individual legs.\n",
    "\n",
    "Different styles of walking is comprised of different poses that each of the leg can be in. A leg can either be up or down, so if a robot has $k$ legs, then there are $N = (2k -1)$ different events between poses that can be done that can be done.\n",
    "\n",
    "Gaits can be divided into static and dynamic gaits, where static gaits maintain 3 points of contact at all times, and dynamic gaits have less (like galoping)\n"
   ],
   "cell_type": "markdown",
   "metadata": {}
  },
  {
   "source": [
    "## Wheels\n",
    "\n",
    "Three wheels guarantee stability, but with more than three wheels we need to worry about whether they bounce (__suspension__)\n",
    "\n",
    "We can have wheels that have more than just one degree of freedom\n",
    "- Standard wheels have two degrees of freedom (translation of main body, and rotation of wheel axle)\n",
    "- Caster and Omni wheels have three degrees of freedom (translation of main body, rotation of main axle, and rotation of mounting axle)\n",
    "\n",
    "We also have spherical wheels (ball wheels), which are controlled by rollers mounted at the top of the ball\n",
    "\n",
    "\n",
    "Bigger wheels can go over more things, however they require more control, meaning more torque.\n",
    "\n",
    "__We can combine actuation and streering. What does this mean?__\n",
    "\n",
    "\n",
    "There are many configurations of wheels on robots. We can decide which ones steer, or which ones drive the motor and how.Ther are things called synchro drives where all of the wheels are driven by one motor which defines the speed of the robot, and all wheels are steered by a second motor. This makes it impossible to control the orientation of the robot, so its orientation will always bee the same in space.\n",
    "\n",
    "\n",
    "Walking wheels try to have the flexibility of legs, but with the advantages of wheels. You don't need to power the legs and wheels at the same time, because it can either walk or roll. "
   ],
   "cell_type": "markdown",
   "metadata": {}
  },
  {
   "source": [
    "### Weird wheels\n",
    "\n",
    "Slip\n",
    "- When the wheel is turning but the robot is not moving.\n",
    "\n",
    "Treads are good for somethings but have massive trade offs. They are very useful for carrying heavy things and they can move in rough terrain, however they can only operate by using slip, so this requires high friction and high torque. This also almost always destroys the environment that they move in."
   ],
   "cell_type": "markdown",
   "metadata": {}
  }
 ]
}