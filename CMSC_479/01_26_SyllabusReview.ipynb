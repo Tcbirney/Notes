{
 "cells": [
  {
   "cell_type": "markdown",
   "metadata": {},
   "source": [
    "# Syllabus Review\n",
    "\n",
    "## Meetings\n",
    "\n",
    "- located on [zoom](https://zoom.us/j/95870176978?pwd=emdyT3gvWmc5a2lmNk9yRDArUkNJUT09)\n",
    "- camera on please"
   ]
  },
  {
   "cell_type": "markdown",
   "metadata": {},
   "source": [
    "## Course Materials\n",
    "\n",
    "All materials will be located on these links\n",
    "\n",
    "[Syllabus](https://www.csee.umbc.edu/courses/graduate/679/spring2021/index.html)\n",
    "\n",
    "[Schedule](https://www.csee.umbc.edu/courses/graduate/679/spring2021/index.html)"
   ]
  },
  {
   "cell_type": "markdown",
   "metadata": {},
   "source": [
    "## Grade Distribution\n",
    "\n",
    "|Assignment|Weight|\n",
    "|---|---|\n",
    "|Homework|20|\n",
    "|Project|30|\n",
    "|Midterm|15|\n",
    "|Final|20|\n",
    "|__Participation__|__15__|\n",
    "\n"
   ]
  },
  {
   "cell_type": "markdown",
   "metadata": {},
   "source": [
    "## Assignment Policy\n",
    "\n",
    "Homeworks are due 11:59 the night before class.\n",
    "25% of for each day late. There are some team assignments, and teams will be assigned based on interest. There are no TAs or graders.\n",
    "\n",
    "The best way to get questions answered is to\n",
    "\n",
    "1. Ask the questions in class\n",
    "2. Post question on Piazza\n",
    "3. Email is **last resort**"
   ]
  }
 ],
 "metadata": {
  "kernelspec": {
   "display_name": "Python 3",
   "language": "python",
   "name": "python3"
  },
  "language_info": {
   "codemirror_mode": {
    "name": "ipython",
    "version": 3
   },
   "file_extension": ".py",
   "mimetype": "text/x-python",
   "name": "python",
   "nbconvert_exporter": "python",
   "pygments_lexer": "ipython3",
   "version": "3.8.5"
  }
 },
 "nbformat": 4,
 "nbformat_minor": 2
}