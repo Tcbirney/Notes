{
 "metadata": {
  "language_info": {
   "codemirror_mode": {
    "name": "ipython",
    "version": 3
   },
   "file_extension": ".py",
   "mimetype": "text/x-python",
   "name": "python",
   "nbconvert_exporter": "python",
   "pygments_lexer": "ipython3",
   "version": "3.8.5-final"
  },
  "orig_nbformat": 2,
  "kernelspec": {
   "name": "python3",
   "display_name": "Python 3",
   "language": "python"
  }
 },
 "nbformat": 4,
 "nbformat_minor": 2,
 "cells": [
  {
   "source": [
    "# Robotics Overview\n",
    "\n",
    "## Goals\n",
    "\n",
    "- TBD\n",
    "\n",
    "## Topics\n",
    "<!-- I want to make this an index that points to different md files -->\n",
    "- Sensing\n",
    "- Actuators\n",
    "- Control Software\n",
    "- Motors\n",
    "- Locomotion\n",
    "- Manipulation\n",
    "- Kinematics\n",
    "- Localization\n",
    "- Motion Planning\n",
    "- Machine Learning\n",
    "- Hardware Design\n",
    "- Cognition\n",
    "- Human Robot Interaction"
   ],
   "cell_type": "markdown",
   "metadata": {}
  },
  {
   "source": [
    "## What subsystems are there?\n",
    "\n",
    "## Sensing\n",
    "\n",
    "> Where am I?  Whats around me?\n",
    "\n",
    "There is a sensing actuation loop where the robot only has access to a model of the world. An open loop does not have sensing but a closed loop does.\n",
    "\n",
    "Robots perceive the world through sensors. We have access to passive and active sensors.\n",
    "\n",
    "Passive/Active Sensors"
   ],
   "cell_type": "markdown",
   "metadata": {}
  },
  {
   "source": [
    "## Actuation\n",
    "\n",
    "Actuation is when we effect our environment by taking some action on it, such as\n",
    "\n",
    "- pick and place\n",
    "- path control\n",
    "- deploy sensors\n",
    "- world interaction\n",
    "\n",
    "### Actuators\n",
    "\n",
    "#### 1. Manipulators\n",
    "  \n",
    "  - anchored somewhere\n",
    "  - industrial\n",
    "  - operate on an object\n",
    "\n",
    "#### 2. Mobile Robots\n",
    "\n",
    "- move around\n",
    "\n",
    "#### 3. Mobile manipulators\n",
    "\n",
    "- move and do stuff to an object\n",
    "\n",
    "For the most part we mean motors and servos"
   ],
   "cell_type": "markdown",
   "metadata": {}
  },
  {
   "source": [
    "## Control\n",
    "\n",
    "Different types include\n",
    "\n",
    "- navigation\n",
    "- motion planning\n",
    "- kinematics\n",
    "\n",
    "## Cognition and Learning\n",
    "\n",
    "## Interfaces\n"
   ],
   "cell_type": "markdown",
   "metadata": {}
  },
  {
   "cell_type": "code",
   "execution_count": null,
   "metadata": {},
   "outputs": [],
   "source": []
  }
 ]
}