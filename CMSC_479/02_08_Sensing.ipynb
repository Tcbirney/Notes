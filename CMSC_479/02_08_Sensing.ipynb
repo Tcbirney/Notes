{
 "metadata": {
  "language_info": {
   "codemirror_mode": {
    "name": "ipython",
    "version": 3
   },
   "file_extension": ".py",
   "mimetype": "text/x-python",
   "name": "python",
   "nbconvert_exporter": "python",
   "pygments_lexer": "ipython3",
   "version": 3
  },
  "orig_nbformat": 2
 },
 "nbformat": 4,
 "nbformat_minor": 2,
 "cells": [
  {
   "source": [
    "# Review\n",
    "\n",
    "Remember kinematics\n",
    "\n",
    "Transformation matrices. $\\xi_i$ is for the global frame. Positive is always counterclockwise from the heading orientation, with respect to the positive x direction. The rotation matrix is used for communicating information from the robots frame of reference back to the global frame of reference."
   ],
   "cell_type": "markdown",
   "metadata": {}
  },
  {
   "source": [
    "## Sensing\n",
    "\n",
    "_What are sensors?_ They allow us to observe and collect information about the world.\n",
    "\n",
    "- Characterizing Senses\n",
    "    - Exteroceptive: Measures info about robots environment.\n",
    "    - Proprioceptive: Measure things internal to robot, ie Hardware stats\n",
    "\n",
    "- Passive vs Active\n",
    "    - Passive sensors recieve energy from environmet\n",
    "    - Active sensors emit energy to find out info\n",
    "\n",
    "- Incremental Vs Absolute\n",
    "    - Incremental sensors report change in a sensors value\n",
    "    - Absolute sensors report the total cummulative value of the sensed value regardles of the state of the robot"
   ],
   "cell_type": "markdown",
   "metadata": {}
  },
  {
   "source": [
    "## Pose and Location Sensors\n",
    "\n",
    "\n",
    "_What do pose, orientation, and location mean?_\n",
    "\n",
    "- Pose: location of every point on robots body with repsect to some point on the robots body\n",
    "- Orientation: Where is the robot's heading with respect to the original frame of reference\n",
    "- Location: Where is the robots position with respect to the original frame of reference\n",
    "\n",
    "Encoders are pose encoders. They transmit some rotational position into a readable signal. \n",
    "- Wheel, joint, motor encoders are examples of these\n",
    "\n",
    "\n",
    "Optical Sensors - use a light source and sensor.\n",
    "\n",
    "Absolute encoders require unique signal for every position, requres better Sensors. These give absolute potion rather than relative. \n",
    "\n",
    "Quadrature encoders are two off phase encoders. They give higher resolution with less cameras, but they need to be running because they rely on changes in the value. Since they cannot report data unless they have a previous data point they are relative sensors.\n",
    "\n",
    "\n",
    "Magnetic Encoders\n",
    "- Magnet + Hall Sensor genrate an electricsl signal by moving a magnet near an inductor, which then alters a counter circuit.\n"
   ],
   "cell_type": "markdown",
   "metadata": {}
  },
  {
   "source": [
    "## Odometry and Localization\n",
    "\n",
    "localization - I have/am a robot, where am I, Figuring it out without cues form environment. Because we need to know already what environments look like before we go there. We discover environments as we explore.\n",
    "\n",
    "\n",
    "Dead Reckoning - Using only propioceptive sensive to determine where we are. Sensitive to errors, calibration of equipment, terrain variances.\n",
    "\n",
    "\n",
    "Heading sensors - proprioceptive\n",
    "Inclinometers, accelerometers\n"
   ],
   "cell_type": "markdown",
   "metadata": {}
  },
  {
   "source": [
    "\n",
    "## Heading\n",
    "\n",
    "We need to understand frame of reference to undertand heading. Firstly, axes are not always orthogonal. The frame of the space in which someone is oriented can be based on non orthogonal axes. We have no way of comparing frames of reference until we have a global frame of reference.\n",
    "\n",
    "Heading sensors\n",
    "- Compasses\n",
    "\n",
    "- Hall effect sensors\n",
    "    - Magentic fields are weak, and can be easily be manipulated\n",
    "    \n",
    "- Gyroscopes\n",
    "    - Very accurate\n",
    "    - Optical gyroscopes utilize lasers that are traveling around a cyclinder. Calulates difference in times a sensor reads the two laser signals\n",
    "\n",
    "\n",
    "Location Sensors\n",
    "-   Beacons\n",
    "\n",
    "These are guiding devices with precisely known position. We can have natural beacons, such as natural landmarks, or we can have artificial landmarks such as road signs.\n",
    "\n",
    "Ground based beacons\n",
    "- Post with reflective tape (passive) or infrared emmiting beacons (active)\n",
    "        - These only work in environments that have been tailored to be intrumented.\n",
    "\n",
    "\n",
    "\n",
    "GPS\n",
    "- 24 satelites\n",
    "- 4 in 6 planes, 55 degrees apart, with respect to equator\n",
    "\n",
    "This produces synchronization and interference challenges, however it is accurate down to ~2 meters.\n",
    "\n",
    "\n"
   ],
   "cell_type": "markdown",
   "metadata": {}
  },
  {
   "source": [
    "## Physics of localization\n",
    "\n",
    "$\\frac{d}{dx}$ position = velocity\n",
    "\n",
    "$\\frac{d}{dx}$ velocity = acceleration\n",
    "\n",
    "$\\frac{d}{dx}$ acceleration = jerk\n",
    "\n",
    "We measure acceleration with accelerometers\n",
    "\n",
    "Piezo Accelerometers\n",
    "- crytal structures are stresses by acceleration\n",
    "\n",
    "Capacitive Accelerometers\n",
    "- crystal stress can create a measurable change in capacitance\n",
    "\n",
    "IMU (Inertial Measurement Unit)\n",
    "- These measure linear motion (direction, velocity, acceleration) and angular motion (rotaitional direction/speed)\n",
    "\n",
    "The older, simpler implementation is to integrate 3 gyroscopes and 3 accelerometers, but these days you would just buy one.\n",
    "\n",
    "\n"
   ],
   "cell_type": "markdown",
   "metadata": {}
  }
 ]
}