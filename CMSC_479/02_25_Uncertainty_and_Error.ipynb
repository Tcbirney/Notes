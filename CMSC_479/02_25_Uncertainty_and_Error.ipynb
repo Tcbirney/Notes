{
 "metadata": {
  "language_info": {
   "codemirror_mode": {
    "name": "ipython",
    "version": 3
   },
   "file_extension": ".py",
   "mimetype": "text/x-python",
   "name": "python",
   "nbconvert_exporter": "python",
   "pygments_lexer": "ipython3",
   "version": 3
  },
  "orig_nbformat": 2
 },
 "nbformat": 4,
 "nbformat_minor": 2,
 "cells": [
  {
   "source": [
    "# Uncertainty and Error"
   ],
   "cell_type": "markdown",
   "metadata": {}
  },
  {
   "source": [
    "## Uncertainty in Robotics\n",
    "\n",
    "Models are not perfect\n",
    "- wrt to sensors or actuators\n",
    "\n",
    "_So how do we act with uncertainty_"
   ],
   "cell_type": "markdown",
   "metadata": {}
  },
  {
   "source": [
    "## Making Rational Decisions\n",
    "\n",
    "To make rational decisions we need\n",
    "- Probablity: Exact numerical representation of knowledge and uncertainty\n",
    "\n",
    "- Probability Theory: how to update your model (knowledge) based on new information.\n",
    "\n",
    "- Decision Theory: probability theory + utility theory\n",
    "\n",
    "\n",
    "We use these components to maximize expected utility\n"
   ],
   "cell_type": "markdown",
   "metadata": {}
  },
  {
   "source": [
    "## Stat Review\n",
    "\n",
    "### Discrete Random Variables\n",
    "\n",
    "$X$ denotes a discrete random variable. $X$ can take a discrte number of $z$ values in ${x_1, x_2, \\dots, x_n}$. $P(X=x_i)$, $P(x_i)$, or $Pr(x_i)$, is the probability that the random variable has the same value as $x_i$. $P(\\cdot)$ is called its probability mass function\n"
   ],
   "cell_type": "markdown",
   "metadata": {}
  },
  {
   "source": [
    "### Continuous Random Variables\n",
    "\n",
    "Here $X$ takes on arbitrary values in the continuum. $P(X=x)$ or $P(x)$ is a probability density function.\n",
    "\n",
    "<div style=\"text-align: center\"><img src=\"Pictures/pdf.png\"></div>"
   ],
   "cell_type": "markdown",
   "metadata": {}
  },
  {
   "source": [
    "### Bayes Theorem\n",
    "\n",
    "This gives the probability of an event based on prior knowledge of relevant conditions.\n",
    "\n",
    "\\begin{equation}\n",
    "P(x,y) = P(x|y)P(y) = P(y|x)P(x)\\\\\n",
    "\\textrm{Gives}\\\\\n",
    "P(x|y) = \\frac{P(y|x)P(x)}{P(y)} = \\frac{\\textrm{likelihood x prior}}{\\textrm{evidence}}\\\\ \n",
    "\\end{equation}\n",
    "\n"
   ],
   "cell_type": "markdown",
   "metadata": {}
  },
  {
   "source": [
    "### Independence\n",
    "\n",
    "Two variables $X, Y$ are independent if they probability of $X$ is in no way related to the probability of $Y$. Independence requires the statements below to be true\n",
    "\n",
    "\\begin{equation}\n",
    "P(x|y) = P(x)\\\\\n",
    "\\textrm{and}\\\\\n",
    "P(x \\textrm{ and } y) = P(x) \\cdot P(y)\\\\\n",
    "\\end{equation}"
   ],
   "cell_type": "markdown",
   "metadata": {}
  },
  {
   "source": [
    "### Conditional Dependence\n",
    "\n",
    "Two variables $X, Y$ are conditionally dependent when $P(X)$ and $P(Y)$ depend on a third factor $P(Z)$.\n",
    "\n",
    "\\begin{equation}\n",
    "P(x, y|z) = P(x|z) P(y|z)\\\\\n",
    "\n",
    "\\textrm{implies}\\\\\n",
    "\n",
    "P(x|z) = P(x|z, y)\\\\\n",
    "\\textrm{and}\\\\\n",
    "P(y|z) = P(y|z, x)\\\\\n",
    "\n",
    "\\end{equation}"
   ],
   "cell_type": "markdown",
   "metadata": {}
  },
  {
   "source": [
    "## Error and Uncertainty\n",
    "\n",
    "Sensing is always related to Uncertainty\n",
    "\n",
    "Sources of Uncertainty\n",
    "- blown out camera\n",
    "- cheap rangefinder\n",
    "- skidding wheel\n",
    "- background noise\n",
    "\n",
    "_How can uncertainties be represented/quantified_\n",
    "- __Deterministic vs Random Error__\n",
    "\n",
    "_How do they propagate_\n",
    "- _What is the uncertainty of a function that uses uncertain values?_\n",
    "- _How do uncertain values combine if different sensor readings are fused?_"
   ],
   "cell_type": "markdown",
   "metadata": {}
  },
  {
   "source": [
    "## Distributions\n",
    "\n",
    "_How can a reading be wrong?_\n",
    "- Poor surface for your distance sensor\n",
    "- Imprecise ranging method\n",
    "- User error\n",
    "\n"
   ],
   "cell_type": "markdown",
   "metadata": {}
  },
  {
   "source": [
    "## Causal (observed) priors\n",
    "\n",
    "If our measured distance is Z, then we say that $P(open|z)$ is __diagnostic__, and P(z|open) is __causal__.\n",
    "\n",
    "Often times cause knowledge is easier to obtain. Bayes rule allows us to use causal knowledge."
   ],
   "cell_type": "markdown",
   "metadata": {}
  },
  {
   "source": [
    "For each new datapoint z given, how do we estimate $P(x|z_1, z_2, \\dots, z_n)$\n",
    "\n",
    "__Recursive Bayesian Updating__\n",
    "\n",
    "\\begin{equation}\n",
    "P(X|z_1, z_2, \\dots, z_n) \\ \\frac{P(z_n, x, z_1, \\dots, z_n), P(x, z_1, \\dots, z_{n-1})}{P(z_n|z_1, \\dots, z_{n-1})}\\\\\n",
    "\n",
    "= \\eta P(z_n|x)P(z|z_1, \\dots, z_{n-1}\\\\\n",
    "= \\eta_{1, \\dots, n} \\prod_{i=1, \\dots, n} P(z_i|x)P(x)\n",
    "\\end{equation}\n"
   ],
   "cell_type": "markdown",
   "metadata": {}
  },
  {
   "source": [
    "## More Statistics Review\n",
    "\n",
    "### Expected Value\n",
    "Expected Value of a real valued random variable X with density function f(x):\n",
    "\n",
    "$E[X] = \\int x f(x)$\n",
    "\n",
    "The expected value of a discrete valued random variable X with distribution P(x):\n",
    "\n",
    "$E[X] = \\sum x P(x)$\n",
    "\n",
    "And if two random variables $X, Y$ are independent, then \n",
    "$E[X * Y] = E[X] * E[Y]$\n",
    "\n",
    "### Variance\n",
    "\n",
    "How far a set of numbers is spread out.\n",
    "\n",
    "$E[(x-\\mu)^2] = \\int x^2 f(x) - u^2$\n",
    "\n",
    "If the variances of 2 RVs are related, then we have covariance. Given 2 random variables, X1 and X2 and $E[(X1-\\mu X1)(X2 - uX2)]$, then what happens in each case\n",
    "\n",
    "- When X1 is above its mean, X2 tends to be below its mean\n",
    "- When X1 is above its mean, X2 tends to be way above its mean\n",
    "\n"
   ],
   "cell_type": "markdown",
   "metadata": {}
  },
  {
   "source": [
    "## Error and Accuracy\n",
    "\n",
    "Error is the difference between sensor reading and true value. \n",
    "\n",
    "Accuracy is a unitless measurement such that \n",
    "$$accuracy = 1- \\frac{m-v}{v}$$"
   ],
   "cell_type": "markdown",
   "metadata": {}
  },
  {
   "source": [
    "## Precision\n",
    "\n",
    "Precision is a measure of reproducability of sensor results\n",
    "\n",
    "The distribution of errors can be characterizes by \n",
    "- mean error $\\mu$\n",
    "- standard deviation $\\sigma$\n",
    "\n",
    "$$Precision = \\frac{range}{\\sigma}$$"
   ],
   "cell_type": "markdown",
   "metadata": {}
  },
  {
   "source": [
    "## Statistical Representation of E\n",
    "\n",
    "Error: the difference bwteen measured and true value\n",
    "\n",
    "Howcan we treat sensing as an estimation.\n",
    "\n",
    "Z: random variable representing actual value\n",
    "- eg distance = 4 meters\n",
    "\n",
    "E\\[X]: estimate of the true value\n",
    "\n",
    "Given n sensor readings $(\\rho_1, \\rho_2, \\dots, \\rho_n)$\n",
    "\n",
    "$E[X] = g(\\rho_1, \\rho_2, \\dots, \\rho_n)$"
   ],
   "cell_type": "markdown",
   "metadata": {}
  },
  {
   "source": [
    "## Representation of Uncertainty\n",
    "\n",
    "Errors exist on a spectrum. From seterministic to non deterministic. Deterministic errors are those that are conistent and can be predicted. The probability density function f(x) gives the probability for any x in X.\n",
    "\n"
   ],
   "cell_type": "markdown",
   "metadata": {}
  }
 ]
}