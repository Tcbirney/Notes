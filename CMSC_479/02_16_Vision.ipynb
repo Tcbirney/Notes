{
 "metadata": {
  "language_info": {
   "codemirror_mode": {
    "name": "ipython",
    "version": 3
   },
   "file_extension": ".py",
   "mimetype": "text/x-python",
   "name": "python",
   "nbconvert_exporter": "python",
   "pygments_lexer": "ipython3",
   "version": 3
  },
  "orig_nbformat": 2
 },
 "nbformat": 4,
 "nbformat_minor": 2,
 "cells": [
  {
   "source": [
    "# Vision\n"
   ],
   "cell_type": "markdown",
   "metadata": {}
  },
  {
   "source": [
    "How do cameras work\n",
    "\n",
    "Rule of thirds and rule of composistion. Images follow compositional rules because humans are needy. \n",
    "\n",
    "COmputer vision/\n",
    "\n",
    "\n",
    "flow of information compression\n",
    "(Navigation        ) -> (Interaction) -> (Servicing and Reasoning)\n",
    "raw data -> features -> objects       -> places/situations\n",
    "\n",
    "\n",
    "Paramters of a Camera\n",
    "- aperture - how much light\n",
    "- shutter speed - how long is light exposed\n",
    "- resolution - fine grain\n",
    "- gain and saturation\n",
    "- focus and focal depth\n",
    "\n",
    "Failure modes\n",
    "\n",
    "blue to red sensitivity\n",
    "\n",
    "cross sensitive\n",
    "\n",
    "__dynamic range__\n",
    "- How far into the dark and how far into the light is allowed to exist in the same picture\n",
    "- Braodly speaking its done by taking two picutres simultneaously with a small time difference"
   ],
   "cell_type": "markdown",
   "metadata": {}
  },
  {
   "source": [
    "## Images\n",
    "\n",
    "Cameras have resolution, film does not. Digital cameras output a matrix of rgb values. With the same number of images as the resolution of the images.\n",
    "\n",
    "Depth images. Raw depth images and\n",
    "\n",
    "we parse raw percepts into features and objects.\n",
    "\n",
    "### Focus and aperture\n",
    "\n",
    "limits the amount of overlapping rays on each part of the film.\n",
    "the smaller the aperture, then the longer the exposure time\n",
    "\n",
    "lenses focus \n",
    "\n",
    "\n",
    "digital cameras have a charged coupled device instead of film. Light sensitive elements called pixels are etched on silicon.Photons hitting pixels create an analog perelement charge that can be read"
   ],
   "cell_type": "markdown",
   "metadata": {}
  },
  {
   "source": [
    "## Range Sensors\n",
    "\n",
    "Range SensorsHow far is a robot from something\n",
    "STereo vision\n",
    "\n",
    "time of flight\n",
    "    laser\n",
    "    sonar\n",
    "    kinect2\n",
    "\n",
    "Structured light\n",
    "    kinect\n",
    "\n",
    "Range sensors return per pixel depth, how far is that thing from a single pixel\n",
    "\n",
    "\n",
    "### Steroe visison\n",
    "    calculate distance with points of view\n",
    "    left and right cameras view are somewht differetn, and software knits thme together.\n",
    "\n",
    "b = baseline: distance between optical centers of cameras\n",
    "f = focal length\n",
    "v-v` = disparity between views\n",
    "\n",
    "\n",
    "distance is inversely proportional to disparity\n",
    "disparity is proportional to the baseline\n",
    "    however if b becaomes too large, then some opbejcts may appear in one pov but be completely absent from the other\n",
    "\n",
    "correspondence\n",
    "two cameras see slightly different scenes, so how do the points correspond from each other. Calculating this can be slow and imperfect.\n",
    "\n",
    "\n",
    "We output a disparity map\n",
    "\n",
    "for each pair of conjugate points, calculate and plot the disparity "
   ],
   "cell_type": "markdown",
   "metadata": {}
  },
  {
   "source": [
    "## Structured Light\n",
    "\n",
    "Figuring out what something looks like because we know wht the returning light should look like. No correspondence problem. Can tell displacement and angle of object form returned light\n",
    "\n",
    "\n",
    "## TIme of flight\n",
    "uses propegation of speed of wves\n",
    "\n",
    "Sound or electromagnetic\n",
    "\n",
    "\n",
    "sources of innacuracies\n",
    "uncertainty in Time measure\n",
    "uncertainty in target IE(glass that doesnt bounce light)\n",
    "\n",
    "\n",
    "We need to know variation of propegation speed\n",
    "speed of modile robot and target\n",
    "\n"
   ],
   "cell_type": "markdown",
   "metadata": {}
  }
 ]
}