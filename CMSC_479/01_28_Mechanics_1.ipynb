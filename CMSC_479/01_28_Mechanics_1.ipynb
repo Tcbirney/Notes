{
 "metadata": {
  "language_info": {
   "codemirror_mode": {
    "name": "ipython",
    "version": 3
   },
   "file_extension": ".py",
   "mimetype": "text/x-python",
   "name": "python",
   "nbconvert_exporter": "python",
   "pygments_lexer": "ipython3",
   "version": 3
  },
  "orig_nbformat": 2
 },
 "nbformat": 4,
 "nbformat_minor": 2,
 "cells": [
  {
   "source": [
    "## General topics \n",
    "\n",
    "- Hardware (less regarding like physcial computing elements but actually like structural material)\n",
    "- Sensing\n",
    "- Actuation\n",
    "- Motors\n",
    "- Control\n",
    "- Cognition\n",
    "- Human Robot Interaction\n",
    "\n"
   ],
   "cell_type": "markdown",
   "metadata": {}
  },
  {
   "source": [
    "\n",
    "## Modern Robots\n",
    "\n",
    "modern robotics started emerging in 50s and 60s\n",
    "\n",
    "factory pick and place robots\n",
    "- stanford arm\n",
    "\n",
    "shakey the robot was the first mobile robot\n",
    "\n"
   ],
   "cell_type": "markdown",
   "metadata": {}
  },
  {
   "source": [
    "## Manipulation\n",
    "- physically alters the world\n",
    "\n",
    "\n",
    "\n",
    "## Mobility\n",
    "-legs, wheels, and anything that lets it move through the worls\n"
   ],
   "cell_type": "markdown",
   "metadata": {}
  },
  {
   "source": [
    "## Kinematics\n",
    "\n",
    "- study of motion of ocjects\n",
    "    - gemoetricall possible motion of a body\n",
    "    - without the consideration of the causes and effects of the motions\n",
    "\n",
    "- determines eventual position and orientation\n",
    "> How do we get where we want\n",
    "\n",
    "Pose = position and orientation\n",
    "Robots have their own frame of reference {Xr, Yr}\n",
    "The world has another frame of reference {Xi, Yi}\n",
    "\n",
    "Robot point: p, \n",
    "Position of point p \n",
    "\n"
   ],
   "cell_type": "markdown",
   "metadata": {}
  },
  {
   "source": [
    "## Mechanics\n",
    "\n",
    "### Terminology\n",
    "- deg of freedom\n",
    "- compliance, back drive\n",
    "\n",
    "rolling is the easiest form of movement\n",
    "bipedal walking is very similar to rolling\n",
    "\n",
    "\n",
    "### locomotion\n",
    "- phys interactions bewtenn robot and env\n",
    "- concerned with interaction forces, and their machanoisms and actuarots\n",
    "\n",
    "__Most important issues__\n",
    "\n",
    "\n",
    "\n",
    "__Degrees of freedom__\n",
    "- number of independent paramters that define the state __NOT LOCATION__\n",
    "\n",
    "\n",
    "### compliance backdrive\n",
    "Motion of a DOF in response to external forces\n",
    "\n",
    "Actice compliance\n",
    "\n",
    "Passive compliance\n",
    "\n",
    "Back Driveable means we can whysically move it without breaking it\n",
    "- this means its passive\n",
    "    - like my elbow\n",
    "- this is a product of motor and gear type\n",
    "\n",
    "compliance is whether it moves, \n",
    "backdriveability is whether it breaks whe you move it\n",
    "\n",
    "there is no movement without any degrees of freedom\n",
    "\n",
    "\n",
    "### Slip\n",
    "gears fail to catch\n"
   ],
   "cell_type": "markdown",
   "metadata": {}
  }
 ]
}