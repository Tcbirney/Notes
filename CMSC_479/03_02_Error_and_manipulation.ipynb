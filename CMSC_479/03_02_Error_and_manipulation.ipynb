{
 "metadata": {
  "language_info": {
   "codemirror_mode": {
    "name": "ipython",
    "version": 3
   },
   "file_extension": ".py",
   "mimetype": "text/x-python",
   "name": "python",
   "nbconvert_exporter": "python",
   "pygments_lexer": "ipython3",
   "version": 3
  },
  "orig_nbformat": 2
 },
 "nbformat": 4,
 "nbformat_minor": 2,
 "cells": [
  {
   "source": [
    "Errors and uncertainty\n",
    "\n",
    "Probability review, expected value, random variables, \n",
    "\n",
    "Expected Value E[x] discrete values rv x is given as sum of Probability*value\n",
    "\n",
    "With a real values density function we integrate over the density function\n",
    "\n",
    "Variance, how far a set of numbers is pread out. \n",
    "\n",
    "If variables are correlated, then we have to take covariance into account\n",
    "\n",
    "Need to know variable to determine arror rate between measured value and actual Error\n",
    "\n",
    "\n",
    "accuracy is a unitless value, 1- (m-v)/v\n",
    "Accuracy obscures some information so not used often\n",
    "\n",
    "\n",
    "precision, how closely grouped are each of the readings.\n",
    "precisison = range/stddev\n",
    "\n",
    "conditional expectation = g(r1, r2, r_n)\n",
    "\n",
    "\n",
    "\n"
   ],
   "cell_type": "markdown",
   "metadata": {}
  },
  {
   "source": [
    "deterministic vs nondeterministic readings. Some errors are more consistent in each situation and are more deterministic\n",
    "\n",
    "If the errors are more random, then they are non deterministic"
   ],
   "cell_type": "markdown",
   "metadata": {}
  },
  {
   "source": [
    "true value = X\n",
    "estimate value = E[X]"
   ],
   "cell_type": "markdown",
   "metadata": {}
  },
  {
   "source": [
    "want to propegate errors forward. Derive confidence limits based on probability of error. How confident are we that a sensors readings are accurate."
   ],
   "cell_type": "markdown",
   "metadata": {}
  }
 ]
}