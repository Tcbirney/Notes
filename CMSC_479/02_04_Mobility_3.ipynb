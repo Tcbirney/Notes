{
 "metadata": {
  "language_info": {
   "codemirror_mode": {
    "name": "ipython",
    "version": 3
   },
   "file_extension": ".py",
   "mimetype": "text/x-python",
   "name": "python",
   "nbconvert_exporter": "python",
   "pygments_lexer": "ipython3",
   "version": 3
  },
  "orig_nbformat": 2
 },
 "nbformat": 4,
 "nbformat_minor": 2,
 "cells": [
  {
   "source": [
    "# Mobility 3"
   ],
   "cell_type": "markdown",
   "metadata": {}
  },
  {
   "source": [
    "## Position\n",
    "\n",
    "How does a robot exist in space\n",
    "\n",
    "\n",
    "To understand a robot's position we neet to knwo 3 values. X and Y, which are the robots coordinates in 2d space with respect to the global frame of reference, and $\\theta$ which is the robots orientation. Wheeled and legged robots don't need to know the Z value.\n",
    "\n",
    "We contain these values within the vector \n",
    "$$\n",
    "\\xi_i = \n",
    "\\begin{bmatrix}\n",
    "X\\\\\n",
    "Y\\\\\n",
    "\\theta\\\\\n",
    "\\end{bmatrix}\n",
    "$$\n",
    "\n",
    "$\\xi_i$ represents the Global vs Robots frame of reference.\n"
   ],
   "cell_type": "markdown",
   "metadata": {}
  },
  {
   "source": [
    "### Position In Flying\n",
    "\n",
    "This is different for flying robots\n",
    "\n",
    "We need 6 numbers rather than 3\n",
    "- X, Y, and Z\n",
    "- Roll (rotation around long axis)\n",
    "- Pitch (rotation around wing axis)\n",
    "- Yaw (rotation along z axis, so turning)\n",
    "\n",
    "We can have fixed or flapping wings. We can also have rotors or propellers, which come in these varieties\n",
    "- axial (single)\n",
    "- coaxial (reversed)\n",
    "- tandem (two axial)\n",
    "- quadcopters\n",
    "\n",
    "Lighter than air flight (blimps)\n",
    "\n",
    "Flapping wing\n",
    "- very complex\n",
    "- complex scaling laws with wingspan and flapping speed\n",
    "\n",
    "Lighter than air\n",
    "- very slow\n",
    "- extremely subject to weather conditions\n",
    "\n",
    "Rotors/Props\n",
    "- Dangerous\n",
    "- Fragile\n",
    "\n",
    "Quadcopters\n",
    "- hover well\n",
    "- vtol\n",
    "- simple\n",
    "- no need to tilt individual propellers\n",
    "- stabilization is hard to control manually\n",
    "- very delicate\n",
    "\n",
    "\n",
    "Scaling Laws are important considerations. If we make things bigger, the material we use to do so has to do more work. Fixed wing dymanics change a lot when miniaturized, so testing can be hard in that case as well.\n",
    "\n",
    "Square cube law\n",
    "> As the surface area of an object increases as a square, then the weight increases as a cube\n",
    "\n",
    "\n",
    "We care about __lift__, which is the upwards acting force on wing. It opposes gravity and friction. Wing area is directly with lift, and flap speed is indirectly corrolated. Wing span and speed scale __logarithmically__ with mass in practice\n"
   ],
   "cell_type": "markdown",
   "metadata": {}
  },
  {
   "source": [
    "## Mobile efficiency\n",
    "\n",
    "### Cost of Transportation: \n",
    "#### How much energy does it take to move the robot itself?\n",
    "\n",
    "\"Best\" depends on terrain and task. \n",
    "\n",
    "- flat terrain: tires\n",
    "- uneven or soft terrain: legs\n",
    "- hovering: blimps\n",
    "- etc\n",
    "\n",
    "\n",
    "#### Transportation costs: What work has to be done, what forces have to be overcome\n",
    "\n",
    "- leg lift and carry\n",
    "- deceleration\n",
    "- constact friction\n",
    "- internal friction\n",
    "- damping\n",
    "- wingspan and lift\n",
    "\n",
    "\n"
   ],
   "cell_type": "markdown",
   "metadata": {}
  }
 ]
}