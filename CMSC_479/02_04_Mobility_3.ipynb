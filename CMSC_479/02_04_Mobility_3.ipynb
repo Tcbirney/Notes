{
 "metadata": {
  "language_info": {
   "codemirror_mode": {
    "name": "ipython",
    "version": 3
   },
   "file_extension": ".py",
   "mimetype": "text/x-python",
   "name": "python",
   "nbconvert_exporter": "python",
   "pygments_lexer": "ipython3",
   "version": 3
  },
  "orig_nbformat": 2
 },
 "nbformat": 4,
 "nbformat_minor": 2,
 "cells": [
  {
   "source": [
    "# Mobility 3"
   ],
   "cell_type": "markdown",
   "metadata": {}
  },
  {
   "source": [
    "How does a robot exist in space\n",
    "\n",
    "we need to know, X and y (where it started). Wheels and legs don't need z. Orientation can be throught of as a single value $\\theta$. \n",
    "\n",
    "We contain this with xi  bmatrix(x, y, theta). Defining the initial position"
   ],
   "cell_type": "markdown",
   "metadata": {}
  },
  {
   "source": [
    "This is different for flying robots\n",
    "\n",
    "We need 6 numbers rather than 3\n",
    "- x, y, z\n",
    "- roll (rotation around long axis)\n",
    "- pitch (rotation around wing axis)\n",
    "- yaw (rotation along z axis, so turning)\n",
    "\n",
    "We cna have fixed or flapping wings. We can have rotors or propellers\n",
    "- axial (single)\n",
    "- coaxial (reversed)\n",
    "- tandem (two axial)\n",
    "- quadcopters\n",
    "\n",
    "Lighter than air flight (blimps)\n",
    "\n",
    "\n",
    "Fixed wing dymanics change a lot when miniaturized. \n",
    "\n",
    "Flapping wing\n",
    "- very complex\n",
    "- complex scaling laws with wingspan and flapping speed\n",
    "\n",
    "Lighter than air\n",
    "- very slow\n",
    "- extremely subject to weather conditions\n",
    "\n",
    "Rotors/Props\n",
    "- Dangerous\n",
    "- Fragile\n",
    "\n",
    "Quadcopters\n",
    "- hover well\n",
    "- vtol\n",
    "- simple\n",
    "- no need to tilt individual propellers\n",
    "- stabilization is hard to control manually\n",
    "- very delicate\n",
    "\n",
    "\n",
    "Scaling Laws are important considerations. If we make things bigger, the material we use to do so has to do more work.\n",
    "\n",
    "Square cube law\n",
    "> As the surface area of an object increases as a square, then the weight increases as a cube\n"
   ],
   "cell_type": "markdown",
   "metadata": {}
  },
  {
   "source": [
    "What we care about lift\n",
    "\n",
    "upwards acting force on wing. Opposes gravity and friction. Wing area directly with lift. Flap speed indirectly corrolated. Wing span and speed scale logarithmically with mass in practice\n",
    "\n"
   ],
   "cell_type": "markdown",
   "metadata": {}
  },
  {
   "source": [
    "Modile efficiency\n",
    "\n",
    "cost of transportation\n",
    "\n",
    "\"best\" depends on terrain and task. \n",
    "\n",
    "flat terrain - tires\n",
    "\n",
    "uneven or soft terrain - legs\n",
    "\n",
    "hovering - blimps\n",
    "\n",
    "\n",
    "transportation costs\n",
    "    What work has to be done, what forces have to be overcome\n",
    "\n",
    "- leg lift and carry\n",
    "- deceleration\n",
    "- constact friction\n",
    "- internal friction\n",
    "- damping\n",
    "- wingspan and lift\n",
    "\n",
    "\n"
   ],
   "cell_type": "markdown",
   "metadata": {}
  },
  {
   "cell_type": "code",
   "execution_count": null,
   "metadata": {},
   "outputs": [],
   "source": []
  }
 ]
}