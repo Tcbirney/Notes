{
 "metadata": {
  "language_info": {
   "codemirror_mode": {
    "name": "ipython",
    "version": 3
   },
   "file_extension": ".py",
   "mimetype": "text/x-python",
   "name": "python",
   "nbconvert_exporter": "python",
   "pygments_lexer": "ipython3",
   "version": 3
  },
  "orig_nbformat": 2
 },
 "nbformat": 4,
 "nbformat_minor": 2,
 "cells": [
  {
   "source": [
    "# Mainpulation\n",
    "\n",
    "Its how a robot makes changes to a world without traversing through it. A manipulator does a thing. Usually an arm with an end affector. Good for dangerous workplaces, boring repetive work, when a human cant get to the workplace"
   ],
   "cell_type": "markdown",
   "metadata": {}
  }
 ]
}