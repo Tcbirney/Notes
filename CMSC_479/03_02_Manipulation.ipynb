{
 "metadata": {
  "language_info": {
   "codemirror_mode": {
    "name": "ipython",
    "version": 3
   },
   "file_extension": ".py",
   "mimetype": "text/x-python",
   "name": "python",
   "nbconvert_exporter": "python",
   "pygments_lexer": "ipython3",
   "version": 3
  },
  "orig_nbformat": 2
 },
 "nbformat": 4,
 "nbformat_minor": 2,
 "cells": [
  {
   "source": [
    "# Mainpulation\n",
    "\n",
    "Its how a robot makes changes to a world without traversing through it. A manipulator does a thing. Usually an arm with an end affector. Good for dangerous workplaces, boring repetive work, when a human cant get to the workplace\n",
    "\n",
    "\n"
   ],
   "cell_type": "markdown",
   "metadata": {}
  },
  {
   "source": [
    "## Kinematic CHains\n",
    "\n",
    "Go from base to end affector\n",
    "- Serial models go end to end to end\n",
    "- parallel models have links split and then meet again\n",
    "\n",
    "Proxima link, the link closest to the base\n",
    "Distal Link, the link farthest away\n",
    "\n",
    "\n"
   ],
   "cell_type": "markdown",
   "metadata": {}
  }
 ]
}