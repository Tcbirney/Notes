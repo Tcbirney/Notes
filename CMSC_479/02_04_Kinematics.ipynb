{
 "metadata": {
  "language_info": {
   "codemirror_mode": {
    "name": "ipython",
    "version": 3
   },
   "file_extension": ".py",
   "mimetype": "text/x-python",
   "name": "python",
   "nbconvert_exporter": "python",
   "pygments_lexer": "ipython3",
   "version": "3.8.5-final"
  },
  "orig_nbformat": 2,
  "kernelspec": {
   "name": "python3",
   "display_name": "Python 3",
   "language": "python"
  }
 },
 "nbformat": 4,
 "nbformat_minor": 2,
 "cells": [
  {
   "source": [
    "# Kinematics"
   ],
   "cell_type": "markdown",
   "metadata": {}
  },
  {
   "source": [
    "## What is Kinematics\n",
    "\n",
    "\n",
    "Study of geometrically possible motion. Does not consider cause and effect of motion. Movement determines eventual position and orientation of robot. In mobile robots it determines position and orientation with respect to some initial frame. In manipulator robots, it determines position and orientation of an end affector.\n"
   ],
   "cell_type": "markdown",
   "metadata": {}
  },
  {
   "source": [
    "## Kinematic Models\n",
    "\n",
    "How can the robot move in the world\n",
    "-It can move with respect to its own parts and with respect to the world.\n",
    "\n",
    "\n",
    "Manipulators have links, joints, and a base\n",
    "- links form a chain\n",
    "- serial or parallel(mostly)\n",
    "\n",
    "\n",
    "\n",
    "For mobile robots\n",
    "- Position is where its $\\{x, y\\}$ position in a 2d plane\n",
    "- orientation is its heading\n",
    "\n",
    "For manipulators\n",
    "- Position is its \\{x, y, z\\} in some space\n",
    "- Orientation is the \\{r/p/y\\} of an end effector\n"
   ],
   "cell_type": "markdown",
   "metadata": {}
  },
  {
   "source": [
    "### Mobile Robot Kinematics\n",
    "\n",
    "Mobile robots and move unbounded in the world, and therefore there is no direct way for a robot to measure where it is in the environment. Its position must be calculated through past commands using forwards kinematics."
   ],
   "cell_type": "markdown",
   "metadata": {}
  },
  {
   "source": [
    "### Review: Frame of Reference\n",
    "\n",
    "A frame of reference is a coordinate system  and points to locate/orient it. They are usually x, y, coordinates, sometimes z, along with an origin.\n",
    "\n",
    "All robots move within some fram of reference.\n",
    "\n",
    "\n",
    "We always have at least two frames of reference. The global or initial, and then local or robotic. If an agent turns, then the local froma of reference differs from the global frame of reference by $\\theta$.\n",
    "\n",
    "We often have to tranform from one frame of reference to another.\n",
    "\n",
    "Forward kinematics is when we want to find the robots configuration using the past commands(parameters). Inverse kinemetics is finding what commands we need to issue in order to get to the desired configuration.\n",
    "\n",
    "A  mobile configuretion is defined as the position and orientation with respect to some initial frame $I$.\n"
   ],
   "cell_type": "markdown",
   "metadata": {}
  },
  {
   "source": [
    "### Controlled motion\n",
    "\n",
    "we need to understand the kinematics first\n",
    "\n",
    "In order to understand how to control the robot, we must first understand\n",
    "- the kinematic/dynamic model of the robot\n",
    "- model of interaction between the wheel and the ground\n",
    "- Definition of the required motion\n",
    "- A control policy that satisfies those requirements"
   ],
   "cell_type": "markdown",
   "metadata": {}
  },
  {
   "source": [
    "### Transforms\n",
    "\n",
    "How does robot's frome of reference map to the global frame of reference?\n",
    "\n",
    "Remember: Configuration is the position and orientation in vector %\\xi_i%, all with respect to the initial frame of reference.\n",
    "\n",
    "<div style=\"text-align: center\"><img src=\"Pictures/robot_for.png\"></div>\n",
    "\n",
    "\n",
    "Here the Global rame of reference would be described as Global: $\\{X_I, Y_I\\}$, and the robots frame of reference would be described as Robot: $\\{X_R, Y_R\\}$.\n",
    "\n",
    "The robot has point $P$, which has position $\\{x_{II}, y_{II}\\}$ and heading $\\theta$: $I \\angle R$\n",
    "\n",
    "A position change(rolling) with respect to the robots frame of reference would just be adding to the x and y components of its position, whereas orientation changes(turing) would just be changing the $\\theta$ accordingly to the robot spec.\n",
    "\n",
    "\n",
    "#### Projections\n",
    "\n",
    "What is a projection? A projection of vector v onto vector y gives us the amount of change that vector v has in the direction of vector y. So projecting a vector on the x axis gives us the amount of change in x that v has. Same goes for y."
   ],
   "cell_type": "markdown",
   "metadata": {}
  },
  {
   "source": [
    "### Mapping Between Frames\n",
    "\n",
    "We often need to map the robots frame of reference to the global frame of reference and vece versa in order to find the position of the robot. The goal is to map locations from R (the global frame of reference) to I (the local frame of reference and vice versa).\n",
    "\n",
    "$$\\{X_I, Y_I\\} \\leftrightarrow \\{X_R, Y_R\\}$$\n",
    "\n",
    "To do this we need to map the axes of one frame of reference to another, which involves rotations in euclidean space. How do you do that? __With a rotation matrix.__\n",
    "\n",
    "Any point in space $\\begin{bmatrix} x\\\\ y\\\\ \\end{bmatrix}$ can be multiplied by a rotation matrix, usually \n",
    "\n",
    "$R(\\theta) = \\begin{bmatrix}\n",
    "\\cos \\theta & -\\sin \\theta\\\\\n",
    "\\sin \\theta & \\cos \\theta\\\\\n",
    "\\end{bmatrix}$\n",
    "\n",
    "And the result is a new corrdinate vector, that still represents the same location, but rotated by $\\theta$ around the z axis.\n",
    "\n",
    "multiplying some position matrix by rotation matrix gives us a new position matrix in that new axis view\n",
    "\n",
    "there is the orthogonal rotation matrix\n",
    "take total movement with vector projections of movement on to each axis. Treat movemet as axis change matrix\n",
    "\n",
    "we need to map global axis view to local axis view\n",
    "we need rotation matrix - used to perform a matrix in euclidean space\n",
    "\n",
    "multiplying some position matrix by rotation matrix gives us a new position matrix in that new axis view\n"
   ],
   "cell_type": "markdown",
   "metadata": {}
  },
  {
   "source": [
    "veloctiy vectors compute motion along the frame of reference\n",
    "\n",
    "multiply turn rotation matrix by velocity matrix to see new velocity\n",
    "\n",
    "\n",
    "odometry - estimating change in position over time\n",
    "need sensors to tell us how much robot moves\n",
    "\n"
   ],
   "cell_type": "markdown",
   "metadata": {}
  },
  {
   "source": [
    "need posi"
   ],
   "cell_type": "markdown",
   "metadata": {}
  }
 ]
}