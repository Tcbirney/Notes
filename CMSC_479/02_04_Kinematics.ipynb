{
 "metadata": {
  "language_info": {
   "codemirror_mode": {
    "name": "ipython",
    "version": 3
   },
   "file_extension": ".py",
   "mimetype": "text/x-python",
   "name": "python",
   "nbconvert_exporter": "python",
   "pygments_lexer": "ipython3",
   "version": "3.8.5-final"
  },
  "orig_nbformat": 2,
  "kernelspec": {
   "name": "python3",
   "display_name": "Python 3",
   "language": "python"
  }
 },
 "nbformat": 4,
 "nbformat_minor": 2,
 "cells": [
  {
   "source": [
    "# What is Kinematics"
   ],
   "cell_type": "markdown",
   "metadata": {}
  },
  {
   "source": [
    "Study of geometrically possible motion. DOes not consider cause and effect of motion. Movement deperemines eventual position and orientation of robot\n",
    "\n",
    "mobile motion   position and orientation wrt some initial frame\n",
    "manipulation wrt an end accfector\n",
    "\n",
    "\n",
    "Models\n",
    "\n",
    "How can the robot Move\n",
    "-wrt world and each other\n",
    "\n",
    "\n",
    "manipulators\n",
    "- links form a chain\n",
    "- serial or parallel\n",
    "\n",
    "fro mobile robots\n",
    "poition is where is it in space\n",
    "heading is orientation\n",
    "\n",
    "for manipulators\n"
   ],
   "cell_type": "markdown",
   "metadata": {}
  },
  {
   "source": [
    "Mobile robot kinematics\n",
    "\n",
    "not bounded to certain space or starting point\n",
    "\n",
    "we have to figure out robots position over time using past commands"
   ],
   "cell_type": "markdown",
   "metadata": {}
  },
  {
   "source": [
    "Review: Frame of Reference\n",
    "\n",
    "coordinate system\n",
    "Things move wrt a fram of reference\n",
    "\n",
    "\n",
    "we always have at least two, global or initial, and then local or robotic\n",
    "if an agent turns, the robotic FOR differs frm the global FOR by theta\n",
    "\n",
    "\n",
    "\n",
    "Forward kinematics \n",
    "parameters to configuration- finding our where it is\n",
    "\n",
    "inverse kinematicsconfigureation to parameters\n",
    "i want to be somewhere, how do i get there\n",
    "\n",
    "all with repsect to initial frame of reference i\n"
   ],
   "cell_type": "markdown",
   "metadata": {}
  },
  {
   "source": [
    "COntrolled motion\n",
    "\n",
    "we need to understand the kinematics first\n",
    "\n",
    "how big the wheel is"
   ],
   "cell_type": "markdown",
   "metadata": {}
  },
  {
   "source": [
    "transforms\n",
    "how does robot map to global FOR\n",
    "\n",
    "position change, adding vectors of axis change\n",
    "\n",
    "orienation change - going from theta 1 to theta 2\n",
    "\n",
    "take total movement with vector projections of movement on to each axis. Treat movemet as axis change matrix\n",
    "\n",
    "we need to map global axis view to local axis view\n",
    "we need rotation matrix - used to perform a matrix in euclidean space\n",
    "\n",
    "multiplying some position matrix by rotation matrix gives us a new position matrix in that new axis view\n",
    "\n",
    "there is the orthogonal rotation matrix\n",
    "\n"
   ],
   "cell_type": "markdown",
   "metadata": {}
  },
  {
   "source": [
    "veloctiy vectors compute motion along the frame of reference\n",
    "\n",
    "multiply turn rotation matrix by velocity matrix to see new velocity\n",
    "\n",
    "\n",
    "odometry - estimating change in position over time\n",
    "need sensors to tell us how much robot moves\n",
    "\n"
   ],
   "cell_type": "markdown",
   "metadata": {}
  },
  {
   "source": [
    "need posi"
   ],
   "cell_type": "markdown",
   "metadata": {}
  }
 ]
}