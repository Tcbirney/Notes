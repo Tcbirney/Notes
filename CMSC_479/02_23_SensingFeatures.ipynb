{
 "metadata": {
  "language_info": {
   "codemirror_mode": {
    "name": "ipython",
    "version": 3
   },
   "file_extension": ".py",
   "mimetype": "text/x-python",
   "name": "python",
   "nbconvert_exporter": "python",
   "pygments_lexer": "ipython3",
   "version": 3
  },
  "orig_nbformat": 2
 },
 "nbformat": 4,
 "nbformat_minor": 2,
 "cells": [
  {
   "source": [
    "# Sensing With Featues\n",
    "\n",
    "## Quick Statistics Review\n",
    "\n",
    "\n",
    "\n",
    "Raw data is cumbersome. We for images, we get millions of pixels of data. Feature extraction extracts a compressed subset of the data. Features can be a combination of traits derived from mathematical operations performed on our data.\n",
    "\n",
    "\n",
    "Raw Perceptual data required a very robust storage solution, but it provides rich and accurate information. However, it is often less efective to operate on raw data than it is to work on features of raw data.\n",
    "\n",
    "## Features\n",
    "\n",
    "### Lines\n",
    "\n",
    "Human environments have a low of straight Lines.\n",
    "Algorithms:\n",
    "- split and merge\n",
    "    Started in computer visiosn. Recursive procedure that operates semi randomly over data.\n",
    "    - initialize set s to contain all data\n",
    "    set some distance threshold t which is based on sensor paramters(noise tolerance) and the environment and task.\n",
    "\n",
    "- linear regression\n",
    "- RANSAC\n",
    "    - this is the critical one\n",
    "    - not just lines and planes\n",
    "\n",
    "    Random Sample Consensus Check. Iterative, nodeterministic method. Probability od finding a line with no outliers increases with ## of iterations, assuming there is a line to find.\n",
    "    Set a threashold distance and num iterations k.\n",
    "    Create set a of n points.\n",
    "    select  points from a and fit line l to those points.\n",
    "    Computse distance from line to all points.\n",
    "\n",
    "    to get an optimal solution we need to check every combination pf points. But we don't need to check all combinations if we have a rough estimate of the percentage of inliners in our data set. Can be done probabalistically \n",
    "    \n",
    "- Hough transform\n",
    "\n",
    "Raw data for ny line extraction comes from any range sensor, mostly range finders. High sample rate, high resolution, high distance\n",
    "\n",
    "We scan points in polar form. We assume some gaussian noise\n",
    "We use polar form to read a point that is some distance away, at a scanning angle of theta\n",
    "\n",
    "\n",
    "Of the many points we have, which points belong to which lines.\n",
    "\n",
    "### Planes\n",
    "\n",
    "Many flat recalinear planes (walls, floors, celiens, tables, beds, doorframes)\n",
    "\n",
    "Scanned with lidar. And we can extract planes by extracting cubes out of the data\n"
   ],
   "cell_type": "markdown",
   "metadata": {}
  },
  {
   "cell_type": "code",
   "execution_count": null,
   "metadata": {},
   "outputs": [],
   "source": []
  },
  {
   "cell_type": "code",
   "execution_count": null,
   "metadata": {},
   "outputs": [],
   "source": []
  },
  {
   "source": [
    "## Slam (Simultaneous Localiation and Mapping)\n",
    "\n",
    "Loclization - finding out where you are in space\n",
    "\n",
    "Mapping - building a map of the environment\n",
    "\n",
    "Mapping and Localization can be done simultaneously. It is a widely solved issue.\n",
    "\n"
   ],
   "cell_type": "markdown",
   "metadata": {}
  },
  {
   "source": [
    "## Uncertainty\n",
    "\n",
    "At a high level, sensor data comes in and we takes actions on it. Models are not perfect.\n",
    "\n",
    "Guassian distribution of beliefs. Probablitiy density function\n"
   ],
   "cell_type": "markdown",
   "metadata": {}
  },
  {
   "source": [
    "Discrete random variabif X is an rv then it takes an infinite number of values\n",
    "P(X=X_i) = the probability that X takes on the values X_i\n",
    "\n",
    "\n",
    "Rvs can be continuous and when checking whether the rv is inbetween some bounds is checked with a probablity density function\n",
    "\n",
    "Conditional probablity "
   ],
   "cell_type": "markdown",
   "metadata": {}
  }
 ]
}