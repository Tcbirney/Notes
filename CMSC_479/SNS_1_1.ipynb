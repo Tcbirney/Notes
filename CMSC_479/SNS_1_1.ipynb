{
 "metadata": {
  "language_info": {
   "codemirror_mode": {
    "name": "ipython",
    "version": 3
   },
   "file_extension": ".py",
   "mimetype": "text/x-python",
   "name": "python",
   "nbconvert_exporter": "python",
   "pygments_lexer": "ipython3",
   "version": 3
  },
  "orig_nbformat": 2
 },
 "nbformat": 4,
 "nbformat_minor": 2,
 "cells": [
  {
   "source": [
    "# SNS 1.1 Reading Notes"
   ],
   "cell_type": "markdown",
   "metadata": {}
  },
  {
   "source": [
    "Commercial robots greatest accomplishment was the Static manipulator robot arm. However these has the fundamental flaw that they are immobile.\n",
    "\n",
    "The topic of the book is __\"How can a mobile robot move unsupervised through real world environments to fullfill its tasks?\"__\n",
    "\n",
    "The first challenge is locomotion\n",
    "- how does it move and why\n",
    "- What aspects of its movement are controlled and how\n",
    "\n",
    "Research into high-level questions of cognition, localization, and navigation can be performed using standard research robot platforms that are tuned to the laboratory environment. This is one of the largest current markets for mobile robots. Various mobile robot platforms are available for programming, ranging in terms of size and terrain capability.\n",
    "\n",
    "Robotics is truly interdisciplinary. Kinematics, statics, dynamics, computer science, AI, ML, Algorithms, Hardware, Perception\n",
    "\n",
    "\n"
   ],
   "cell_type": "markdown",
   "metadata": {}
  },
  {
   "cell_type": "code",
   "execution_count": null,
   "metadata": {},
   "outputs": [],
   "source": []
  }
 ]
}