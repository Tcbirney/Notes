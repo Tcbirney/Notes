{
 "metadata": {
  "language_info": {
   "codemirror_mode": {
    "name": "ipython",
    "version": 3
   },
   "file_extension": ".py",
   "mimetype": "text/x-python",
   "name": "python",
   "nbconvert_exporter": "python",
   "pygments_lexer": "ipython3",
   "version": "3.8.5-final"
  },
  "orig_nbformat": 2,
  "kernelspec": {
   "name": "python3",
   "display_name": "Python 3",
   "language": "python"
  }
 },
 "nbformat": 4,
 "nbformat_minor": 2,
 "cells": [
  {
   "source": [
    "# Regression"
   ],
   "cell_type": "markdown",
   "metadata": {}
  },
  {
   "source": [
    "## Linear Regression"
   ],
   "cell_type": "markdown",
   "metadata": {}
  },
  {
   "source": [
    "This is the simplest model to predict a continuous numerical value. There are two approaches \n",
    "\n",
    "- The closed form solution: Normal Equation (aka Least Squares)\n",
    "- The Optimal Solution: Least Mean Squares using Gradient Descent\n",
    "\n",
    "Mathematical Notation:\n",
    "$\\hat{y} = \\theta_0 + \\theta_1 x_1 + \\theta_2 x_2 \\dots + \\theta_n x_n$\n",
    "\n",
    "Vith vectorized form\n",
    "\n",
    "$\\hat{y} = h_\\theta(x) = \\theta \\cdot x = \\theta ^ T x$ where $\\hat{y}$ represents the optimal solution and $x$ represents the input vector. This is linear because the weights in $\\theta_0$ are constant values."
   ],
   "cell_type": "markdown",
   "metadata": {}
  },
  {
   "source": [
    "### Performance Measures\n",
    "\n",
    "We use the mean squared error perormance measure.\n",
    "\n",
    "$$MSE(X, h_\\theta) = \\frac{1}{m} \\sum\\limits_{i=1}^m (\\theta ^T x^i-y^i)^2 \\textrm{ where m is the number of instances}\\\\$$ \n",
    "We can see that in the parentheses we compute the error between the predicted output $\\theta_0 \\cdot x^{(1)}$ and the actual output $y^{(i)}$. The Compute the usum of the errors squared across all instances of x and then divide by the number of instances.\n",
    "\n",
    "\n",
    "There is also the mean absolute error performance measure which performs a similar computation, except it takes the absolute valus of the error instead of squaring it.\n",
    "\n",
    "$$MAE(X, h_\\theta) = \\frac{1}{m} \\sum\\limits_{i=1}^m |\\theta ^T x^i-y^i| \\textrm{ where m is the number of instances}\\\\$$\n"
   ],
   "cell_type": "markdown",
   "metadata": {}
  },
  {
   "source": [
    "### Linear Regression - Closed Form Solution\n",
    "\n",
    "$\\hat{\\theta} = (X^TX)^{-1}X^Ty$\n",
    "\n",
    "Here, $\\hat{\\theta}$ is the value of $\\theta$ that minimizes the cost function, and $y$ is the vector of the target values containing $y^{(1)}$ to $y^{(m)}$"
   ],
   "cell_type": "markdown",
   "metadata": {}
  },
  {
   "source": [
    "## Nonlinear Regression - Polynomial Regression\n",
    "\n",
    "This recognizes non linear patters in datasets. To do this we add powers of each feature as new features, then we train a linear model on this extended set of features. This technique is called a __Polynomial regression__.\n",
    "\n",
    "When there are multiple features, polynomial regression allows us to find linear relations between feautes, unlike linear regression, because the PolynomialFeatures degree parameter defines the power of linear combinationsto create features for.\n",
    "\n",
    "High degree (around 300) polynomial regression will most likely fit the data better than plain linear regression."
   ],
   "cell_type": "markdown",
   "metadata": {}
  },
  {
   "source": [
    "## Overfitting vs Underfitting\n",
    "\n",
    "We can overfit the data when the degree of the regression is too high, and we can also underfit data when the degree is too low.\n",
    "\n",
    "Overfitting: When the model performs well on training data, but generalizes poorly according to cross validation\n",
    "\n",
    "Underfitting: When the model performs poorly on training data and by cross validation metrics.\n",
    "\n",
    "Overfitting and Underfitting is a good way to see if the model is too simple or complex.\n"
   ],
   "cell_type": "markdown",
   "metadata": {}
  },
  {
   "source": [
    "### Learning Curves\n",
    "\n",
    "Learning curves are another way to tell if overfitting or underfitting occurs. Learning Curves are plots of the models performance with respect to the size of the training set. This way we can tell is the training set or the model size itself is the problem.\n",
    "\n",
    "Curves that show an underfitting model usually have error curves that reach close plateaus very early on, with high errors. __To resolve underfitting, you need to use better features or use a mode complex model__.\n",
    "\n",
    "\n",
    "Curves that show an overfitting model have the halmark sign of performance on the training data being significiantly better than on the validation data. On these, as we increase the overall size of the dataset, the lines would converge. __To resolve overfitting, we can either use more data, or use a simpler, lower degree model.__ We can use other techniques such as regularization to resolve overfitting.\n"
   ],
   "cell_type": "markdown",
   "metadata": {}
  },
  {
   "source": [
    "### Bias Variance Tradeoff\n",
    "\n",
    "Models generalizations error can be exptessed as the sum of 3 different errors.\n",
    "\n",
    "Bias: error due to wrong assumptions, such as assuming that the data is quadratic when it is linear. __High bias models are likely to underfit the data__\n",
    "\n",
    "Variance: error due to excessive sensitivity to small variations in the training data. __Models with many degrees of freedom (high polynomial models) have high variance and overfit data__\n",
    "\n",
    "Irreducible error: Error due to noisiness. Cleaning the data is the only solution."
   ],
   "cell_type": "markdown",
   "metadata": {}
  },
  {
   "source": [
    "### Regularized Regression\n",
    "\n",
    "A method to avoid overfitting by constraining weights of the model parameters.The fewer degrees of freedom, the harder it is to overfit. For linear models, the way to regularize the expression is to limit the weights applied to the features.\n",
    "\n",
    "We study 3 Regularized versions of Linear Regressions\n",
    "- Lasso Regression\n",
    "- Ridge Regression\n",
    "- Elastic Net\n",
    "\n",
    "\n",
    "#### Ridge Regresssion (L2 Norm)\n",
    "\n",
    "\\begin{equation}\n",
    "J(\\theta) = MSE(\\theta) + \\alpha \\frac{1}{2}\\sum\\limits_{i=1}^n \\theta_i^2\\\\\n",
    "\\hat{\\theta} = (X^TX + \\alpha A)^{-1}X^Ty\n",
    "\\end{equation}\n",
    "\n",
    "\n",
    "#### Lasso Regresssion (L1 Norm)\n",
    "\\begin{equation}\n",
    "J(\\theta) = MSE(\\theta) + \\alpha \\frac{1}{2}\\sum\\limits_{i=1}^n |\\theta_i|\\\\\n",
    "\\end{equation}\n",
    "\n",
    "\n",
    "#### Elastic Net Regresssion (L1 and L2 Norm)\n",
    "\\begin{equation}\n",
    "\n",
    "J(\\theta) = MSE(\\theta) + r\\alpha \\frac{1}{2}\\sum\\limits_{i=1}^n + \\frac{1-r}{2}\\alpha \\frac{1}{2}\\sum\\limits_{i=1}^n |\\theta_i|\\\\\n",
    "\\end{equation}"
   ],
   "cell_type": "markdown",
   "metadata": {}
  },
  {
   "source": [
    "## Gradient Descent\n",
    "\n",
    "A generic optimization algorithms capable of finding optimal solutions to a wide range of of problems. The general idea od gradient descent is to tweak paramters iteratively in order to minimize a cost function.\n",
    "\n",
    "Measures the local gradient of the error function, with respect to the paramter vector $\\theta$ and it goes in the direction of t descending gradient. Once the gradient is 0, you have reached a minimum.\n",
    "\n",
    "Ransom initialization is when you initialize the paramter vector with random values, then you improve it gradually.\n",
    "\n",
    "Learning Step: the amount that we are allowed to change the paramter vector by. If it is too small, it will take too long to reach the optimal solution, but if it is too large, the it will bounce around and also not reach an optimal solution.\n",
    "\n",
    "Gradient descent can get caught in plateaus and local minimums.\n",
    "\n",
    "\n",
    "### Convex Functions\n",
    "\n",
    "The MSE cost functions are convex, which means that there are no local minimima, just ont global minima.\n",
    "\n",
    "Since gradient descent takes the gradient of the mean square error, we have \n",
    "\n",
    "\\begin{equation}\n",
    "MSE(X, h_\\theta) = \\frac{1}{m} \\sum\\limits_{i=1}^m (\\theta ^T x^i-y^i)^2\\\\\n",
    "\n",
    "\\frac{d}{d\\theta_i}MSE(\\theta) = \\frac{2}{m} \\sum\\limits_{i=1}^m (\\theta ^T x^i-y^i)x_j^i\\\\\n",
    "\n",
    "\\end{equation}"
   ],
   "cell_type": "markdown",
   "metadata": {}
  },
  {
   "source": [
    "### Stochastic Gradient Descent\n",
    "The main problem with batch gradient descent is that it must use the whole training set to calculate the gradient at each step.\n",
    "\n",
    "The opposite is the Stochastic Gradient Descent which picks a random instance at the training set at every step and computes the gradient between these two points.\n",
    "\n",
    "### Minibatch Stochastic Gradient Descent\n",
    "Halfway between Gradient Descent and Stochastic Gradient Descent in that it computes the gradient on a random subset of data."
   ],
   "cell_type": "markdown",
   "metadata": {}
  },
  {
   "source": [
    "### Early Stopping\n",
    "\n",
    "Early stopping is a way to regularize iterative learning algorithms such as Gradient Descent. We stop as soon as our validation error reaches A minimum."
   ],
   "cell_type": "markdown",
   "metadata": {}
  },
  {
   "source": [
    "## Logistic Regression\n",
    "\n",
    "Used to estimate tbe probablility that an instance belongs to a class. If the eastimated probablility is greater than 0.5, then the model predicts that the instance elongs to the pisitive class. And otherwise it predicts that it belongs to the negative class.\n",
    "\n",
    "This maes linear regression a binary classifier.\n",
    "\n",
    "\\begin{equation}\n",
    "\\hat{p} = h_\\theta(x) = \\sigma(x^T\\theta) \\\\\n",
    "\\textrm{$\\sigma(x^T\\theta)$ is the sigmoid function predicts the probablitity of a positive class.}\\\\\n",
    "\\sigma(x) = \\frac{1}{1 + e^{-x}}\n",
    "\\end{equation}\n"
   ],
   "cell_type": "markdown",
   "metadata": {}
  },
  {
   "cell_type": "code",
   "execution_count": 1,
   "metadata": {},
   "outputs": [
    {
     "output_type": "display_data",
     "data": {
      "text/plain": "<Figure size 432x288 with 1 Axes>",
      "image/svg+xml": "<?xml version=\"1.0\" encoding=\"utf-8\" standalone=\"no\"?>\r\n<!DOCTYPE svg PUBLIC \"-//W3C//DTD SVG 1.1//EN\"\r\n  \"http://www.w3.org/Graphics/SVG/1.1/DTD/svg11.dtd\">\r\n<!-- Created with matplotlib (https://matplotlib.org/) -->\r\n<svg height=\"248.518125pt\" version=\"1.1\" viewBox=\"0 0 372.103125 248.518125\" width=\"372.103125pt\" xmlns=\"http://www.w3.org/2000/svg\" xmlns:xlink=\"http://www.w3.org/1999/xlink\">\r\n <metadata>\r\n  <rdf:RDF xmlns:cc=\"http://creativecommons.org/ns#\" xmlns:dc=\"http://purl.org/dc/elements/1.1/\" xmlns:rdf=\"http://www.w3.org/1999/02/22-rdf-syntax-ns#\">\r\n   <cc:Work>\r\n    <dc:type rdf:resource=\"http://purl.org/dc/dcmitype/StillImage\"/>\r\n    <dc:date>2021-03-30T11:32:17.289981</dc:date>\r\n    <dc:format>image/svg+xml</dc:format>\r\n    <dc:creator>\r\n     <cc:Agent>\r\n      <dc:title>Matplotlib v3.3.2, https://matplotlib.org/</dc:title>\r\n     </cc:Agent>\r\n    </dc:creator>\r\n   </cc:Work>\r\n  </rdf:RDF>\r\n </metadata>\r\n <defs>\r\n  <style type=\"text/css\">*{stroke-linecap:butt;stroke-linejoin:round;}</style>\r\n </defs>\r\n <g id=\"figure_1\">\r\n  <g id=\"patch_1\">\r\n   <path d=\"M 0 248.518125 \r\nL 372.103125 248.518125 \r\nL 372.103125 0 \r\nL 0 0 \r\nz\r\n\" style=\"fill:none;\"/>\r\n  </g>\r\n  <g id=\"axes_1\">\r\n   <g id=\"patch_2\">\r\n    <path d=\"M 30.103125 224.64 \r\nL 364.903125 224.64 \r\nL 364.903125 7.2 \r\nL 30.103125 7.2 \r\nz\r\n\" style=\"fill:#ffffff;\"/>\r\n   </g>\r\n   <g id=\"matplotlib.axis_1\">\r\n    <g id=\"xtick_1\">\r\n     <g id=\"line2d_1\">\r\n      <defs>\r\n       <path d=\"M 0 0 \r\nL 0 3.5 \r\n\" id=\"mea55d65331\" style=\"stroke:#000000;stroke-width:0.8;\"/>\r\n      </defs>\r\n      <g>\r\n       <use style=\"stroke:#000000;stroke-width:0.8;\" x=\"67.061567\" xlink:href=\"#mea55d65331\" y=\"224.64\"/>\r\n      </g>\r\n     </g>\r\n     <g id=\"text_1\">\r\n      <!-- −6 -->\r\n      <g transform=\"translate(59.690473 239.238437)scale(0.1 -0.1)\">\r\n       <defs>\r\n        <path d=\"M 10.59375 35.5 \r\nL 73.1875 35.5 \r\nL 73.1875 27.203125 \r\nL 10.59375 27.203125 \r\nz\r\n\" id=\"DejaVuSans-8722\"/>\r\n        <path d=\"M 33.015625 40.375 \r\nQ 26.375 40.375 22.484375 35.828125 \r\nQ 18.609375 31.296875 18.609375 23.390625 \r\nQ 18.609375 15.53125 22.484375 10.953125 \r\nQ 26.375 6.390625 33.015625 6.390625 \r\nQ 39.65625 6.390625 43.53125 10.953125 \r\nQ 47.40625 15.53125 47.40625 23.390625 \r\nQ 47.40625 31.296875 43.53125 35.828125 \r\nQ 39.65625 40.375 33.015625 40.375 \r\nz\r\nM 52.59375 71.296875 \r\nL 52.59375 62.3125 \r\nQ 48.875 64.0625 45.09375 64.984375 \r\nQ 41.3125 65.921875 37.59375 65.921875 \r\nQ 27.828125 65.921875 22.671875 59.328125 \r\nQ 17.53125 52.734375 16.796875 39.40625 \r\nQ 19.671875 43.65625 24.015625 45.921875 \r\nQ 28.375 48.1875 33.59375 48.1875 \r\nQ 44.578125 48.1875 50.953125 41.515625 \r\nQ 57.328125 34.859375 57.328125 23.390625 \r\nQ 57.328125 12.15625 50.6875 5.359375 \r\nQ 44.046875 -1.421875 33.015625 -1.421875 \r\nQ 20.359375 -1.421875 13.671875 8.265625 \r\nQ 6.984375 17.96875 6.984375 36.375 \r\nQ 6.984375 53.65625 15.1875 63.9375 \r\nQ 23.390625 74.21875 37.203125 74.21875 \r\nQ 40.921875 74.21875 44.703125 73.484375 \r\nQ 48.484375 72.75 52.59375 71.296875 \r\nz\r\n\" id=\"DejaVuSans-54\"/>\r\n       </defs>\r\n       <use xlink:href=\"#DejaVuSans-8722\"/>\r\n       <use x=\"83.789062\" xlink:href=\"#DejaVuSans-54\"/>\r\n      </g>\r\n     </g>\r\n    </g>\r\n    <g id=\"xtick_2\">\r\n     <g id=\"line2d_2\">\r\n      <g>\r\n       <use style=\"stroke:#000000;stroke-width:0.8;\" x=\"110.542086\" xlink:href=\"#mea55d65331\" y=\"224.64\"/>\r\n      </g>\r\n     </g>\r\n     <g id=\"text_2\">\r\n      <!-- −4 -->\r\n      <g transform=\"translate(103.170992 239.238437)scale(0.1 -0.1)\">\r\n       <defs>\r\n        <path d=\"M 37.796875 64.3125 \r\nL 12.890625 25.390625 \r\nL 37.796875 25.390625 \r\nz\r\nM 35.203125 72.90625 \r\nL 47.609375 72.90625 \r\nL 47.609375 25.390625 \r\nL 58.015625 25.390625 \r\nL 58.015625 17.1875 \r\nL 47.609375 17.1875 \r\nL 47.609375 0 \r\nL 37.796875 0 \r\nL 37.796875 17.1875 \r\nL 4.890625 17.1875 \r\nL 4.890625 26.703125 \r\nz\r\n\" id=\"DejaVuSans-52\"/>\r\n       </defs>\r\n       <use xlink:href=\"#DejaVuSans-8722\"/>\r\n       <use x=\"83.789062\" xlink:href=\"#DejaVuSans-52\"/>\r\n      </g>\r\n     </g>\r\n    </g>\r\n    <g id=\"xtick_3\">\r\n     <g id=\"line2d_3\">\r\n      <g>\r\n       <use style=\"stroke:#000000;stroke-width:0.8;\" x=\"154.022606\" xlink:href=\"#mea55d65331\" y=\"224.64\"/>\r\n      </g>\r\n     </g>\r\n     <g id=\"text_3\">\r\n      <!-- −2 -->\r\n      <g transform=\"translate(146.651512 239.238437)scale(0.1 -0.1)\">\r\n       <defs>\r\n        <path d=\"M 19.1875 8.296875 \r\nL 53.609375 8.296875 \r\nL 53.609375 0 \r\nL 7.328125 0 \r\nL 7.328125 8.296875 \r\nQ 12.9375 14.109375 22.625 23.890625 \r\nQ 32.328125 33.6875 34.8125 36.53125 \r\nQ 39.546875 41.84375 41.421875 45.53125 \r\nQ 43.3125 49.21875 43.3125 52.78125 \r\nQ 43.3125 58.59375 39.234375 62.25 \r\nQ 35.15625 65.921875 28.609375 65.921875 \r\nQ 23.96875 65.921875 18.8125 64.3125 \r\nQ 13.671875 62.703125 7.8125 59.421875 \r\nL 7.8125 69.390625 \r\nQ 13.765625 71.78125 18.9375 73 \r\nQ 24.125 74.21875 28.421875 74.21875 \r\nQ 39.75 74.21875 46.484375 68.546875 \r\nQ 53.21875 62.890625 53.21875 53.421875 \r\nQ 53.21875 48.921875 51.53125 44.890625 \r\nQ 49.859375 40.875 45.40625 35.40625 \r\nQ 44.1875 33.984375 37.640625 27.21875 \r\nQ 31.109375 20.453125 19.1875 8.296875 \r\nz\r\n\" id=\"DejaVuSans-50\"/>\r\n       </defs>\r\n       <use xlink:href=\"#DejaVuSans-8722\"/>\r\n       <use x=\"83.789062\" xlink:href=\"#DejaVuSans-50\"/>\r\n      </g>\r\n     </g>\r\n    </g>\r\n    <g id=\"xtick_4\">\r\n     <g id=\"line2d_4\">\r\n      <g>\r\n       <use style=\"stroke:#000000;stroke-width:0.8;\" x=\"197.503125\" xlink:href=\"#mea55d65331\" y=\"224.64\"/>\r\n      </g>\r\n     </g>\r\n     <g id=\"text_4\">\r\n      <!-- 0 -->\r\n      <g transform=\"translate(194.321875 239.238437)scale(0.1 -0.1)\">\r\n       <defs>\r\n        <path d=\"M 31.78125 66.40625 \r\nQ 24.171875 66.40625 20.328125 58.90625 \r\nQ 16.5 51.421875 16.5 36.375 \r\nQ 16.5 21.390625 20.328125 13.890625 \r\nQ 24.171875 6.390625 31.78125 6.390625 \r\nQ 39.453125 6.390625 43.28125 13.890625 \r\nQ 47.125 21.390625 47.125 36.375 \r\nQ 47.125 51.421875 43.28125 58.90625 \r\nQ 39.453125 66.40625 31.78125 66.40625 \r\nz\r\nM 31.78125 74.21875 \r\nQ 44.046875 74.21875 50.515625 64.515625 \r\nQ 56.984375 54.828125 56.984375 36.375 \r\nQ 56.984375 17.96875 50.515625 8.265625 \r\nQ 44.046875 -1.421875 31.78125 -1.421875 \r\nQ 19.53125 -1.421875 13.0625 8.265625 \r\nQ 6.59375 17.96875 6.59375 36.375 \r\nQ 6.59375 54.828125 13.0625 64.515625 \r\nQ 19.53125 74.21875 31.78125 74.21875 \r\nz\r\n\" id=\"DejaVuSans-48\"/>\r\n       </defs>\r\n       <use xlink:href=\"#DejaVuSans-48\"/>\r\n      </g>\r\n     </g>\r\n    </g>\r\n    <g id=\"xtick_5\">\r\n     <g id=\"line2d_5\">\r\n      <g>\r\n       <use style=\"stroke:#000000;stroke-width:0.8;\" x=\"240.983644\" xlink:href=\"#mea55d65331\" y=\"224.64\"/>\r\n      </g>\r\n     </g>\r\n     <g id=\"text_5\">\r\n      <!-- 2 -->\r\n      <g transform=\"translate(237.802394 239.238437)scale(0.1 -0.1)\">\r\n       <use xlink:href=\"#DejaVuSans-50\"/>\r\n      </g>\r\n     </g>\r\n    </g>\r\n    <g id=\"xtick_6\">\r\n     <g id=\"line2d_6\">\r\n      <g>\r\n       <use style=\"stroke:#000000;stroke-width:0.8;\" x=\"284.464164\" xlink:href=\"#mea55d65331\" y=\"224.64\"/>\r\n      </g>\r\n     </g>\r\n     <g id=\"text_6\">\r\n      <!-- 4 -->\r\n      <g transform=\"translate(281.282914 239.238437)scale(0.1 -0.1)\">\r\n       <use xlink:href=\"#DejaVuSans-52\"/>\r\n      </g>\r\n     </g>\r\n    </g>\r\n    <g id=\"xtick_7\">\r\n     <g id=\"line2d_7\">\r\n      <g>\r\n       <use style=\"stroke:#000000;stroke-width:0.8;\" x=\"327.944683\" xlink:href=\"#mea55d65331\" y=\"224.64\"/>\r\n      </g>\r\n     </g>\r\n     <g id=\"text_7\">\r\n      <!-- 6 -->\r\n      <g transform=\"translate(324.763433 239.238437)scale(0.1 -0.1)\">\r\n       <use xlink:href=\"#DejaVuSans-54\"/>\r\n      </g>\r\n     </g>\r\n    </g>\r\n   </g>\r\n   <g id=\"matplotlib.axis_2\">\r\n    <g id=\"ytick_1\">\r\n     <g id=\"line2d_8\">\r\n      <defs>\r\n       <path d=\"M 0 0 \r\nL -3.5 0 \r\n\" id=\"m4f015d5140\" style=\"stroke:#000000;stroke-width:0.8;\"/>\r\n      </defs>\r\n      <g>\r\n       <use style=\"stroke:#000000;stroke-width:0.8;\" x=\"30.103125\" xlink:href=\"#m4f015d5140\" y=\"214.936782\"/>\r\n      </g>\r\n     </g>\r\n     <g id=\"text_8\">\r\n      <!-- 0.0 -->\r\n      <g transform=\"translate(7.2 218.736001)scale(0.1 -0.1)\">\r\n       <defs>\r\n        <path d=\"M 10.6875 12.40625 \r\nL 21 12.40625 \r\nL 21 0 \r\nL 10.6875 0 \r\nz\r\n\" id=\"DejaVuSans-46\"/>\r\n       </defs>\r\n       <use xlink:href=\"#DejaVuSans-48\"/>\r\n       <use x=\"63.623047\" xlink:href=\"#DejaVuSans-46\"/>\r\n       <use x=\"95.410156\" xlink:href=\"#DejaVuSans-48\"/>\r\n      </g>\r\n     </g>\r\n    </g>\r\n    <g id=\"ytick_2\">\r\n     <g id=\"line2d_9\">\r\n      <g>\r\n       <use style=\"stroke:#000000;stroke-width:0.8;\" x=\"30.103125\" xlink:href=\"#m4f015d5140\" y=\"175.330069\"/>\r\n      </g>\r\n     </g>\r\n     <g id=\"text_9\">\r\n      <!-- 0.2 -->\r\n      <g transform=\"translate(7.2 179.129288)scale(0.1 -0.1)\">\r\n       <use xlink:href=\"#DejaVuSans-48\"/>\r\n       <use x=\"63.623047\" xlink:href=\"#DejaVuSans-46\"/>\r\n       <use x=\"95.410156\" xlink:href=\"#DejaVuSans-50\"/>\r\n      </g>\r\n     </g>\r\n    </g>\r\n    <g id=\"ytick_3\">\r\n     <g id=\"line2d_10\">\r\n      <g>\r\n       <use style=\"stroke:#000000;stroke-width:0.8;\" x=\"30.103125\" xlink:href=\"#m4f015d5140\" y=\"135.723356\"/>\r\n      </g>\r\n     </g>\r\n     <g id=\"text_10\">\r\n      <!-- 0.4 -->\r\n      <g transform=\"translate(7.2 139.522575)scale(0.1 -0.1)\">\r\n       <use xlink:href=\"#DejaVuSans-48\"/>\r\n       <use x=\"63.623047\" xlink:href=\"#DejaVuSans-46\"/>\r\n       <use x=\"95.410156\" xlink:href=\"#DejaVuSans-52\"/>\r\n      </g>\r\n     </g>\r\n    </g>\r\n    <g id=\"ytick_4\">\r\n     <g id=\"line2d_11\">\r\n      <g>\r\n       <use style=\"stroke:#000000;stroke-width:0.8;\" x=\"30.103125\" xlink:href=\"#m4f015d5140\" y=\"96.116644\"/>\r\n      </g>\r\n     </g>\r\n     <g id=\"text_11\">\r\n      <!-- 0.6 -->\r\n      <g transform=\"translate(7.2 99.915862)scale(0.1 -0.1)\">\r\n       <use xlink:href=\"#DejaVuSans-48\"/>\r\n       <use x=\"63.623047\" xlink:href=\"#DejaVuSans-46\"/>\r\n       <use x=\"95.410156\" xlink:href=\"#DejaVuSans-54\"/>\r\n      </g>\r\n     </g>\r\n    </g>\r\n    <g id=\"ytick_5\">\r\n     <g id=\"line2d_12\">\r\n      <g>\r\n       <use style=\"stroke:#000000;stroke-width:0.8;\" x=\"30.103125\" xlink:href=\"#m4f015d5140\" y=\"56.509931\"/>\r\n      </g>\r\n     </g>\r\n     <g id=\"text_12\">\r\n      <!-- 0.8 -->\r\n      <g transform=\"translate(7.2 60.309149)scale(0.1 -0.1)\">\r\n       <defs>\r\n        <path d=\"M 31.78125 34.625 \r\nQ 24.75 34.625 20.71875 30.859375 \r\nQ 16.703125 27.09375 16.703125 20.515625 \r\nQ 16.703125 13.921875 20.71875 10.15625 \r\nQ 24.75 6.390625 31.78125 6.390625 \r\nQ 38.8125 6.390625 42.859375 10.171875 \r\nQ 46.921875 13.96875 46.921875 20.515625 \r\nQ 46.921875 27.09375 42.890625 30.859375 \r\nQ 38.875 34.625 31.78125 34.625 \r\nz\r\nM 21.921875 38.8125 \r\nQ 15.578125 40.375 12.03125 44.71875 \r\nQ 8.5 49.078125 8.5 55.328125 \r\nQ 8.5 64.0625 14.71875 69.140625 \r\nQ 20.953125 74.21875 31.78125 74.21875 \r\nQ 42.671875 74.21875 48.875 69.140625 \r\nQ 55.078125 64.0625 55.078125 55.328125 \r\nQ 55.078125 49.078125 51.53125 44.71875 \r\nQ 48 40.375 41.703125 38.8125 \r\nQ 48.828125 37.15625 52.796875 32.3125 \r\nQ 56.78125 27.484375 56.78125 20.515625 \r\nQ 56.78125 9.90625 50.3125 4.234375 \r\nQ 43.84375 -1.421875 31.78125 -1.421875 \r\nQ 19.734375 -1.421875 13.25 4.234375 \r\nQ 6.78125 9.90625 6.78125 20.515625 \r\nQ 6.78125 27.484375 10.78125 32.3125 \r\nQ 14.796875 37.15625 21.921875 38.8125 \r\nz\r\nM 18.3125 54.390625 \r\nQ 18.3125 48.734375 21.84375 45.5625 \r\nQ 25.390625 42.390625 31.78125 42.390625 \r\nQ 38.140625 42.390625 41.71875 45.5625 \r\nQ 45.3125 48.734375 45.3125 54.390625 \r\nQ 45.3125 60.0625 41.71875 63.234375 \r\nQ 38.140625 66.40625 31.78125 66.40625 \r\nQ 25.390625 66.40625 21.84375 63.234375 \r\nQ 18.3125 60.0625 18.3125 54.390625 \r\nz\r\n\" id=\"DejaVuSans-56\"/>\r\n       </defs>\r\n       <use xlink:href=\"#DejaVuSans-48\"/>\r\n       <use x=\"63.623047\" xlink:href=\"#DejaVuSans-46\"/>\r\n       <use x=\"95.410156\" xlink:href=\"#DejaVuSans-56\"/>\r\n      </g>\r\n     </g>\r\n    </g>\r\n    <g id=\"ytick_6\">\r\n     <g id=\"line2d_13\">\r\n      <g>\r\n       <use style=\"stroke:#000000;stroke-width:0.8;\" x=\"30.103125\" xlink:href=\"#m4f015d5140\" y=\"16.903218\"/>\r\n      </g>\r\n     </g>\r\n     <g id=\"text_13\">\r\n      <!-- 1.0 -->\r\n      <g transform=\"translate(7.2 20.702436)scale(0.1 -0.1)\">\r\n       <defs>\r\n        <path d=\"M 12.40625 8.296875 \r\nL 28.515625 8.296875 \r\nL 28.515625 63.921875 \r\nL 10.984375 60.40625 \r\nL 10.984375 69.390625 \r\nL 28.421875 72.90625 \r\nL 38.28125 72.90625 \r\nL 38.28125 8.296875 \r\nL 54.390625 8.296875 \r\nL 54.390625 0 \r\nL 12.40625 0 \r\nz\r\n\" id=\"DejaVuSans-49\"/>\r\n       </defs>\r\n       <use xlink:href=\"#DejaVuSans-49\"/>\r\n       <use x=\"63.623047\" xlink:href=\"#DejaVuSans-46\"/>\r\n       <use x=\"95.410156\" xlink:href=\"#DejaVuSans-48\"/>\r\n      </g>\r\n     </g>\r\n    </g>\r\n   </g>\r\n   <g id=\"line2d_14\">\r\n    <path clip-path=\"url(#pcfe6fb127e)\" d=\"M 45.321307 214.756364 \r\nL 51.53281 214.696769 \r\nL 57.744312 214.617522 \r\nL 63.955815 214.512165 \r\nL 70.167318 214.372139 \r\nL 76.378821 214.186113 \r\nL 82.590324 213.939108 \r\nL 88.801826 213.611373 \r\nL 95.013329 213.17694 \r\nL 101.224832 212.6018 \r\nL 107.436335 211.841662 \r\nL 113.647837 210.839248 \r\nL 119.85934 209.521201 \r\nL 126.070843 207.794793 \r\nL 132.282346 205.544868 \r\nL 138.493849 202.631841 \r\nL 144.705351 198.892149 \r\nL 150.916854 194.143142 \r\nL 157.128357 188.195038 \r\nL 163.33986 180.872468 \r\nL 169.551362 172.046852 \r\nL 175.762865 161.677354 \r\nL 181.974368 149.852547 \r\nL 188.185871 136.818975 \r\nL 194.397374 122.980624 \r\nL 200.608876 108.859376 \r\nL 206.820379 95.021025 \r\nL 213.031882 81.987453 \r\nL 219.243385 70.162646 \r\nL 225.454888 59.793148 \r\nL 231.66639 50.967532 \r\nL 237.877893 43.644962 \r\nL 244.089396 37.696858 \r\nL 250.300899 32.947851 \r\nL 256.512401 29.208159 \r\nL 262.723904 26.295132 \r\nL 268.935407 24.045207 \r\nL 275.14691 22.318799 \r\nL 281.358413 21.000752 \r\nL 287.569915 19.998338 \r\nL 293.781418 19.2382 \r\nL 299.992921 18.66306 \r\nL 306.204424 18.228627 \r\nL 312.415926 17.900892 \r\nL 318.627429 17.653887 \r\nL 324.838932 17.467861 \r\nL 331.050435 17.327835 \r\nL 337.261938 17.222478 \r\nL 343.47344 17.143231 \r\nL 349.684943 17.083636 \r\n\" style=\"fill:none;stroke:#1f77b4;stroke-linecap:square;stroke-width:1.5;\"/>\r\n   </g>\r\n   <g id=\"patch_3\">\r\n    <path d=\"M 30.103125 224.64 \r\nL 30.103125 7.2 \r\n\" style=\"fill:none;stroke:#000000;stroke-linecap:square;stroke-linejoin:miter;stroke-width:0.8;\"/>\r\n   </g>\r\n   <g id=\"patch_4\">\r\n    <path d=\"M 364.903125 224.64 \r\nL 364.903125 7.2 \r\n\" style=\"fill:none;stroke:#000000;stroke-linecap:square;stroke-linejoin:miter;stroke-width:0.8;\"/>\r\n   </g>\r\n   <g id=\"patch_5\">\r\n    <path d=\"M 30.103125 224.64 \r\nL 364.903125 224.64 \r\n\" style=\"fill:none;stroke:#000000;stroke-linecap:square;stroke-linejoin:miter;stroke-width:0.8;\"/>\r\n   </g>\r\n   <g id=\"patch_6\">\r\n    <path d=\"M 30.103125 7.2 \r\nL 364.903125 7.2 \r\n\" style=\"fill:none;stroke:#000000;stroke-linecap:square;stroke-linejoin:miter;stroke-width:0.8;\"/>\r\n   </g>\r\n  </g>\r\n </g>\r\n <defs>\r\n  <clipPath id=\"pcfe6fb127e\">\r\n   <rect height=\"217.44\" width=\"334.8\" x=\"30.103125\" y=\"7.2\"/>\r\n  </clipPath>\r\n </defs>\r\n</svg>\r\n",
      "image/png": "[encoded data removed]"
     },
     "metadata": {
      "needs_background": "light"
     }
    }
   ],
   "source": [
    "%matplotlib inline\n",
    "import numpy as np\n",
    "import matplotlib.pyplot as plt\n",
    "def sigmoid(x):\n",
    "    return 1/(1 + np.exp(-x))\n",
    "\n",
    "x = np.linspace(-7, 7, 50)\n",
    "plt.plot(x, sigmoid(x));"
   ]
  },
  {
   "source": [
    "Note that as the the independent variable, $x^T\\theta$ or the weighted sum, deviates farthest from 0, the sigmoid function starts to converge the probability to either one or zero. The predicted probablitiy is denoted $\\hat{p}$\n",
    "\n",
    "The predicted class $\\hat{y}$ is 1 if $\\hat{p} \\ge 0.5$ and 0 otherwise.\n",
    "\n",
    "Or 1 if $x^T\\theta$ is positive, and 0 otherwise."
   ],
   "cell_type": "markdown",
   "metadata": {}
  },
  {
   "source": [
    "### Logistic Regression Cost Function\n",
    "\n",
    "The cost function $c(\\theta) = -log(\\hat{p})$ if $y=1$ and $c(\\theta) = -log(1 - \\hat{p})$ if $y=0$"
   ],
   "cell_type": "markdown",
   "metadata": {}
  },
  {
   "source": [
    "## Softmax Regression\n",
    "\n",
    "Allows for a logistic regression model to classify between more than two classes without having to train a logistic regressor for each combination of classes. Also known as the multinomial regression.\n",
    "\n",
    "When given an instance x"
   ],
   "cell_type": "markdown",
   "metadata": {}
  }
 ]
}