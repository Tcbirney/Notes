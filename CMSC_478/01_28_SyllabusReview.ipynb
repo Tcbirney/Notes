{
 "cells": [
  {
   "cell_type": "markdown",
   "metadata": {},
   "source": [
    "# Syllabus Review"
   ]
  },
  {
   "source": [
    "## Contact Info\n",
    "\n",
    "\n",
    "There are live office hours\n",
    "- Appointment only\n",
    "- Monday 1pm to 2pm & 4pm to 5pm\n",
    "- Email: vafaei@umbc.edu\n",
    "\n",
    "TA: Shalima Manir\n",
    "- Office Hours Wednesday 1pm to 2pm & Thursday 4pm to 5pm\n",
    "- Email: smanir1@umbc.edu\n",
    "\n",
    "Grader: Mansi Patel\n",
    "- Email: mansip1@umbc.edu"
   ],
   "cell_type": "markdown",
   "metadata": {}
  },
  {
   "source": [
    "## Textbooks\n",
    "\n",
    "There is a hands on machine learngin with SKLearn Learn and TensorFlow (Gecko Book), then there is a deep learning book. There is a [github repo](https://github.com/ageron/handson-ml2) for the examples in the Gecko book\n",
    "We may also use colab to run jupyter notebooks."
   ],
   "cell_type": "markdown",
   "metadata": {}
  },
  {
   "source": [
    "## Grading Policy\n",
    "\n",
    "|Assignment|Weight|\n",
    "|----------|------|\n",
    "|Quizes and Reading Material|20%|\n",
    "|Programming Assignments|40%|\n",
    "|Midterm Exam|20%|\n",
    "|Final Exam|20%|\n",
    "\n",
    "We have 72 hours to dispute a grade after it being posted.\n",
    "\n",
    "Quizes to not all have equal weight.\n",
    "Quizzes and tests are not accepted late, but for homeworks and reading assignments there is a 25% point reduction each day it is late."
   ],
   "cell_type": "markdown",
   "metadata": {}
  }
 ],
 "metadata": {
  "kernelspec": {
   "display_name": "Python 3",
   "language": "python",
   "name": "python3"
  },
  "language_info": {
   "codemirror_mode": {
    "name": "ipython",
    "version": 3
   },
   "file_extension": ".py",
   "mimetype": "text/x-python",
   "name": "python",
   "nbconvert_exporter": "python",
   "pygments_lexer": "ipython3",
   "version": "3.8.5-final"
  }
 },
 "nbformat": 4,
 "nbformat_minor": 4
}