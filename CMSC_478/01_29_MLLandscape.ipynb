{
 "metadata": {
  "language_info": {
   "codemirror_mode": {
    "name": "ipython",
    "version": 3
   },
   "file_extension": ".py",
   "mimetype": "text/x-python",
   "name": "python",
   "nbconvert_exporter": "python",
   "pygments_lexer": "ipython3",
   "version": "3.8.5-final"
  },
  "orig_nbformat": 2,
  "kernelspec": {
   "name": "python3",
   "display_name": "Python 3",
   "language": "python"
  }
 },
 "nbformat": 4,
 "nbformat_minor": 2,
 "cells": [
  {
   "source": [
    "# Machine Learning Landscape\n",
    "\n",
    "## Topics\n",
    "- Definition of ML\n",
    "- AI vs ML\n",
    "- ML Motivation\n",
    "- Pattern Recognition\n",
    "- ML Approaches\n",
    "- ML Pipeline\n",
    "- ML Applications\n",
    "- ML Main Challenges"
   ],
   "cell_type": "markdown",
   "metadata": {}
  },
  {
   "source": [
    "## Definition of Machine Learning\n",
    "\n",
    ">__\"Machine learning is the field of study that gives computers the ability to learn without being explicitly programmed\"__\n",
    ">\n",
    ">   \\- Arthur Samuel"
   ],
   "cell_type": "markdown",
   "metadata": {}
  },
  {
   "source": [
    "## AI vs ML\n",
    "\n",
    "__Artificial Intelligence__ is a program that allows a computer to make decisions and mimick human behavior. In AI we are given all heuristics and information required to solve the problem. __Machine Learning__ is a subset of AI which uses statitical analysis to implrove these decisisons, and is capable of infering on new information to provide solutions. __Deep learning__ is a subset of machine learning which implements multi layer neural networks to even further improve these decisisons."
   ],
   "cell_type": "markdown",
   "metadata": {}
  },
  {
   "source": [
    "# Machine Learning Motivation\n",
    "\n",
    "### Why Machine Learning?\n",
    "\n",
    "To address\n",
    "- the challenge of codes for complex problems\n",
    "- the challenge of dynamic data and environments\n",
    "- discovery of new knowledge in a domain\n",
    "- big data"
   ],
   "cell_type": "markdown",
   "metadata": {}
  },
  {
   "source": [
    "## Patern Recognition\n",
    "\n",
    "Every dataset has uncertinty in its patterns and we must be able to account for these new properties. And our models may not predict the patterns that we may recognize. Pattern recognition is learning patterns from a dataset and predict new data based on those patterns."
   ],
   "cell_type": "markdown",
   "metadata": {}
  },
  {
   "source": [
    "## Machine Learning Approach\n",
    "\n",
    "\n",
    "### Traditional AI Approach (A.K.A Rule Base Approach)\n",
    "\n",
    "<insert image of the Traditional approach flow chart>\n",
    "\n",
    "The rules are fixed, and there is no learning happening once the rules are written. This causes problems because it cannot address complex problems efficiently. As we have more components in the model, then writing, tracking, and reading them gets very cumbersome. This is a scale and complexity problem. When we try to manage systems designed for a specific problem, it is hard to apply the model to another problem, even if it is similar.\n",
    "\n",
    "\n",
    "### Machine Learning Approach\n",
    "\n",
    "<insert image of ml approach flowchart>\n",
    "\n",
    "Study problem, choose model, train model, evaluate solution. If the solution is non optimal then restudy and retune the algorithm and go again. Once we have an optimal solution we launch. This approach can also help the data scientists help understand the problem itself better.\n",
    "\n",
    "Models provide an optimal solution when the paramters of the model are tuned in such away that the cost function that we are grading the model with, is minimized.\n",
    "\n",
    "When we say launch, we mean that we will have the model try to make predictions on new data that it hasn't seen before, either in testing or training.\n",
    "\n",
    "### Methodology Taxonomy\n",
    "\n",
    "- Supervised Learning\n",
    "    - Classification\n",
    "    \n",
    "    Here we have a training set with labels for each instance assigning it to a class. We train our model on this training set, where it learns the patterns which are most likely to assign it to a specific class. The we can test our model on new data which we hide the tag for. Then we can evaluate the model, tune it, and deploy once satisfactory.\n",
    "\n",
    "    __Binary classification__ means that we are assigning an instance to one of two classes. __Multiclass classification__ is any other kind of classification that has more than two classes.\n",
    "\n",
    "    __Mathematical Representation__\n",
    "\n",
    "    Classification is a mathematica function $f$ which maps your data instance $X$ to $y$ which is the class label.\n",
    "\n",
    "    - Regression\n",
    "    \n",
    "    Here we have a training set what has an established value for the target of each instance. We train the model and have it learn the qualities which formulate that target value. Then we can test otu model on new data which we hide the target value for. The we can use a number of different performance measures to evaluate the efficacy of the model, then tune and deploy.\n",
    "\n",
    "- Unsupervised Learning\n",
    "\n",
    "    In unsupervised learning, the training set is either unlabled to begin with or the labels are not shown in the training phase.\n",
    "\n",
    "    - Clustering\n",
    "\n",
    "    This is used for a more abstract form of pattern recognition where there aren't defined labels for each instance. This can be used for applications such as targeted advertising. This is how they can group users interests based on what they buy. Or youtube recommendations. Data visualization where data points are grouped together is also a good application of clustering. Data points don't have a defined class, but we want to know what kinds of patterns can be used to group them together.\n",
    "\n",
    "    - Dimensionality Reduction\n",
    "\n",
    "    Used when the dataset has a number of features in the hundreds or throusands, and we reduce the number of dimensions considered to isolate the most important figures relevant to creating a good model.\n",
    "\n",
    "    - Anomaly Detection\n",
    "\n",
    "    Used then we want to find outliers within a trend. These obviously don't have an identitying class, so they need to be put under unsupervised learning.\n",
    "\n",
    "\n",
    "- Semisupervised Learning\n",
    "    \n",
    "    This type of learning uses a partially labelled training set. We try to propegate the labels that are within the sparsely labeled dataset to the unlabeled instances next to them.\n",
    "\n",
    "- Reinforcement Learning\n",
    "\n",
    "    This type of learning is when the model is treated as an agent and then it is rewarded or penalized based on if it produces an optimal solution. The agent takes action and gets feedback form the environment. This is usually an iterative process. The amount that the agent can learn during each iteration is called the learning step, and the process is iterated until we reach an optimal solution. \n",
    "\n",
    "- Batched Learning\n",
    "\n",
    "    We have batched learning when our system is incapable of incremental learning. This means that the model must be trained on all available data, and must usually be done offline. Offline learning is when the model is trained and then released without any further learning.\n",
    "\n",
    "\n",
    "- Online learning\n",
    "\n",
    "    Online learning is done when the system is incrementally fed data for each instance or in minibatches. Since we can learn small chunks of data at a time, we can do this live, or online. Online learning is usefull for extremely large datasets because we don't have to train the model on the whole dataset again everytime we get new data.\n",
    "    "
   ],
   "cell_type": "markdown",
   "metadata": {}
  },
  {
   "source": [
    "# Machine Learning Pipeline\n",
    "\n",
    "1. Get Data\n",
    "1. Clean, Prepare, and Manipulate Data\n",
    "1. Train Model\n",
    "1. Test Data\n",
    "1. Improve\n",
    "\n",
    "## Automated Machine Learning Pipeline\n",
    "\n",
    "The pipeline can be automated in such a way using CI/CD tools while constantly updating data and training the model on that new data."
   ],
   "cell_type": "markdown",
   "metadata": {}
  },
  {
   "source": [
    "## Machine Learning Applications\n",
    "\n",
    "Computer Vision\n",
    "- Image Classification (What bin does this image fit in)\n",
    "- Object Detection (Finding Objects in an image as well as locating them)\n",
    "- Object Recognition (Similar to Image Classification but with far less restrictions on classes)\n",
    "- Object Transfiguration (Deepfakes)\n",
    "\n",
    "Natural Language Processing and Decision Making Systems\n",
    "\n",
    "Machine Translation"
   ],
   "cell_type": "markdown",
   "metadata": {}
  }
 ]
}