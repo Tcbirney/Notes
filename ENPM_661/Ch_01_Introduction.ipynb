{
 "cells": [
  {
   "cell_type": "markdown",
   "metadata": {},
   "source": [
    "# Chapter 01: Introduction"
   ]
  },
  {
   "cell_type": "markdown",
   "metadata": {},
   "source": [
    "## 1.1 Planning to Plan\n",
    "\n",
    "The terms motion planning and trajectory planning are generally used to descibe theneed in robotics to have algorithms which convert high level specifications into low level descriptions of high to move.\n",
    "\n",
    "A classical example of how to accomplish this task is the piano mover's problem, which analyzes the problem of how to theoretically move a piano from one room to another without running into anything.\n",
    "\n",
    "Motion planning usually ignores dynamics and other differential constraints, but sometimes it does consider things such as uncertanties and optimality.\n",
    "\n",
    "Control theory has historically ben concerned with designing inputs to physical systems described by differential equations, such as automobiles. Control theory develops feedback policies, which enable an adaptive response during execution, and ficuses on stability which ensures that the dynamics do not cause the system to lose control.\n",
    "\n",
    "Contorl theory also tries to optimize power consumption for the needs of the machine.\n",
    "\n",
    "In artificial intelligence, planning and AI take on more discrete problem sets. Rather than having the coninutous spaces which are present in the real world, most AI algorithms make choices which make discrete alterations to the state space of the envrinonment. Historically, planning has been treated differently than problem solving, however recently the distinction has faded. Nonetheless, we consider the code which completes planning operations to be a subset of algorithms, which is why the book is called Planning Algorithms.\n",
    "\n",
    "This book will answer questions such as \n",
    "\n",
    "- What is a plan\n",
    "- How is a plan represented and computed\n",
    "- What is a plan supposed to acheive\n",
    "- How is a plan evaluated\n",
    "\n",
    "The user of the plan is reffered to as either a robot or decision maker, and in AI its generally called an agent\n"
   ]
  },
  {
   "cell_type": "markdown",
   "metadata": {},
   "source": [
    "## 1.2 Motivational Examples and Applications\n",
    "\n",
    "### Discrete puzzles, operations and scheduling\n",
    "\n",
    "Discretizing motion combined with planning in continuous systems can solve complicted tasks \n",
    "\n",
    "\n",
    "### Motion Planning Puzzles\n",
    "\n",
    "Regularity and symeetrical components to puzzles allow for easier discretiation that other tasks in 3ds continuous space.\n",
    "\n",
    "### Mobile Robot Navigation\n",
    "\n",
    "Navigating a mobile robot in indoor envirnoments often requires obstacle avoidance in complex irregular environments, which is a perfect andidate for path plannign algorithms."
   ]
  },
  {
   "cell_type": "markdown",
   "metadata": {},
   "source": [
    "## 1.3 Basic Ingredients of Planning\n",
    "\n",
    "State:\n",
    "\n",
    "- Involves a state space that captures all possible situations that could arise. State represents the position and orientation of the robot, and all aspects of the envirnoment. State spaces can be continuousor discrete. State spaces are represented implicitly by the planning algorithm because in most cases the state space of the entire system is often too large to be stored or worked with by th plannign algorithm.\n",
    "\n",
    "Time: \n",
    "    \n",
    "- All plannign algorithms introcude steps that must be executed either over a duration of time in finite time steps, or executed sequentially in chronological order\n",
    "\n",
    "Actions:\n",
    "\n",
    "- A plan generates actions which manipulate the state. Actions and operators are terms common in artificial intelligence, and the repsective terms for robotic control are inputs and controls. In the planning controls it must be specified how the state chages take effect and who applies them.\n",
    "\n",
    "Initial And Goal States:\n",
    "- A planning problem usually involves starting in some initial state and trying to arrive at a specified goal state or any state in a set of goal states.\n",
    "\n",
    "Criterion:\n",
    "\n",
    "1. Feasibilty: Find a path that arrives at its goal state, regardless of efficiency\n",
    "2. Optimality: Find a feasible plan that optimizes performance in some carefully specified manner, ina ddition to arriving at a goal state.\n",
    "\n",
    "A Plan:\n",
    "- In general a plan imposes a specific strategy or behavior on a decision maker. A plan could simply be a series of actions to be taken, or could be more complicated. If it is impossible to predict future states, then a plan may introduce feedback and then make the next steps based on the current state. These are known as feedback or reactive plans. Sometimes the state also may not be measured, then we must determine the plan based on the informtion state, which is the m,ost up to date state dependednt on time up to this exact moment. The last \"online\" state."
   ]
  }
 ],
 "metadata": {
  "language_info": {
   "name": "python"
  },
  "orig_nbformat": 4
 },
 "nbformat": 4,
 "nbformat_minor": 2
}
