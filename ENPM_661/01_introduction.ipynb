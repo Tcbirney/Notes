{
 "cells": [
  {
   "cell_type": "markdown",
   "metadata": {},
   "source": [
    "\n",
    "\n",
    "3 kinds of robots\n",
    "\n",
    "-mobile\n",
    "-manipulators\n",
    "- point robots (which don't exist in real life)\n",
    "\n",
    "- 5 different levels of autonomy in robots\n",
    "\n",
    "Planning"
   ]
  },
  {
   "cell_type": "markdown",
   "metadata": {},
   "source": []
  }
 ],
 "metadata": {
  "language_info": {
   "name": "plaintext"
  },
  "orig_nbformat": 4
 },
 "nbformat": 4,
 "nbformat_minor": 2
}
