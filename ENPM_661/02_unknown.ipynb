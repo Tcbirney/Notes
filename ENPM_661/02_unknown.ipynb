{
 "cells": [
  {
   "cell_type": "markdown",
   "metadata": {},
   "source": [
    "## Project 1 Description"
   ]
  },
  {
   "cell_type": "markdown",
   "metadata": {},
   "source": [
    "# Path Planning"
   ]
  },
  {
   "cell_type": "markdown",
   "metadata": {},
   "source": [
    "Point robots\n",
    "- good basis for path planning, extensible\n",
    "\n",
    "Mobile Robots\n",
    "- point, ground, air, water based robots\n",
    "\n",
    "Manipulator Robots\n",
    "- Serial, parallel structures\n",
    "\n",
    "\n",
    "/# of dofs is number of degrees that can be locked before it loses all freedom of motion"
   ]
  },
  {
   "cell_type": "markdown",
   "metadata": {},
   "source": [
    "Geometric configuration of rovot\n",
    "\n",
    "Describes location of every point on the robots geometry\n",
    "\n"
   ]
  },
  {
   "cell_type": "markdown",
   "metadata": {},
   "source": [
    "Basic path planning problem statement\n",
    "\n",
    "- compute a continuous set of collision free configurations connecting the initial and goal configurations\n",
    "\n",
    "Required\n",
    "\n",
    "- Geometry of environment\n",
    "\n",
    "- Geometry and kinematics of robot: ONLY WHEN NOT POINT ROBOT\n",
    "\n",
    "- Initial and goal configurations\n",
    "\n"
   ]
  },
  {
   "cell_type": "markdown",
   "metadata": {},
   "source": [
    "## Search Strategies vs Search Algorithms\n",
    "\n",
    "Strategies are intuitive. How we discover the environent. \n",
    "Bidirectional, backwards, forwards, multidirectional\n",
    "\n",
    "\n",
    "Algorithms are the specific implementation of how we search, structured by out strategy"
   ]
  },
  {
   "cell_type": "markdown",
   "metadata": {},
   "source": [
    "## Initial and Goal State Definitions\n",
    "\n",
    "\n",
    "Combination of Goal Definitions, known and unknown variants of each of these\n",
    "Single Target, Multiple Target, Target Area\n",
    "\n",
    "\n",
    "## Constrain Deifnitions\n",
    "\n",
    "Obstacel avoidance map, dynamic constraints, kinematic constraints\n",
    "\n"
   ]
  },
  {
   "cell_type": "markdown",
   "metadata": {},
   "source": [
    "## Path Planning Type\n",
    "\n",
    "### Search Based Methods\n",
    "- Graph Based\n",
    "- Syatematic and probabalistic methods\n",
    "\n",
    "#### Systematic methods\n",
    "Action based planning, deterministic methods\n",
    "### Other\n",
    "\n",
    "#### Potential Field\n",
    "#### Bug Algorithms\n",
    "- Unknown envirnonment map\n",
    "- Unknown goal environment\n",
    "- Once a door is opened, follow a specific search rule (always turn left before we turn right) which guarantees that we search every area in the map."
   ]
  },
  {
   "cell_type": "markdown",
   "metadata": {},
   "source": [
    "## Path Optimizations"
   ]
  },
  {
   "cell_type": "markdown",
   "metadata": {},
   "source": [
    "## Action based planning\n",
    "\n",
    "1. formulate design problem\n",
    "- define a graph\n",
    "- define edges and vertex\n",
    "\n",
    "    Need to know initial and goal state, current state, time constaints (computation and execution), actions possible, criteria, and then the plan\n",
    "    \n",
    "2. Generate the graphs\n",
    "\n",
    "3. Search the graph\n",
    "- select search method\n",
    "- define a cost function\n",
    "\n",
    "4. Backtrack to find path"
   ]
  },
  {
   "cell_type": "markdown",
   "metadata": {},
   "source": [
    "state transistion graphs and connectivity graphs\n",
    "\n",
    "\n",
    "What does planning mean\n",
    "\n",
    "Find an action sequence to move from a start to a goal node."
   ]
  },
  {
   "cell_type": "markdown",
   "metadata": {},
   "source": [
    "## Defining action Sets\n",
    "\n",
    "Tuple, with one item for each degree of freedom, but accounting for the obstacle given the current space. Is the new node we are trying to generate gven the current node and deired action inside or outside the obstacle boundary \n",
    "\n",
    "So if we only have freedome in x and y, then "
   ]
  },
  {
   "cell_type": "markdown",
   "metadata": {},
   "source": [
    "## Graphs\n",
    "\n",
    "### Directed Graphs\n",
    "\n",
    "Edges only go one way. \n",
    "\n",
    "\n",
    "### Workspace Configuration Space\n",
    "\n",
    "Config space is a way of visualizing the state of an entire system as a single point in a higher dimension space. For each configuration of the robot we stack the obstacle space of the robot to get each possible workspace for each possible configuration\n",
    "\n",
    "Configuration space is the aggregation all state spaces for each configuration, used when treating our robot as a single point robot.\n",
    "\n",
    "\n",
    "### Graphs\n",
    "\n",
    "On;y a theoretical tool. Edges represent tragectories, nodes represent configurations"
   ]
  },
  {
   "cell_type": "markdown",
   "metadata": {},
   "source": [
    "### Formulate the Planning Problem\n",
    "\n",
    "Example 1: 8 Puzzle\n",
    "\n",
    "Moves the blank, not the piece.\n",
    "\n",
    "Most time efficient way to do so is to create a graph, which would be able to arbitrarily select start and goal positions"
   ]
  },
  {
   "cell_type": "markdown",
   "metadata": {},
   "source": []
  }
 ],
 "metadata": {
  "language_info": {
   "name": "python"
  },
  "orig_nbformat": 4
 },
 "nbformat": 4,
 "nbformat_minor": 2
}
