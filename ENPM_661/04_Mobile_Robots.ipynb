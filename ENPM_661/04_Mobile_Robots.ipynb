{
 "cells": [
  {
   "cell_type": "markdown",
   "metadata": {},
   "source": [
    "# Mobile Robots\n",
    "\n",
    "## Decisions During Planner Design\n",
    "\n",
    "- Robot Representation\n",
    "\n",
    "- Scene Representation\n",
    "\n",
    "- Planning Space Representation/ Design of Control Action Set\n",
    "\n",
    "- Type of Search Alg\n",
    "\n",
    "- Plan Optimization Criteria\n",
    "\n",
    "- Motion and Sensing Uncertainty\n",
    "\n",
    "\n",
    "## Planning Challenges\n",
    "\n",
    "Holonomic and Non Holonomic Constraints\n",
    "\n",
    "For example in a real car our motion is limited with left and right translational movesets\n",
    "\n",
    "Differential Constraints = DIfferential Constraints\n",
    "\n",
    "Complex Interactions and Dynamic Obstacles\n",
    "- planning wrt to time\n",
    "- reasoning objects behavior\n",
    "\n",
    "\n",
    "Strict Time PLanning\n",
    "- any time planner\n",
    "    - outputs path which is not optimal but feasible\n",
    "    - path gradually improves as more time is available\n",
    "\n",
    "Momentum Due to Robot Dynamics\n"
   ]
  },
  {
   "cell_type": "markdown",
   "metadata": {},
   "source": [
    "## Defining Graph Generation Strategy\n",
    "\n",
    "1. Path plan without worrying about holonomic, dynamic, or time constraints\n",
    "2. Apply smoothing in order to satisfy dynamic and holonomic movement constraints\n",
    "3. Apply a state feedback loop to consider robots current state and future state possibilities\n",
    "\n",
    "\n",
    "This can be extremely inefficient due to poor planning choices with no constraints\n",
    "\n",
    "OR\n",
    "\n",
    "we can plan while also considering all constraints. At each branching state we consider the likelyhood that we will break our holonomic or dynamic constraints in the future.\n"
   ]
  },
  {
   "cell_type": "markdown",
   "metadata": {},
   "source": [
    "## Search Based Methods\n"
   ]
  },
  {
   "cell_type": "markdown",
   "metadata": {},
   "source": [
    "\n",
    "### Dijkstra Search\n",
    "\n",
    "Implemented using  a __Priority Queue__\n",
    "\n",
    "initially we will assign cost of each node to infinity. This allows us to not keep track of visited nodes, because any node which has a cost of infiinity is unvisited. As we explore different branches of the graph, we will only assign to each node the smallest cost to come, and then we will also keep track of which parent node formed the edge of that smallest cost path. Once all mediate next states form a current node are visited, we will close the current branch.\n",
    "\n",
    "At each step, we are calculating the optimal path to each node. So if the goal node changes to one that we have already determined the shortest path for, we don't need to recalculate the graph. we just need to backtrack from the new goal.\n",
    "\n",
    "C*(x) = _Cost to Come algorithm_\n",
    "- cost to come to a caertain node from start\n",
    "\n",
    "G(x) = _Cost to Go_ \n",
    "- cost to move from current node to the next node\n",
    "\n",
    "\n",
    "#### Best First Search vs Dijkstra\n",
    "\n",
    "Best frist is greedy and only considers singular edge costs. Dijkstra chooses the path which has the lowest overall cost. Dijkstra __always__ gives us an optimal path, whereas greedy search may only do it sometimes.\n",
    "\n",
    "\n",
    "#### Important roperties\n",
    "\n",
    "We cannot have an edge with a cost of zero or less.\n",
    "\n",
    "The subpath of any shortest path is in itself a shortest path.\n",
    "\n",
    "\n",
    "#### Dijkstra Practicality\n",
    "\n",
    "Why is Dijkstra Slow?\n",
    "The dijkstra algorithm does not use information abput the goal node.It only uses information about nodes it has explored.\n",
    "\n",
    "\n",
    "Which search strategy should we use? Forwards or Backwards\n",
    "\n",
    "It depends on which state is fixed. If the goal node is always ixed, then we can use backwards search to determine the shortest path from the goal node to any other node, which accounts for variable starting locations. Likewise if the starting location is lways guaranteed, then we can use forward search to calculate the shortest path to any other possible goal node.\n",
    "\n",
    "Dijkstra is usefull for dynamc obstacles because we have to implement backwards search. This is because if the obstacle moves during execution, then the robot can be considered to be in a new starting location as well as the obstacle, however the goal node will remain the same. And we would be able to reuse a lot of our generated graph depending on how much the obstacle obscure the old graph.\n"
   ]
  },
  {
   "cell_type": "markdown",
   "metadata": {},
   "source": [
    "### A* Search (Heuristic Search)\n",
    "\n",
    "COst to go is the heuristic function from each node to the goal node.\n",
    "\n",
    "Admissible heuristic function - this number is always an optimistic underestimate of the cost to go.\n",
    "\n",
    "\n",
    "Heuristics are usually manhattan distance or euclidean distance.\n",
    "\n",
    "We end up alternating between paths each time the path come cost + go cost is not the quickest.\n",
    "\n",
    "Differs from Dijkstra mainly in that we consider a future cost heuristic.\n",
    "\n"
   ]
  },
  {
   "cell_type": "markdown",
   "metadata": {},
   "source": []
  }
 ],
 "metadata": {
  "language_info": {
   "name": "python"
  },
  "orig_nbformat": 4
 },
 "nbformat": 4,
 "nbformat_minor": 2
}
