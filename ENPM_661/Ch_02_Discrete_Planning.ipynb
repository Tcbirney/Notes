{
 "cells": [
  {
   "cell_type": "markdown",
   "metadata": {},
   "source": [
    "# Chapter 2: Discrete Planning"
   ]
  },
  {
   "cell_type": "markdown",
   "metadata": {},
   "source": []
  },
  {
   "cell_type": "markdown",
   "metadata": {},
   "source": [
    "## 2.1 Introduction to Discrete Feasible Planning\n",
    "\n",
    "Our planning model will be defined by our state space models. Each distinct situation for the world is a state, denoted with $x$, and the set of all possible states is $X$. In discrete planning, $X$ must be countable, and in almost all cases should be finite. We should be csarefull when defining our state space so that only relevant information is included and we are not wasting storage/computational space.\n",
    "\n",
    "The world may be transformed through the application of actions that are hosen by the planner. Each action $u$, when applied from the current sttate, produces a new state $x'$ as specified by a state transition function $f$. In other words\n",
    "\n",
    "$$x' = f(x, u)$$\n",
    "\n",
    "Let $U(x)$ denote the action space of the for each state $x$, which represents the set of all actions that could be applied from $x$. \n",
    "\n",
    "We can also notate the intiial state and goal state sets as $x_I$ and $X_G \\in X$"
   ]
  },
  {
   "cell_type": "markdown",
   "metadata": {},
   "source": []
  }
 ],
 "metadata": {
  "language_info": {
   "name": "python"
  },
  "orig_nbformat": 4
 },
 "nbformat": 4,
 "nbformat_minor": 2
}
