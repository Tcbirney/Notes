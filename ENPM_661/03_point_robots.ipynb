{
 "cells": [
  {
   "cell_type": "markdown",
   "metadata": {},
   "source": [
    "planning checklist\n",
    "\n",
    "forumulate planning problem\n",
    "- define a graph\n",
    "- define edges and vertices\n",
    "\n",
    "need state, initial and goal state, \n",
    "\n",
    "select appropriate search strategy\n",
    "\n",
    "generate the graph\n",
    "- if there are obstacles, then remove state space nodes which are insode the obstcle using a collision detector\n",
    "\n",
    "\n",
    "\n",
    "reminder that the configuration space is just the workspace in a higher dimension space which converts the non point robot into a point robot given its possible actions per state\n",
    "\n",
    "\n",
    "workspce connectivity\n",
    "- discrete vs continuous spaces\n",
    "\n",
    "state transtion graph shows all connected nodes in state space\n"
   ]
  },
  {
   "cell_type": "markdown",
   "metadata": {},
   "source": [
    "## Path Planning Methods"
   ]
  },
  {
   "cell_type": "markdown",
   "metadata": {},
   "source": [
    "## Systematic vs Non Systematic Search Methods\n",
    "\n",
    "Apply same search algorthm for each node ignoring any heuristic function relative to goal. No redundancy\n",
    "Systematic functions\n",
    "\n",
    "\n",
    "Problem with unlimited workspaces. Systematic solutions always find a solution when one exists."
   ]
  },
  {
   "cell_type": "markdown",
   "metadata": {},
   "source": [
    "### Best First Search (Greedy)\n",
    "\n",
    "Makes the best local choice at each decision point. Not guaranteed to find an optimal solution because we could experience unexpected higher costs after an earlier branching decisions have been made\n",
    "\n"
   ]
  },
  {
   "cell_type": "markdown",
   "metadata": {},
   "source": [
    "### Brute Force Search (Exhustive)\n",
    "\n",
    "Explores all possible combinations of travel and finds the minimum cost path. Guarantees optimality.\n",
    "\n",
    "$O(|U|^K)$"
   ]
  },
  {
   "cell_type": "markdown",
   "metadata": {},
   "source": [
    "### Breadth First Search\n",
    "\n",
    "FIFO queue, add possible nodes as we encounter them and explore them in order as we. Often back tracks but can be useful for shallow or adjacent state transitions"
   ]
  },
  {
   "cell_type": "markdown",
   "metadata": {},
   "source": [
    "### Depth First \n",
    "\n",
    "Uncovers all children of one parent node bfore it moves on to next parent. Often does not find optimal solution without a modification souch as iterative deepening.\n",
    "\n",
    "Used if a tree has a high branching factor b. Converts dfs to a systematic approach"
   ]
  },
  {
   "cell_type": "markdown",
   "metadata": {},
   "source": [
    "## Representing the Configuration Space (Inverse Obstacle Space)\n",
    "\n",
    "Define a map using a 2d matrix. Indexing over an array which contains a data structure defining all state qualities.\n",
    "\n",
    "Reminder point robot conversion can be done by expanding obstacle boundary by the radius of the rotated robot, and the discretize the following state space. \n",
    "\n",
    "Ths metod can represent complicated maps, but is resolution dependent, and does not account for dynamic obstacles.\n",
    "\n",
    "\n",
    "\n",
    "Use polygonal models\n",
    "\n",
    "Use a solid represenation of a convex polygon\n",
    "\n",
    "convex = pointy"
   ]
  },
  {
   "cell_type": "markdown",
   "metadata": {},
   "source": []
  }
 ],
 "metadata": {
  "language_info": {
   "name": "python"
  },
  "orig_nbformat": 4
 },
 "nbformat": 4,
 "nbformat_minor": 2
}
