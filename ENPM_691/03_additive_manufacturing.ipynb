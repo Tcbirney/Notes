{
 "cells": [
  {
   "cell_type": "markdown",
   "metadata": {},
   "source": [
    "## what is additive manufacturing\n",
    "\n",
    "additive process rather than subtractive in cncs\n",
    "\n",
    "joins material layer by layer into a final shape.\n",
    "\n",
    "cad -> slt conversion -> ftp -> build -> remove -> post process -> application\n",
    "\n",
    "need slicers which produce gcode, which is a 3d path for each layer, and includes material deposition command information, sensor information, temperature information"
   ]
  },
  {
   "cell_type": "markdown",
   "metadata": {},
   "source": [
    "## Additive Manufacturing Taxonomy\n",
    "\n",
    "System Tech\n",
    "- lazer, nozzle, printer\n",
    "\n",
    "Material State\n",
    "- liquid, powder, solid\n",
    "\n",
    "Material Based\n",
    "- polymer, metal, ceramic, composites\n",
    "\n",
    "\n",
    "### Binder jetting:\n",
    "Inkjet nozzle deposits liquid bonding agent to join power materials in a powder bed\n",
    "\n",
    "### Direct energy Deposition\n",
    "Utilizes Thermal energy Typically from a alazer to fuse materials by meliting them as they are deposited. Kind of like sculpting using a welder\n",
    "\n",
    "### Material Extrusion\n",
    "Classic FDM printer\n",
    "\n",
    "### Material jetting\n",
    "Moving inkjet nozzle to deposit material across a build area. imilar to resin printing except mateial is deposited and then cured.\n",
    "\n",
    "### Powder bed fusion\n",
    "Process uses thermal energy from a laser or electron beam to selectively fuse powder in a powder bed\n",
    "\n",
    "### Sheet maniation\n",
    "Ues sheets of bonded material to form a 3d object. Similar to pcb etching\n",
    "\n",
    "### Vat Polymerization\n",
    "Cure a liquid to a build plate using light"
   ]
  },
  {
   "cell_type": "markdown",
   "metadata": {},
   "source": [
    "Additive manufacturing reduces time and waste while trying to achieve a functoinal prototype of products. Allows complex geometries that are practically impossible using traditional manufacturing processes. Adds changes to traditional supply chains.\n",
    "\n",
    "Allows for more accessible economies of scale and customization to products\n"
   ]
  },
  {
   "cell_type": "markdown",
   "metadata": {},
   "source": []
  }
 ],
 "metadata": {
  "language_info": {
   "name": "python"
  },
  "orig_nbformat": 4
 },
 "nbformat": 4,
 "nbformat_minor": 2
}
