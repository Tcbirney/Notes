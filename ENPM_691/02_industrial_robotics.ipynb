{
 "cells": [
  {
   "cell_type": "markdown",
   "metadata": {},
   "source": [
    "## Industrial Robot\n",
    "\n",
    "\n",
    "general purpose programmible machine processing certain anthropomorphic characteristics\n",
    "\n",
    "Can be substituted in place for a human in hazardous scenarios\n",
    "\n",
    "Performs consistent work\n",
    "\n",
    "can beconnected to computer systems to achieve integrated manufacturing\n",
    "\n",
    "mechanical arm\n",
    "\n"
   ]
  },
  {
   "cell_type": "markdown",
   "metadata": {},
   "source": [
    "## Robot Anatomy\n",
    "\n",
    "Manipulator\n",
    "\n",
    "Consists of links and joints\n",
    "\n",
    "eahc joint provides a degree of freedom\n",
    "\n",
    "Most manipulators consist of a body and arm and then a spherical wrist\n",
    "\n",
    "### Types of joints\n",
    "\n",
    "Translational Motion\n",
    "- linear, type l, extends and retracts in the same direction as the link\n",
    "- orthogonal, type o, links are joined orthogonally and slides in the direction as the first link\n",
    "\n",
    "Rotary Motion\n",
    "- Rotational, type r, tradisional elbow\n",
    "- Twisting, type t, like a hand twists on a forearm\n",
    "- Reolving, type v, like twisting except joints are fixed orthogonally\n",
    "\n",
    "A manipularot can be described using the notation of TRL:TR\n",
    "\n",
    "where the colon separates the body specs form the wrist specs\n",
    "\n",
    "End effector is the finger. Gripper or tool\n",
    "\n",
    "\n",
    "### Body and Arm configs\n",
    "\n",
    "Polar\n",
    "- r and theta are the dofs\n",
    "\n",
    "Cylindrical\n",
    "- r, theta, and z are dofs\n",
    "\n",
    "Cartesian\n",
    "- x, y, z are dofs\n",
    "\n",
    "Jointed Arm Robot\n",
    "- joint values are dofs\n",
    "\n",
    "Selective compliant Assembly Robot Arm\n",
    "- typically does not have a wrist\n",
    "\n",
    "### Wrist configs\n",
    "\n",
    "RRT for most wrists\n",
    "\n",
    "Wrists usuallyhave 2 to 3 dofs. COntrols roll pitch yaw of end effector gioven the current configuration of the body\n",
    "\n",
    "Work volume = workspace\n",
    "\n",
    "Separated into reachjable and dextrous workspaces\n",
    "\n"
   ]
  },
  {
   "cell_type": "markdown",
   "metadata": {},
   "source": [
    "## Joint Drive systems\n",
    "\n",
    "### Electric Drive\n",
    "\n",
    "Use electric motors, done in sophisticated industry robotics\n",
    "\n",
    "Adaptible to computer control\n",
    "\n",
    "### Hydraulic\n",
    "\n",
    "Used in linear pistons and rotary vane actuators\n",
    "\n",
    "- better speed and strength\n",
    "- noted for high lift and power capabilities\n",
    "\n",
    "### Pneumatic Drive\n",
    "\n",
    "Used in linear pistons and rotary vanes like hydraulics\n",
    "- limited to smaller robots in simple material transfer applications\n",
    "\n",
    "### Joint Drive systems\n",
    "\n",
    "Dynamic response: depends on drive systems, position sensors, and feedback control systems for joints (encoders or lidar)\n",
    "\n",
    "Speed of response: time requ9ired to move where we want\n",
    "\n",
    "Stability: overshoot and oscillations inherent to practicle applications.\n",
    "\n",
    "Load Carying Capabilities - how much force/work can the end effector can the end effector transmit"
   ]
  },
  {
   "cell_type": "markdown",
   "metadata": {},
   "source": [
    "## Robotic Control Systems\n",
    "\n",
    "1. Limited sequence control\n",
    "- simple motion like pick and place\n",
    "\n",
    "2. PLayback with point to point control\n",
    "- training the robot by hand and then replicating\n",
    "\n",
    "3. PLayback with continuous path control\n",
    "- Capable of greater storage capacity and/or interpolation calculations. Error correcting sometimes\n",
    "\n",
    "4. Intelligent control\n",
    "- can work with dynamic environments and subjects and make choices based on the current situation\n",
    "\n",
    "\n",
    "Each joint usually has a feed back component and is fed back into the microcontroller to run the robot"
   ]
  },
  {
   "cell_type": "markdown",
   "metadata": {},
   "source": [
    "## Sensors in robotics\n",
    "\n",
    "Internal sensors, potentiometers, encoders, hall sensors\n",
    "\n",
    "External sensors, photometers, lidar, limit switches, cameras\n"
   ]
  },
  {
   "cell_type": "markdown",
   "metadata": {},
   "source": [
    "## Robot Programming\n",
    "\n",
    "A robot program is defined as a path in space to be followed by the manipulator combined with peripheral actiona that support the work cycle. Robot must be programmed to perform its work cycle\n",
    "\n",
    "### Programming Methods\n",
    "\n",
    "1. Leadthrough\n",
    "\n",
    "Task is taught to robot by moving the end effector though its required motion cycle, simultaneouslyentering the program into the controller memory for subsequent playback >Uses the teahc pendant to manually alter joint values/velocities\n",
    "\n",
    "Powered Leadthrough: Cpmmon for point to point robotics and playback robotics\n",
    "\n",
    "manual Leadthrough - used for playback robotics with a continous path. This is the true \"teaching\"\n",
    "\n",
    "\n",
    "### Coordinate Frames\n",
    "\n",
    "We can also mathematically control our robot to understand out orld in terms of the world frame and the tool frame, and make movements to close the loop between where the robot thinks its end effector is and where it thinks the goal location of the ened effector is.\n",
    "\n",
    "\n",
    "2. Robot programming languages\n",
    "\n",
    "Textual Progtrsmming languages- normal c++/python code controlled robot\n",
    "\n",
    "Motion programming- thihgs liek moveit where we can have a combination aof textual and leadthrough planning\n",
    "\n",
    "3. Simulationand Offline programming\n",
    "\n",
    "motion path can be preparred at an offsite computer and then transfered via wire to the robot"
   ]
  },
  {
   "cell_type": "markdown",
   "metadata": {},
   "source": [
    "### Robot accuracy and repeatability\n",
    "\n",
    "control resolution - what is the granularity of motion that the robot has\n",
    "\n",
    "repeatability - measure the robts ability to positio its end effector and wrists at a previously tauhght point\n",
    "\n",
    "acuracy - same thing"
   ]
  },
  {
   "cell_type": "markdown",
   "metadata": {},
   "source": [
    "### Computer Process Interface\n",
    "\n",
    "The computer must collect data from and transmit data to the productio process.components must be able to implement\n",
    "-sensors, actuators, devices for adc and dac, io devices for discrete data\n",
    "\n"
   ]
  },
  {
   "cell_type": "markdown",
   "metadata": {},
   "source": [
    "## Limitations of Collaborative Robot SYstems\n",
    "\n",
    "May require a restricted working area to ensure employees safety. Work speed may also be restriced for the same reason.Sometimes robots cannot work without human intervention."
   ]
  },
  {
   "cell_type": "markdown",
   "metadata": {},
   "source": []
  }
 ],
 "metadata": {
  "language_info": {
   "name": "python"
  },
  "orig_nbformat": 4
 },
 "nbformat": 4,
 "nbformat_minor": 2
}
