{
 "cells": [
  {
   "cell_type": "markdown",
   "metadata": {},
   "source": [
    "manufacturing- making shit\n",
    "adds value\n",
    "\n",
    "automation - making shit automatically\n",
    "\n",
    "there are different calsses of manufactoring based on the product made\n",
    "ISIC classifications\n",
    "\n",
    "Industry Classfications\n",
    "\n",
    "Process Industries - Chemicals, petroleum, basic metals, food, pwer\n",
    "Use continuous and batch processes\n",
    "\n",
    "\n",
    "Discrete Product and Part Industries - cars, aircraft, appliances, machinery\n",
    "\n",
    "-Also uses contuous and batch proceses\n",
    "\n",
    "\n",
    "For process industries, we can segment inputs and outputs into continuous and discrete and batched and non batched. Those levels are not mutually exclusive. We can have a process which deals in batched continous, batched discrete, nonbatched continous, and non batched discrete inputs and outputs\n",
    "\n",
    "\n",
    "There are different types of processes\n",
    "\n",
    "Processing OPerations\n",
    "\n",
    "transforms a work material from one state of completion to a more advanced state using energy to alter its shape, properties or appearance to add value to the material\n",
    "\n",
    "\n",
    "- Shaping\n",
    "    - Solidification\n",
    "    - Particulate Processing\n",
    "    - Deformation\n",
    "    - Material removal\n",
    "- Property enhancing\n",
    "    - Heat Treatment\n",
    "- Surface Processing\n",
    "    - Cleaning and Surface Treating\n",
    "    - Coating and Deposition\n",
    "\n",
    "Assembly Operations\n",
    "\n",
    "joins two or more components to create a new entity which is called an assembly/subassembly\n",
    "- Joining Processes\n",
    "    - Welding\n",
    "    - Brazing and Soldering\n",
    "    - Adhesive Bonding\n",
    "- Mechanical Fastening\n",
    "    - Threaded Fasteners\n",
    "    - Permanent Fastening\n",
    "\n",
    "Material Handling a means of moving and storing matertials betweem processing and or assembly operations.\n",
    "- material transport\n",
    "- vehicles\n",
    "- conveyors\n",
    "- Hoists and cranes\n",
    "- Storage systems\n",
    "- unitizing equipment\n",
    "- automatic identification and data capture\n",
    "    - bar codes\n",
    "    - rfid\n",
    "\n"
   ]
  },
  {
   "cell_type": "markdown",
   "metadata": {},
   "source": [
    "The majority of time thta a amterial experiences in the factory is spend moving and waiting. And Of the small amount of time that is spent in a machine, the majority is spent loading and positioning rather than in a process or assembly operation"
   ]
  },
  {
   "cell_type": "markdown",
   "metadata": {},
   "source": [
    "Inspection and Testing\n",
    "\n",
    "Inspection- examination of the product and its components t determine whether they conform to design specs\n",
    "\n",
    "Testing - Observing the product or part during actual operation or under conditionas similar to those of real world use\n",
    "\n",
    "Coordination and control\n",
    "\n",
    "Regulation of the individual processing and assembly operations.\n",
    "- process control \n",
    "- quality control\n",
    "\n",
    "Management of plant level activities\n",
    "- production planning and control\n",
    "- quality control\n"
   ]
  },
  {
   "cell_type": "markdown",
   "metadata": {},
   "source": [
    "Today a lot of production ahs been outsourced, with globalized decentralized production facilities. This leads to increased global competition."
   ]
  },
  {
   "cell_type": "markdown",
   "metadata": {},
   "source": [
    "Automation is theapplication of computer based or mechanical systems to operate and control production.\n",
    "\n",
    "Manufacturing Systems\n",
    "\n",
    "Manual Work Systems - a worker performs one or more operations on a part, or material, without the aide of power tools\n",
    "\n",
    "Worker-Machine Systems - A worker operatign powered equipment\n",
    "\n",
    "Automated Systems - A process performed by a machine without direct participation of humans"
   ]
  },
  {
   "cell_type": "markdown",
   "metadata": {},
   "source": [
    "Manufacturing Approaches and Technologies\n",
    "\n",
    "Automation - automated equipment\n",
    "\n",
    "Material Handling Tech - manufacturing usually involvesa sequence of activities.\n",
    "\n",
    "manufacturing systems - integration and coordination of multiple automated or manual workstations\n",
    "\n",
    "flexible manufacturing - to compete in low volume/high mix product categories\n",
    "\n",
    "Quality programs - to achieve the high quality expected \n",
    "CIM - to integrate design, productio, and logistics"
   ]
  },
  {
   "cell_type": "markdown",
   "metadata": {},
   "source": [
    "Automated Manufacturing Systems\n",
    "\n",
    "Fixed Automation - sequence of processing or assembly operations is fixed by the equipment configuration\n",
    "\n",
    "Programmable Automation - sequence of events can be changed to accomodate different product configurations\n",
    "\n",
    "Flexible automation - an extension of programmible automation in which the system iscapable of changing over from one job to another with no lost time between jobs\n"
   ]
  },
  {
   "cell_type": "markdown",
   "metadata": {},
   "source": [
    "Manufacturing Capability\n",
    "\n",
    "3 dimensions of manufactruring capability\n",
    "\n",
    "tech processing capability- available set of manufacturing processes\n",
    "\n",
    "physical size and weight of the product\n",
    "\n",
    "plant capacity - max production quantity that can be made ina  given amount of time\n"
   ]
  },
  {
   "cell_type": "markdown",
   "metadata": {},
   "source": [
    "## Performance Metrics\n",
    "\n",
    "Production Rate: Rp\n",
    "\n",
    "Cycle Time: Time Cycle\n",
    "\n",
    "Production Capacity: PC\n",
    "\n",
    "Utilization: U\n",
    "\n",
    "Availability: A\n",
    "\n",
    "Manufacturing Lead time: MLT\n",
    "\n",
    "Work In Progress: WIP\n",
    "\n"
   ]
  },
  {
   "cell_type": "markdown",
   "metadata": {},
   "source": [
    "## Elements of Automated System\n",
    "\n",
    "Power\n",
    "\n",
    "Programm of Instructions\n",
    "\n",
    "Control System\n",
    "- needs an input paramter\n",
    "- a process (operation) to control\n",
    "- a sensor to measure output in closes loop systems\n",
    "- a controller compares output with input and makes adjustments to close loop\n",
    "- an adjustment action"
   ]
  },
  {
   "cell_type": "markdown",
   "metadata": {},
   "source": [
    "## Levels of Automation\n",
    "\n",
    "Device: Sensors, acutators, or other atomic components\n",
    "\n",
    "Machine: Individual Machcines like conveyor belts\n",
    "\n",
    "Cell or System Level: Assembly Line with worker machines\n",
    "\n",
    "Plant Level: Complete PLant Automation\n",
    "\n",
    "Enterprise Level: Every production environment which produces for a company is automated. Such as a corporate information system"
   ]
  },
  {
   "cell_type": "markdown",
   "metadata": {},
   "source": []
  }
 ],
 "metadata": {
  "language_info": {
   "name": "python"
  },
  "orig_nbformat": 4
 },
 "nbformat": 4,
 "nbformat_minor": 2
}
