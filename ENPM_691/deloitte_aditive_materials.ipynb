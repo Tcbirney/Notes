{
 "cells": [
  {
   "cell_type": "markdown",
   "metadata": {},
   "source": [
    "nusiness case for am is not fully understood \n",
    "\n",
    "enable for rapid prototyping\n",
    "\n",
    "can match traditional manufafturing methdos on a direct cost basis. Can create different markets and positions.\n",
    "\n",
    "AM removes the capital required to achieve economies of scale, thus lowering manufacturing barriers in any environment. Also increases the variety of products a unit of capital can produce. This reduces costss ssociated with production changeovers and customizations."
   ]
  },
  {
   "cell_type": "markdown",
   "metadata": {},
   "source": [
    "## Paths for Companies exploring AM\n",
    "\n",
    "Dont change anything raadially\n",
    "\n",
    "Change supply chains\n",
    "\n",
    "Chainge products\n",
    "\n",
    "Change supply chains and products\n",
    "\n",
    "\n"
   ]
  }
 ],
 "metadata": {
  "language_info": {
   "name": "python"
  },
  "orig_nbformat": 4
 },
 "nbformat": 4,
 "nbformat_minor": 2
}
