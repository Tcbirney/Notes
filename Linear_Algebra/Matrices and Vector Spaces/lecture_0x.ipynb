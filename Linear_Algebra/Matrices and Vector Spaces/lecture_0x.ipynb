{
 "cells": [
  {
   "cell_type": "markdown",
   "metadata": {},
   "source": [
    "# Independent joint model\n",
    "\n",
    "Given a derived current, we want to derive a PID controller which can supply the proper voltage\n",
    "\n"
   ]
  }
 ],
 "metadata": {
  "language_info": {
   "name": "python"
  },
  "orig_nbformat": 4
 },
 "nbformat": 4,
 "nbformat_minor": 2
}
