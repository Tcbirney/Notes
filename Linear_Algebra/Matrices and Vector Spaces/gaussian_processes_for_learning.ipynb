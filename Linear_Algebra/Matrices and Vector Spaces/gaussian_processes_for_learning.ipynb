{
 "cells": [
  {
   "cell_type": "markdown",
   "metadata": {},
   "source": [
    "rl is slow. Even for systems with simple dynamics and low dimensional state spaces\n",
    "\n",
    "In traditional methods we would either need task specific prior knowledge or extraction of extra information form the information given\n",
    "\n",
    "Model based methods, ones which lean an explicit dynamics model of the environment are the most promising method to extract information from available data. But these are not widely used because they are prone to model errors"
   ]
  }
 ],
 "metadata": {
  "language_info": {
   "name": "python"
  },
  "orig_nbformat": 4
 },
 "nbformat": 4,
 "nbformat_minor": 2
}
